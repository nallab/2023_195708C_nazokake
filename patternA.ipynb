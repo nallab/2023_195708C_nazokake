{
  "nbformat": 4,
  "nbformat_minor": 0,
  "metadata": {
    "colab": {
      "provenance": [],
      "collapsed_sections": [
        "9jY3imvXfIuX",
        "HbI38W_zfS0N",
        "Qq0Xgj7CfDMZ",
        "W-xpg2FXfZIg",
        "6bXjHQcWdFQ5",
        "6vqGmDeFfzII",
        "OQeccry5cJi_",
        "nYQSyLCud0cH",
        "UF4UCe2JdWgG",
        "h1KuTmcx-2Rr",
        "XT4dfiLY_Q5_"
      ]
    },
    "kernelspec": {
      "name": "python3",
      "display_name": "Python 3"
    },
    "language_info": {
      "name": "python"
    },
    "widgets": {
      "application/vnd.jupyter.widget-state+json": {
        "0117ae87ee0847229d6f5226fd6993a8": {
          "model_module": "@jupyter-widgets/controls",
          "model_name": "HBoxModel",
          "model_module_version": "1.5.0",
          "state": {
            "_dom_classes": [],
            "_model_module": "@jupyter-widgets/controls",
            "_model_module_version": "1.5.0",
            "_model_name": "HBoxModel",
            "_view_count": null,
            "_view_module": "@jupyter-widgets/controls",
            "_view_module_version": "1.5.0",
            "_view_name": "HBoxView",
            "box_style": "",
            "children": [
              "IPY_MODEL_0ec7d3f3137b4d9cb282016e696ff702",
              "IPY_MODEL_574c1db8e609471d91f9368dff65e7b0",
              "IPY_MODEL_0924e308ee2243d6ba7618522fce7146"
            ],
            "layout": "IPY_MODEL_8394d8c15b4f4527a1e3c4d2071be631"
          }
        },
        "0ec7d3f3137b4d9cb282016e696ff702": {
          "model_module": "@jupyter-widgets/controls",
          "model_name": "HTMLModel",
          "model_module_version": "1.5.0",
          "state": {
            "_dom_classes": [],
            "_model_module": "@jupyter-widgets/controls",
            "_model_module_version": "1.5.0",
            "_model_name": "HTMLModel",
            "_view_count": null,
            "_view_module": "@jupyter-widgets/controls",
            "_view_module_version": "1.5.0",
            "_view_name": "HTMLView",
            "description": "",
            "description_tooltip": null,
            "layout": "IPY_MODEL_0def3e90f6444798a0f98bf8de93b9df",
            "placeholder": "​",
            "style": "IPY_MODEL_a91cf27a150546a4ac9c8f7c573d7066",
            "value": "Downloading: 100%"
          }
        },
        "574c1db8e609471d91f9368dff65e7b0": {
          "model_module": "@jupyter-widgets/controls",
          "model_name": "FloatProgressModel",
          "model_module_version": "1.5.0",
          "state": {
            "_dom_classes": [],
            "_model_module": "@jupyter-widgets/controls",
            "_model_module_version": "1.5.0",
            "_model_name": "FloatProgressModel",
            "_view_count": null,
            "_view_module": "@jupyter-widgets/controls",
            "_view_module_version": "1.5.0",
            "_view_name": "ProgressView",
            "bar_style": "success",
            "description": "",
            "description_tooltip": null,
            "layout": "IPY_MODEL_71ad5cdec2594da790185d018ad7c54a",
            "max": 479,
            "min": 0,
            "orientation": "horizontal",
            "style": "IPY_MODEL_ac399fa8c1754eb59f8d9998462c5e11",
            "value": 479
          }
        },
        "0924e308ee2243d6ba7618522fce7146": {
          "model_module": "@jupyter-widgets/controls",
          "model_name": "HTMLModel",
          "model_module_version": "1.5.0",
          "state": {
            "_dom_classes": [],
            "_model_module": "@jupyter-widgets/controls",
            "_model_module_version": "1.5.0",
            "_model_name": "HTMLModel",
            "_view_count": null,
            "_view_module": "@jupyter-widgets/controls",
            "_view_module_version": "1.5.0",
            "_view_name": "HTMLView",
            "description": "",
            "description_tooltip": null,
            "layout": "IPY_MODEL_3111077589954787a6e30551db442955",
            "placeholder": "​",
            "style": "IPY_MODEL_a6d015e75c1049e0aa301fde3ee47e6e",
            "value": " 479/479 [00:00&lt;00:00, 28.1kB/s]"
          }
        },
        "8394d8c15b4f4527a1e3c4d2071be631": {
          "model_module": "@jupyter-widgets/base",
          "model_name": "LayoutModel",
          "model_module_version": "1.2.0",
          "state": {
            "_model_module": "@jupyter-widgets/base",
            "_model_module_version": "1.2.0",
            "_model_name": "LayoutModel",
            "_view_count": null,
            "_view_module": "@jupyter-widgets/base",
            "_view_module_version": "1.2.0",
            "_view_name": "LayoutView",
            "align_content": null,
            "align_items": null,
            "align_self": null,
            "border": null,
            "bottom": null,
            "display": null,
            "flex": null,
            "flex_flow": null,
            "grid_area": null,
            "grid_auto_columns": null,
            "grid_auto_flow": null,
            "grid_auto_rows": null,
            "grid_column": null,
            "grid_gap": null,
            "grid_row": null,
            "grid_template_areas": null,
            "grid_template_columns": null,
            "grid_template_rows": null,
            "height": null,
            "justify_content": null,
            "justify_items": null,
            "left": null,
            "margin": null,
            "max_height": null,
            "max_width": null,
            "min_height": null,
            "min_width": null,
            "object_fit": null,
            "object_position": null,
            "order": null,
            "overflow": null,
            "overflow_x": null,
            "overflow_y": null,
            "padding": null,
            "right": null,
            "top": null,
            "visibility": null,
            "width": null
          }
        },
        "0def3e90f6444798a0f98bf8de93b9df": {
          "model_module": "@jupyter-widgets/base",
          "model_name": "LayoutModel",
          "model_module_version": "1.2.0",
          "state": {
            "_model_module": "@jupyter-widgets/base",
            "_model_module_version": "1.2.0",
            "_model_name": "LayoutModel",
            "_view_count": null,
            "_view_module": "@jupyter-widgets/base",
            "_view_module_version": "1.2.0",
            "_view_name": "LayoutView",
            "align_content": null,
            "align_items": null,
            "align_self": null,
            "border": null,
            "bottom": null,
            "display": null,
            "flex": null,
            "flex_flow": null,
            "grid_area": null,
            "grid_auto_columns": null,
            "grid_auto_flow": null,
            "grid_auto_rows": null,
            "grid_column": null,
            "grid_gap": null,
            "grid_row": null,
            "grid_template_areas": null,
            "grid_template_columns": null,
            "grid_template_rows": null,
            "height": null,
            "justify_content": null,
            "justify_items": null,
            "left": null,
            "margin": null,
            "max_height": null,
            "max_width": null,
            "min_height": null,
            "min_width": null,
            "object_fit": null,
            "object_position": null,
            "order": null,
            "overflow": null,
            "overflow_x": null,
            "overflow_y": null,
            "padding": null,
            "right": null,
            "top": null,
            "visibility": null,
            "width": null
          }
        },
        "a91cf27a150546a4ac9c8f7c573d7066": {
          "model_module": "@jupyter-widgets/controls",
          "model_name": "DescriptionStyleModel",
          "model_module_version": "1.5.0",
          "state": {
            "_model_module": "@jupyter-widgets/controls",
            "_model_module_version": "1.5.0",
            "_model_name": "DescriptionStyleModel",
            "_view_count": null,
            "_view_module": "@jupyter-widgets/base",
            "_view_module_version": "1.2.0",
            "_view_name": "StyleView",
            "description_width": ""
          }
        },
        "71ad5cdec2594da790185d018ad7c54a": {
          "model_module": "@jupyter-widgets/base",
          "model_name": "LayoutModel",
          "model_module_version": "1.2.0",
          "state": {
            "_model_module": "@jupyter-widgets/base",
            "_model_module_version": "1.2.0",
            "_model_name": "LayoutModel",
            "_view_count": null,
            "_view_module": "@jupyter-widgets/base",
            "_view_module_version": "1.2.0",
            "_view_name": "LayoutView",
            "align_content": null,
            "align_items": null,
            "align_self": null,
            "border": null,
            "bottom": null,
            "display": null,
            "flex": null,
            "flex_flow": null,
            "grid_area": null,
            "grid_auto_columns": null,
            "grid_auto_flow": null,
            "grid_auto_rows": null,
            "grid_column": null,
            "grid_gap": null,
            "grid_row": null,
            "grid_template_areas": null,
            "grid_template_columns": null,
            "grid_template_rows": null,
            "height": null,
            "justify_content": null,
            "justify_items": null,
            "left": null,
            "margin": null,
            "max_height": null,
            "max_width": null,
            "min_height": null,
            "min_width": null,
            "object_fit": null,
            "object_position": null,
            "order": null,
            "overflow": null,
            "overflow_x": null,
            "overflow_y": null,
            "padding": null,
            "right": null,
            "top": null,
            "visibility": null,
            "width": null
          }
        },
        "ac399fa8c1754eb59f8d9998462c5e11": {
          "model_module": "@jupyter-widgets/controls",
          "model_name": "ProgressStyleModel",
          "model_module_version": "1.5.0",
          "state": {
            "_model_module": "@jupyter-widgets/controls",
            "_model_module_version": "1.5.0",
            "_model_name": "ProgressStyleModel",
            "_view_count": null,
            "_view_module": "@jupyter-widgets/base",
            "_view_module_version": "1.2.0",
            "_view_name": "StyleView",
            "bar_color": null,
            "description_width": ""
          }
        },
        "3111077589954787a6e30551db442955": {
          "model_module": "@jupyter-widgets/base",
          "model_name": "LayoutModel",
          "model_module_version": "1.2.0",
          "state": {
            "_model_module": "@jupyter-widgets/base",
            "_model_module_version": "1.2.0",
            "_model_name": "LayoutModel",
            "_view_count": null,
            "_view_module": "@jupyter-widgets/base",
            "_view_module_version": "1.2.0",
            "_view_name": "LayoutView",
            "align_content": null,
            "align_items": null,
            "align_self": null,
            "border": null,
            "bottom": null,
            "display": null,
            "flex": null,
            "flex_flow": null,
            "grid_area": null,
            "grid_auto_columns": null,
            "grid_auto_flow": null,
            "grid_auto_rows": null,
            "grid_column": null,
            "grid_gap": null,
            "grid_row": null,
            "grid_template_areas": null,
            "grid_template_columns": null,
            "grid_template_rows": null,
            "height": null,
            "justify_content": null,
            "justify_items": null,
            "left": null,
            "margin": null,
            "max_height": null,
            "max_width": null,
            "min_height": null,
            "min_width": null,
            "object_fit": null,
            "object_position": null,
            "order": null,
            "overflow": null,
            "overflow_x": null,
            "overflow_y": null,
            "padding": null,
            "right": null,
            "top": null,
            "visibility": null,
            "width": null
          }
        },
        "a6d015e75c1049e0aa301fde3ee47e6e": {
          "model_module": "@jupyter-widgets/controls",
          "model_name": "DescriptionStyleModel",
          "model_module_version": "1.5.0",
          "state": {
            "_model_module": "@jupyter-widgets/controls",
            "_model_module_version": "1.5.0",
            "_model_name": "DescriptionStyleModel",
            "_view_count": null,
            "_view_module": "@jupyter-widgets/base",
            "_view_module_version": "1.2.0",
            "_view_name": "StyleView",
            "description_width": ""
          }
        },
        "a9b4a3890789457da58dd9ffd9f9d680": {
          "model_module": "@jupyter-widgets/controls",
          "model_name": "HBoxModel",
          "model_module_version": "1.5.0",
          "state": {
            "_dom_classes": [],
            "_model_module": "@jupyter-widgets/controls",
            "_model_module_version": "1.5.0",
            "_model_name": "HBoxModel",
            "_view_count": null,
            "_view_module": "@jupyter-widgets/controls",
            "_view_module_version": "1.5.0",
            "_view_name": "HBoxView",
            "box_style": "",
            "children": [
              "IPY_MODEL_99d4906b54d648de910ee0e6c5d84f75",
              "IPY_MODEL_f1b94a706b3f405b84a71b4c504ba104",
              "IPY_MODEL_dd47565bd9734058b260d0a3a80500f0"
            ],
            "layout": "IPY_MODEL_dedf3119a03d4e7c804d63d1faadac1d"
          }
        },
        "99d4906b54d648de910ee0e6c5d84f75": {
          "model_module": "@jupyter-widgets/controls",
          "model_name": "HTMLModel",
          "model_module_version": "1.5.0",
          "state": {
            "_dom_classes": [],
            "_model_module": "@jupyter-widgets/controls",
            "_model_module_version": "1.5.0",
            "_model_name": "HTMLModel",
            "_view_count": null,
            "_view_module": "@jupyter-widgets/controls",
            "_view_module_version": "1.5.0",
            "_view_name": "HTMLView",
            "description": "",
            "description_tooltip": null,
            "layout": "IPY_MODEL_c5a9f9ea5e10429f907097daad588bde",
            "placeholder": "​",
            "style": "IPY_MODEL_3e8af47629bf42eeb022ce889278f453",
            "value": "Downloading: 100%"
          }
        },
        "f1b94a706b3f405b84a71b4c504ba104": {
          "model_module": "@jupyter-widgets/controls",
          "model_name": "FloatProgressModel",
          "model_module_version": "1.5.0",
          "state": {
            "_dom_classes": [],
            "_model_module": "@jupyter-widgets/controls",
            "_model_module_version": "1.5.0",
            "_model_name": "FloatProgressModel",
            "_view_count": null,
            "_view_module": "@jupyter-widgets/controls",
            "_view_module_version": "1.5.0",
            "_view_name": "ProgressView",
            "bar_style": "success",
            "description": "",
            "description_tooltip": null,
            "layout": "IPY_MODEL_3b356756b8b94b9bae222d6fc5f3394a",
            "max": 445021143,
            "min": 0,
            "orientation": "horizontal",
            "style": "IPY_MODEL_7370488529a148008235cfd64562e81e",
            "value": 445021143
          }
        },
        "dd47565bd9734058b260d0a3a80500f0": {
          "model_module": "@jupyter-widgets/controls",
          "model_name": "HTMLModel",
          "model_module_version": "1.5.0",
          "state": {
            "_dom_classes": [],
            "_model_module": "@jupyter-widgets/controls",
            "_model_module_version": "1.5.0",
            "_model_name": "HTMLModel",
            "_view_count": null,
            "_view_module": "@jupyter-widgets/controls",
            "_view_module_version": "1.5.0",
            "_view_name": "HTMLView",
            "description": "",
            "description_tooltip": null,
            "layout": "IPY_MODEL_32d8b2b4f28a428e91687c634f730090",
            "placeholder": "​",
            "style": "IPY_MODEL_37b4b42c5d2c4d95bef20fb9db481545",
            "value": " 445M/445M [00:12&lt;00:00, 32.8MB/s]"
          }
        },
        "dedf3119a03d4e7c804d63d1faadac1d": {
          "model_module": "@jupyter-widgets/base",
          "model_name": "LayoutModel",
          "model_module_version": "1.2.0",
          "state": {
            "_model_module": "@jupyter-widgets/base",
            "_model_module_version": "1.2.0",
            "_model_name": "LayoutModel",
            "_view_count": null,
            "_view_module": "@jupyter-widgets/base",
            "_view_module_version": "1.2.0",
            "_view_name": "LayoutView",
            "align_content": null,
            "align_items": null,
            "align_self": null,
            "border": null,
            "bottom": null,
            "display": null,
            "flex": null,
            "flex_flow": null,
            "grid_area": null,
            "grid_auto_columns": null,
            "grid_auto_flow": null,
            "grid_auto_rows": null,
            "grid_column": null,
            "grid_gap": null,
            "grid_row": null,
            "grid_template_areas": null,
            "grid_template_columns": null,
            "grid_template_rows": null,
            "height": null,
            "justify_content": null,
            "justify_items": null,
            "left": null,
            "margin": null,
            "max_height": null,
            "max_width": null,
            "min_height": null,
            "min_width": null,
            "object_fit": null,
            "object_position": null,
            "order": null,
            "overflow": null,
            "overflow_x": null,
            "overflow_y": null,
            "padding": null,
            "right": null,
            "top": null,
            "visibility": null,
            "width": null
          }
        },
        "c5a9f9ea5e10429f907097daad588bde": {
          "model_module": "@jupyter-widgets/base",
          "model_name": "LayoutModel",
          "model_module_version": "1.2.0",
          "state": {
            "_model_module": "@jupyter-widgets/base",
            "_model_module_version": "1.2.0",
            "_model_name": "LayoutModel",
            "_view_count": null,
            "_view_module": "@jupyter-widgets/base",
            "_view_module_version": "1.2.0",
            "_view_name": "LayoutView",
            "align_content": null,
            "align_items": null,
            "align_self": null,
            "border": null,
            "bottom": null,
            "display": null,
            "flex": null,
            "flex_flow": null,
            "grid_area": null,
            "grid_auto_columns": null,
            "grid_auto_flow": null,
            "grid_auto_rows": null,
            "grid_column": null,
            "grid_gap": null,
            "grid_row": null,
            "grid_template_areas": null,
            "grid_template_columns": null,
            "grid_template_rows": null,
            "height": null,
            "justify_content": null,
            "justify_items": null,
            "left": null,
            "margin": null,
            "max_height": null,
            "max_width": null,
            "min_height": null,
            "min_width": null,
            "object_fit": null,
            "object_position": null,
            "order": null,
            "overflow": null,
            "overflow_x": null,
            "overflow_y": null,
            "padding": null,
            "right": null,
            "top": null,
            "visibility": null,
            "width": null
          }
        },
        "3e8af47629bf42eeb022ce889278f453": {
          "model_module": "@jupyter-widgets/controls",
          "model_name": "DescriptionStyleModel",
          "model_module_version": "1.5.0",
          "state": {
            "_model_module": "@jupyter-widgets/controls",
            "_model_module_version": "1.5.0",
            "_model_name": "DescriptionStyleModel",
            "_view_count": null,
            "_view_module": "@jupyter-widgets/base",
            "_view_module_version": "1.2.0",
            "_view_name": "StyleView",
            "description_width": ""
          }
        },
        "3b356756b8b94b9bae222d6fc5f3394a": {
          "model_module": "@jupyter-widgets/base",
          "model_name": "LayoutModel",
          "model_module_version": "1.2.0",
          "state": {
            "_model_module": "@jupyter-widgets/base",
            "_model_module_version": "1.2.0",
            "_model_name": "LayoutModel",
            "_view_count": null,
            "_view_module": "@jupyter-widgets/base",
            "_view_module_version": "1.2.0",
            "_view_name": "LayoutView",
            "align_content": null,
            "align_items": null,
            "align_self": null,
            "border": null,
            "bottom": null,
            "display": null,
            "flex": null,
            "flex_flow": null,
            "grid_area": null,
            "grid_auto_columns": null,
            "grid_auto_flow": null,
            "grid_auto_rows": null,
            "grid_column": null,
            "grid_gap": null,
            "grid_row": null,
            "grid_template_areas": null,
            "grid_template_columns": null,
            "grid_template_rows": null,
            "height": null,
            "justify_content": null,
            "justify_items": null,
            "left": null,
            "margin": null,
            "max_height": null,
            "max_width": null,
            "min_height": null,
            "min_width": null,
            "object_fit": null,
            "object_position": null,
            "order": null,
            "overflow": null,
            "overflow_x": null,
            "overflow_y": null,
            "padding": null,
            "right": null,
            "top": null,
            "visibility": null,
            "width": null
          }
        },
        "7370488529a148008235cfd64562e81e": {
          "model_module": "@jupyter-widgets/controls",
          "model_name": "ProgressStyleModel",
          "model_module_version": "1.5.0",
          "state": {
            "_model_module": "@jupyter-widgets/controls",
            "_model_module_version": "1.5.0",
            "_model_name": "ProgressStyleModel",
            "_view_count": null,
            "_view_module": "@jupyter-widgets/base",
            "_view_module_version": "1.2.0",
            "_view_name": "StyleView",
            "bar_color": null,
            "description_width": ""
          }
        },
        "32d8b2b4f28a428e91687c634f730090": {
          "model_module": "@jupyter-widgets/base",
          "model_name": "LayoutModel",
          "model_module_version": "1.2.0",
          "state": {
            "_model_module": "@jupyter-widgets/base",
            "_model_module_version": "1.2.0",
            "_model_name": "LayoutModel",
            "_view_count": null,
            "_view_module": "@jupyter-widgets/base",
            "_view_module_version": "1.2.0",
            "_view_name": "LayoutView",
            "align_content": null,
            "align_items": null,
            "align_self": null,
            "border": null,
            "bottom": null,
            "display": null,
            "flex": null,
            "flex_flow": null,
            "grid_area": null,
            "grid_auto_columns": null,
            "grid_auto_flow": null,
            "grid_auto_rows": null,
            "grid_column": null,
            "grid_gap": null,
            "grid_row": null,
            "grid_template_areas": null,
            "grid_template_columns": null,
            "grid_template_rows": null,
            "height": null,
            "justify_content": null,
            "justify_items": null,
            "left": null,
            "margin": null,
            "max_height": null,
            "max_width": null,
            "min_height": null,
            "min_width": null,
            "object_fit": null,
            "object_position": null,
            "order": null,
            "overflow": null,
            "overflow_x": null,
            "overflow_y": null,
            "padding": null,
            "right": null,
            "top": null,
            "visibility": null,
            "width": null
          }
        },
        "37b4b42c5d2c4d95bef20fb9db481545": {
          "model_module": "@jupyter-widgets/controls",
          "model_name": "DescriptionStyleModel",
          "model_module_version": "1.5.0",
          "state": {
            "_model_module": "@jupyter-widgets/controls",
            "_model_module_version": "1.5.0",
            "_model_name": "DescriptionStyleModel",
            "_view_count": null,
            "_view_module": "@jupyter-widgets/base",
            "_view_module_version": "1.2.0",
            "_view_name": "StyleView",
            "description_width": ""
          }
        },
        "eae6553558674fc5b809276e8f4c3137": {
          "model_module": "@jupyter-widgets/controls",
          "model_name": "HBoxModel",
          "model_module_version": "1.5.0",
          "state": {
            "_dom_classes": [],
            "_model_module": "@jupyter-widgets/controls",
            "_model_module_version": "1.5.0",
            "_model_name": "HBoxModel",
            "_view_count": null,
            "_view_module": "@jupyter-widgets/controls",
            "_view_module_version": "1.5.0",
            "_view_name": "HBoxView",
            "box_style": "",
            "children": [
              "IPY_MODEL_a14d3ab8932f4115aa2fe7b15fc18315",
              "IPY_MODEL_1728b4dfebf04c8e886db86fb843dddb",
              "IPY_MODEL_1016bf4cd34843d9869ba17a4f0a61af"
            ],
            "layout": "IPY_MODEL_444e72363b2042ff986d611c5e8ed7d6"
          }
        },
        "a14d3ab8932f4115aa2fe7b15fc18315": {
          "model_module": "@jupyter-widgets/controls",
          "model_name": "HTMLModel",
          "model_module_version": "1.5.0",
          "state": {
            "_dom_classes": [],
            "_model_module": "@jupyter-widgets/controls",
            "_model_module_version": "1.5.0",
            "_model_name": "HTMLModel",
            "_view_count": null,
            "_view_module": "@jupyter-widgets/controls",
            "_view_module_version": "1.5.0",
            "_view_name": "HTMLView",
            "description": "",
            "description_tooltip": null,
            "layout": "IPY_MODEL_8fa48fc1bdd5406c99819b5b85e1497b",
            "placeholder": "​",
            "style": "IPY_MODEL_a802df53e684421fb883ad1616b5c724",
            "value": "Downloading: 100%"
          }
        },
        "1728b4dfebf04c8e886db86fb843dddb": {
          "model_module": "@jupyter-widgets/controls",
          "model_name": "FloatProgressModel",
          "model_module_version": "1.5.0",
          "state": {
            "_dom_classes": [],
            "_model_module": "@jupyter-widgets/controls",
            "_model_module_version": "1.5.0",
            "_model_name": "FloatProgressModel",
            "_view_count": null,
            "_view_module": "@jupyter-widgets/controls",
            "_view_module_version": "1.5.0",
            "_view_name": "ProgressView",
            "bar_style": "success",
            "description": "",
            "description_tooltip": null,
            "layout": "IPY_MODEL_0257090f58124a6b814de2f77929008b",
            "max": 257706,
            "min": 0,
            "orientation": "horizontal",
            "style": "IPY_MODEL_ebef7e2009ec4dea8ac168b254670410",
            "value": 257706
          }
        },
        "1016bf4cd34843d9869ba17a4f0a61af": {
          "model_module": "@jupyter-widgets/controls",
          "model_name": "HTMLModel",
          "model_module_version": "1.5.0",
          "state": {
            "_dom_classes": [],
            "_model_module": "@jupyter-widgets/controls",
            "_model_module_version": "1.5.0",
            "_model_name": "HTMLModel",
            "_view_count": null,
            "_view_module": "@jupyter-widgets/controls",
            "_view_module_version": "1.5.0",
            "_view_name": "HTMLView",
            "description": "",
            "description_tooltip": null,
            "layout": "IPY_MODEL_67e4b3a0566e4d6cbcffdec7c6cb3f47",
            "placeholder": "​",
            "style": "IPY_MODEL_95856f9ec2bd4b8f8660879f05c83e93",
            "value": " 258k/258k [00:00&lt;00:00, 264kB/s]"
          }
        },
        "444e72363b2042ff986d611c5e8ed7d6": {
          "model_module": "@jupyter-widgets/base",
          "model_name": "LayoutModel",
          "model_module_version": "1.2.0",
          "state": {
            "_model_module": "@jupyter-widgets/base",
            "_model_module_version": "1.2.0",
            "_model_name": "LayoutModel",
            "_view_count": null,
            "_view_module": "@jupyter-widgets/base",
            "_view_module_version": "1.2.0",
            "_view_name": "LayoutView",
            "align_content": null,
            "align_items": null,
            "align_self": null,
            "border": null,
            "bottom": null,
            "display": null,
            "flex": null,
            "flex_flow": null,
            "grid_area": null,
            "grid_auto_columns": null,
            "grid_auto_flow": null,
            "grid_auto_rows": null,
            "grid_column": null,
            "grid_gap": null,
            "grid_row": null,
            "grid_template_areas": null,
            "grid_template_columns": null,
            "grid_template_rows": null,
            "height": null,
            "justify_content": null,
            "justify_items": null,
            "left": null,
            "margin": null,
            "max_height": null,
            "max_width": null,
            "min_height": null,
            "min_width": null,
            "object_fit": null,
            "object_position": null,
            "order": null,
            "overflow": null,
            "overflow_x": null,
            "overflow_y": null,
            "padding": null,
            "right": null,
            "top": null,
            "visibility": null,
            "width": null
          }
        },
        "8fa48fc1bdd5406c99819b5b85e1497b": {
          "model_module": "@jupyter-widgets/base",
          "model_name": "LayoutModel",
          "model_module_version": "1.2.0",
          "state": {
            "_model_module": "@jupyter-widgets/base",
            "_model_module_version": "1.2.0",
            "_model_name": "LayoutModel",
            "_view_count": null,
            "_view_module": "@jupyter-widgets/base",
            "_view_module_version": "1.2.0",
            "_view_name": "LayoutView",
            "align_content": null,
            "align_items": null,
            "align_self": null,
            "border": null,
            "bottom": null,
            "display": null,
            "flex": null,
            "flex_flow": null,
            "grid_area": null,
            "grid_auto_columns": null,
            "grid_auto_flow": null,
            "grid_auto_rows": null,
            "grid_column": null,
            "grid_gap": null,
            "grid_row": null,
            "grid_template_areas": null,
            "grid_template_columns": null,
            "grid_template_rows": null,
            "height": null,
            "justify_content": null,
            "justify_items": null,
            "left": null,
            "margin": null,
            "max_height": null,
            "max_width": null,
            "min_height": null,
            "min_width": null,
            "object_fit": null,
            "object_position": null,
            "order": null,
            "overflow": null,
            "overflow_x": null,
            "overflow_y": null,
            "padding": null,
            "right": null,
            "top": null,
            "visibility": null,
            "width": null
          }
        },
        "a802df53e684421fb883ad1616b5c724": {
          "model_module": "@jupyter-widgets/controls",
          "model_name": "DescriptionStyleModel",
          "model_module_version": "1.5.0",
          "state": {
            "_model_module": "@jupyter-widgets/controls",
            "_model_module_version": "1.5.0",
            "_model_name": "DescriptionStyleModel",
            "_view_count": null,
            "_view_module": "@jupyter-widgets/base",
            "_view_module_version": "1.2.0",
            "_view_name": "StyleView",
            "description_width": ""
          }
        },
        "0257090f58124a6b814de2f77929008b": {
          "model_module": "@jupyter-widgets/base",
          "model_name": "LayoutModel",
          "model_module_version": "1.2.0",
          "state": {
            "_model_module": "@jupyter-widgets/base",
            "_model_module_version": "1.2.0",
            "_model_name": "LayoutModel",
            "_view_count": null,
            "_view_module": "@jupyter-widgets/base",
            "_view_module_version": "1.2.0",
            "_view_name": "LayoutView",
            "align_content": null,
            "align_items": null,
            "align_self": null,
            "border": null,
            "bottom": null,
            "display": null,
            "flex": null,
            "flex_flow": null,
            "grid_area": null,
            "grid_auto_columns": null,
            "grid_auto_flow": null,
            "grid_auto_rows": null,
            "grid_column": null,
            "grid_gap": null,
            "grid_row": null,
            "grid_template_areas": null,
            "grid_template_columns": null,
            "grid_template_rows": null,
            "height": null,
            "justify_content": null,
            "justify_items": null,
            "left": null,
            "margin": null,
            "max_height": null,
            "max_width": null,
            "min_height": null,
            "min_width": null,
            "object_fit": null,
            "object_position": null,
            "order": null,
            "overflow": null,
            "overflow_x": null,
            "overflow_y": null,
            "padding": null,
            "right": null,
            "top": null,
            "visibility": null,
            "width": null
          }
        },
        "ebef7e2009ec4dea8ac168b254670410": {
          "model_module": "@jupyter-widgets/controls",
          "model_name": "ProgressStyleModel",
          "model_module_version": "1.5.0",
          "state": {
            "_model_module": "@jupyter-widgets/controls",
            "_model_module_version": "1.5.0",
            "_model_name": "ProgressStyleModel",
            "_view_count": null,
            "_view_module": "@jupyter-widgets/base",
            "_view_module_version": "1.2.0",
            "_view_name": "StyleView",
            "bar_color": null,
            "description_width": ""
          }
        },
        "67e4b3a0566e4d6cbcffdec7c6cb3f47": {
          "model_module": "@jupyter-widgets/base",
          "model_name": "LayoutModel",
          "model_module_version": "1.2.0",
          "state": {
            "_model_module": "@jupyter-widgets/base",
            "_model_module_version": "1.2.0",
            "_model_name": "LayoutModel",
            "_view_count": null,
            "_view_module": "@jupyter-widgets/base",
            "_view_module_version": "1.2.0",
            "_view_name": "LayoutView",
            "align_content": null,
            "align_items": null,
            "align_self": null,
            "border": null,
            "bottom": null,
            "display": null,
            "flex": null,
            "flex_flow": null,
            "grid_area": null,
            "grid_auto_columns": null,
            "grid_auto_flow": null,
            "grid_auto_rows": null,
            "grid_column": null,
            "grid_gap": null,
            "grid_row": null,
            "grid_template_areas": null,
            "grid_template_columns": null,
            "grid_template_rows": null,
            "height": null,
            "justify_content": null,
            "justify_items": null,
            "left": null,
            "margin": null,
            "max_height": null,
            "max_width": null,
            "min_height": null,
            "min_width": null,
            "object_fit": null,
            "object_position": null,
            "order": null,
            "overflow": null,
            "overflow_x": null,
            "overflow_y": null,
            "padding": null,
            "right": null,
            "top": null,
            "visibility": null,
            "width": null
          }
        },
        "95856f9ec2bd4b8f8660879f05c83e93": {
          "model_module": "@jupyter-widgets/controls",
          "model_name": "DescriptionStyleModel",
          "model_module_version": "1.5.0",
          "state": {
            "_model_module": "@jupyter-widgets/controls",
            "_model_module_version": "1.5.0",
            "_model_name": "DescriptionStyleModel",
            "_view_count": null,
            "_view_module": "@jupyter-widgets/base",
            "_view_module_version": "1.2.0",
            "_view_name": "StyleView",
            "description_width": ""
          }
        },
        "864c5a1515234ca1b4729baa91fd5b0b": {
          "model_module": "@jupyter-widgets/controls",
          "model_name": "HBoxModel",
          "model_module_version": "1.5.0",
          "state": {
            "_dom_classes": [],
            "_model_module": "@jupyter-widgets/controls",
            "_model_module_version": "1.5.0",
            "_model_name": "HBoxModel",
            "_view_count": null,
            "_view_module": "@jupyter-widgets/controls",
            "_view_module_version": "1.5.0",
            "_view_name": "HBoxView",
            "box_style": "",
            "children": [
              "IPY_MODEL_5c6c18bf63d54802b49b5c52a77bf6f2",
              "IPY_MODEL_f503e291198847548ee468ae4f28015c",
              "IPY_MODEL_6f73cd4f1d884694860684c9aec30113"
            ],
            "layout": "IPY_MODEL_81e5794b40934a50a703b1c53c1eb9b5"
          }
        },
        "5c6c18bf63d54802b49b5c52a77bf6f2": {
          "model_module": "@jupyter-widgets/controls",
          "model_name": "HTMLModel",
          "model_module_version": "1.5.0",
          "state": {
            "_dom_classes": [],
            "_model_module": "@jupyter-widgets/controls",
            "_model_module_version": "1.5.0",
            "_model_name": "HTMLModel",
            "_view_count": null,
            "_view_module": "@jupyter-widgets/controls",
            "_view_module_version": "1.5.0",
            "_view_name": "HTMLView",
            "description": "",
            "description_tooltip": null,
            "layout": "IPY_MODEL_fcfad958748646229ec5e471cf924346",
            "placeholder": "​",
            "style": "IPY_MODEL_1909287e5e344a01bc9dd3e4f6f7bd54",
            "value": "Downloading: 100%"
          }
        },
        "f503e291198847548ee468ae4f28015c": {
          "model_module": "@jupyter-widgets/controls",
          "model_name": "FloatProgressModel",
          "model_module_version": "1.5.0",
          "state": {
            "_dom_classes": [],
            "_model_module": "@jupyter-widgets/controls",
            "_model_module_version": "1.5.0",
            "_model_name": "FloatProgressModel",
            "_view_count": null,
            "_view_module": "@jupyter-widgets/controls",
            "_view_module_version": "1.5.0",
            "_view_name": "ProgressView",
            "bar_style": "success",
            "description": "",
            "description_tooltip": null,
            "layout": "IPY_MODEL_81963b0a920a4824a954eb60257f0729",
            "max": 110,
            "min": 0,
            "orientation": "horizontal",
            "style": "IPY_MODEL_78b1d13473674d5885421a83c3766e20",
            "value": 110
          }
        },
        "6f73cd4f1d884694860684c9aec30113": {
          "model_module": "@jupyter-widgets/controls",
          "model_name": "HTMLModel",
          "model_module_version": "1.5.0",
          "state": {
            "_dom_classes": [],
            "_model_module": "@jupyter-widgets/controls",
            "_model_module_version": "1.5.0",
            "_model_name": "HTMLModel",
            "_view_count": null,
            "_view_module": "@jupyter-widgets/controls",
            "_view_module_version": "1.5.0",
            "_view_name": "HTMLView",
            "description": "",
            "description_tooltip": null,
            "layout": "IPY_MODEL_e2bf8f631e3f4a79ad3a3c20c7d265ef",
            "placeholder": "​",
            "style": "IPY_MODEL_f29ca01cc2604b4986d40bca677033c3",
            "value": " 110/110 [00:00&lt;00:00, 2.15kB/s]"
          }
        },
        "81e5794b40934a50a703b1c53c1eb9b5": {
          "model_module": "@jupyter-widgets/base",
          "model_name": "LayoutModel",
          "model_module_version": "1.2.0",
          "state": {
            "_model_module": "@jupyter-widgets/base",
            "_model_module_version": "1.2.0",
            "_model_name": "LayoutModel",
            "_view_count": null,
            "_view_module": "@jupyter-widgets/base",
            "_view_module_version": "1.2.0",
            "_view_name": "LayoutView",
            "align_content": null,
            "align_items": null,
            "align_self": null,
            "border": null,
            "bottom": null,
            "display": null,
            "flex": null,
            "flex_flow": null,
            "grid_area": null,
            "grid_auto_columns": null,
            "grid_auto_flow": null,
            "grid_auto_rows": null,
            "grid_column": null,
            "grid_gap": null,
            "grid_row": null,
            "grid_template_areas": null,
            "grid_template_columns": null,
            "grid_template_rows": null,
            "height": null,
            "justify_content": null,
            "justify_items": null,
            "left": null,
            "margin": null,
            "max_height": null,
            "max_width": null,
            "min_height": null,
            "min_width": null,
            "object_fit": null,
            "object_position": null,
            "order": null,
            "overflow": null,
            "overflow_x": null,
            "overflow_y": null,
            "padding": null,
            "right": null,
            "top": null,
            "visibility": null,
            "width": null
          }
        },
        "fcfad958748646229ec5e471cf924346": {
          "model_module": "@jupyter-widgets/base",
          "model_name": "LayoutModel",
          "model_module_version": "1.2.0",
          "state": {
            "_model_module": "@jupyter-widgets/base",
            "_model_module_version": "1.2.0",
            "_model_name": "LayoutModel",
            "_view_count": null,
            "_view_module": "@jupyter-widgets/base",
            "_view_module_version": "1.2.0",
            "_view_name": "LayoutView",
            "align_content": null,
            "align_items": null,
            "align_self": null,
            "border": null,
            "bottom": null,
            "display": null,
            "flex": null,
            "flex_flow": null,
            "grid_area": null,
            "grid_auto_columns": null,
            "grid_auto_flow": null,
            "grid_auto_rows": null,
            "grid_column": null,
            "grid_gap": null,
            "grid_row": null,
            "grid_template_areas": null,
            "grid_template_columns": null,
            "grid_template_rows": null,
            "height": null,
            "justify_content": null,
            "justify_items": null,
            "left": null,
            "margin": null,
            "max_height": null,
            "max_width": null,
            "min_height": null,
            "min_width": null,
            "object_fit": null,
            "object_position": null,
            "order": null,
            "overflow": null,
            "overflow_x": null,
            "overflow_y": null,
            "padding": null,
            "right": null,
            "top": null,
            "visibility": null,
            "width": null
          }
        },
        "1909287e5e344a01bc9dd3e4f6f7bd54": {
          "model_module": "@jupyter-widgets/controls",
          "model_name": "DescriptionStyleModel",
          "model_module_version": "1.5.0",
          "state": {
            "_model_module": "@jupyter-widgets/controls",
            "_model_module_version": "1.5.0",
            "_model_name": "DescriptionStyleModel",
            "_view_count": null,
            "_view_module": "@jupyter-widgets/base",
            "_view_module_version": "1.2.0",
            "_view_name": "StyleView",
            "description_width": ""
          }
        },
        "81963b0a920a4824a954eb60257f0729": {
          "model_module": "@jupyter-widgets/base",
          "model_name": "LayoutModel",
          "model_module_version": "1.2.0",
          "state": {
            "_model_module": "@jupyter-widgets/base",
            "_model_module_version": "1.2.0",
            "_model_name": "LayoutModel",
            "_view_count": null,
            "_view_module": "@jupyter-widgets/base",
            "_view_module_version": "1.2.0",
            "_view_name": "LayoutView",
            "align_content": null,
            "align_items": null,
            "align_self": null,
            "border": null,
            "bottom": null,
            "display": null,
            "flex": null,
            "flex_flow": null,
            "grid_area": null,
            "grid_auto_columns": null,
            "grid_auto_flow": null,
            "grid_auto_rows": null,
            "grid_column": null,
            "grid_gap": null,
            "grid_row": null,
            "grid_template_areas": null,
            "grid_template_columns": null,
            "grid_template_rows": null,
            "height": null,
            "justify_content": null,
            "justify_items": null,
            "left": null,
            "margin": null,
            "max_height": null,
            "max_width": null,
            "min_height": null,
            "min_width": null,
            "object_fit": null,
            "object_position": null,
            "order": null,
            "overflow": null,
            "overflow_x": null,
            "overflow_y": null,
            "padding": null,
            "right": null,
            "top": null,
            "visibility": null,
            "width": null
          }
        },
        "78b1d13473674d5885421a83c3766e20": {
          "model_module": "@jupyter-widgets/controls",
          "model_name": "ProgressStyleModel",
          "model_module_version": "1.5.0",
          "state": {
            "_model_module": "@jupyter-widgets/controls",
            "_model_module_version": "1.5.0",
            "_model_name": "ProgressStyleModel",
            "_view_count": null,
            "_view_module": "@jupyter-widgets/base",
            "_view_module_version": "1.2.0",
            "_view_name": "StyleView",
            "bar_color": null,
            "description_width": ""
          }
        },
        "e2bf8f631e3f4a79ad3a3c20c7d265ef": {
          "model_module": "@jupyter-widgets/base",
          "model_name": "LayoutModel",
          "model_module_version": "1.2.0",
          "state": {
            "_model_module": "@jupyter-widgets/base",
            "_model_module_version": "1.2.0",
            "_model_name": "LayoutModel",
            "_view_count": null,
            "_view_module": "@jupyter-widgets/base",
            "_view_module_version": "1.2.0",
            "_view_name": "LayoutView",
            "align_content": null,
            "align_items": null,
            "align_self": null,
            "border": null,
            "bottom": null,
            "display": null,
            "flex": null,
            "flex_flow": null,
            "grid_area": null,
            "grid_auto_columns": null,
            "grid_auto_flow": null,
            "grid_auto_rows": null,
            "grid_column": null,
            "grid_gap": null,
            "grid_row": null,
            "grid_template_areas": null,
            "grid_template_columns": null,
            "grid_template_rows": null,
            "height": null,
            "justify_content": null,
            "justify_items": null,
            "left": null,
            "margin": null,
            "max_height": null,
            "max_width": null,
            "min_height": null,
            "min_width": null,
            "object_fit": null,
            "object_position": null,
            "order": null,
            "overflow": null,
            "overflow_x": null,
            "overflow_y": null,
            "padding": null,
            "right": null,
            "top": null,
            "visibility": null,
            "width": null
          }
        },
        "f29ca01cc2604b4986d40bca677033c3": {
          "model_module": "@jupyter-widgets/controls",
          "model_name": "DescriptionStyleModel",
          "model_module_version": "1.5.0",
          "state": {
            "_model_module": "@jupyter-widgets/controls",
            "_model_module_version": "1.5.0",
            "_model_name": "DescriptionStyleModel",
            "_view_count": null,
            "_view_module": "@jupyter-widgets/base",
            "_view_module_version": "1.2.0",
            "_view_name": "StyleView",
            "description_width": ""
          }
        }
      }
    },
    "accelerator": "GPU",
    "gpuClass": "standard"
  },
  "cells": [
    {
      "cell_type": "markdown",
      "source": [
        "# 実験準備"
      ],
      "metadata": {
        "id": "kf1megD4CNux"
      }
    },
    {
      "cell_type": "markdown",
      "source": [
        "## 環境構築"
      ],
      "metadata": {
        "id": "9jY3imvXfIuX"
      }
    },
    {
      "cell_type": "code",
      "execution_count": null,
      "metadata": {
        "id": "Pkq6B7J-uzBA"
      },
      "outputs": [],
      "source": [
        "!pip install transformers"
      ]
    },
    {
      "cell_type": "code",
      "source": [
        "!pip install sentencepiece"
      ],
      "metadata": {
        "colab": {
          "base_uri": "https://localhost:8080/"
        },
        "id": "3S7h9vzEa_7g",
        "outputId": "501dcc94-3094-48ec-f2d4-b2103b754afa"
      },
      "execution_count": null,
      "outputs": [
        {
          "output_type": "stream",
          "name": "stdout",
          "text": [
            "Looking in indexes: https://pypi.org/simple, https://us-python.pkg.dev/colab-wheels/public/simple/\n",
            "Collecting sentencepiece\n",
            "  Downloading sentencepiece-0.1.97-cp38-cp38-manylinux_2_17_x86_64.manylinux2014_x86_64.whl (1.3 MB)\n",
            "\u001b[2K     \u001b[90m━━━━━━━━━━━━━━━━━━━━━━━━━━━━━━━━━━━━━━━━\u001b[0m \u001b[32m1.3/1.3 MB\u001b[0m \u001b[31m23.0 MB/s\u001b[0m eta \u001b[36m0:00:00\u001b[0m\n",
            "\u001b[?25hInstalling collected packages: sentencepiece\n",
            "Successfully installed sentencepiece-0.1.97\n"
          ]
        }
      ]
    },
    {
      "cell_type": "code",
      "source": [
        "!pip install fugashi ipadic"
      ],
      "metadata": {
        "colab": {
          "base_uri": "https://localhost:8080/"
        },
        "id": "qUAY1OOibL91",
        "outputId": "1b1b53c4-da1d-437e-c28e-a67fd9ea2078"
      },
      "execution_count": null,
      "outputs": [
        {
          "output_type": "stream",
          "name": "stdout",
          "text": [
            "Looking in indexes: https://pypi.org/simple, https://us-python.pkg.dev/colab-wheels/public/simple/\n",
            "Collecting fugashi\n",
            "  Downloading fugashi-1.2.1-cp38-cp38-manylinux_2_17_x86_64.manylinux2014_x86_64.whl (615 kB)\n",
            "\u001b[2K     \u001b[90m━━━━━━━━━━━━━━━━━━━━━━━━━━━━━━━━━━━━━━\u001b[0m \u001b[32m615.9/615.9 KB\u001b[0m \u001b[31m31.8 MB/s\u001b[0m eta \u001b[36m0:00:00\u001b[0m\n",
            "\u001b[?25hCollecting ipadic\n",
            "  Downloading ipadic-1.0.0.tar.gz (13.4 MB)\n",
            "\u001b[2K     \u001b[90m━━━━━━━━━━━━━━━━━━━━━━━━━━━━━━━━━━━━━━━━\u001b[0m \u001b[32m13.4/13.4 MB\u001b[0m \u001b[31m53.1 MB/s\u001b[0m eta \u001b[36m0:00:00\u001b[0m\n",
            "\u001b[?25h  Preparing metadata (setup.py) ... \u001b[?25l\u001b[?25hdone\n",
            "Building wheels for collected packages: ipadic\n",
            "  Building wheel for ipadic (setup.py) ... \u001b[?25l\u001b[?25hdone\n",
            "  Created wheel for ipadic: filename=ipadic-1.0.0-py3-none-any.whl size=13556723 sha256=a0bf776677a4453426fec300e95a394c5f68eb2af5794bdd41d8a0d1e50b37d4\n",
            "  Stored in directory: /root/.cache/pip/wheels/45/b7/f5/a21e68db846eedcd00d69e37d60bab3f68eb20b1d99cdff652\n",
            "Successfully built ipadic\n",
            "Installing collected packages: ipadic, fugashi\n",
            "Successfully installed fugashi-1.2.1 ipadic-1.0.0\n"
          ]
        }
      ]
    },
    {
      "cell_type": "code",
      "source": [
        "!pip install bert-score"
      ],
      "metadata": {
        "colab": {
          "base_uri": "https://localhost:8080/"
        },
        "id": "u_dNxlnOTAo8",
        "outputId": "c0ad273a-1838-4ac6-c762-5d53d62a0e44"
      },
      "execution_count": null,
      "outputs": [
        {
          "output_type": "stream",
          "name": "stdout",
          "text": [
            "Looking in indexes: https://pypi.org/simple, https://us-python.pkg.dev/colab-wheels/public/simple/\n",
            "Collecting bert-score\n",
            "  Downloading bert_score-0.3.12-py3-none-any.whl (60 kB)\n",
            "\u001b[2K     \u001b[90m━━━━━━━━━━━━━━━━━━━━━━━━━━━━━━━━━━━━━━━━\u001b[0m \u001b[32m60.8/60.8 KB\u001b[0m \u001b[31m6.9 MB/s\u001b[0m eta \u001b[36m0:00:00\u001b[0m\n",
            "\u001b[?25hRequirement already satisfied: matplotlib in /usr/local/lib/python3.8/dist-packages (from bert-score) (3.2.2)\n",
            "Requirement already satisfied: numpy in /usr/local/lib/python3.8/dist-packages (from bert-score) (1.21.6)\n",
            "Requirement already satisfied: requests in /usr/local/lib/python3.8/dist-packages (from bert-score) (2.25.1)\n",
            "Requirement already satisfied: packaging>=20.9 in /usr/local/lib/python3.8/dist-packages (from bert-score) (21.3)\n",
            "Requirement already satisfied: pandas>=1.0.1 in /usr/local/lib/python3.8/dist-packages (from bert-score) (1.3.5)\n",
            "Requirement already satisfied: transformers>=3.0.0 in /usr/local/lib/python3.8/dist-packages (from bert-score) (4.25.1)\n",
            "Requirement already satisfied: tqdm>=4.31.1 in /usr/local/lib/python3.8/dist-packages (from bert-score) (4.64.1)\n",
            "Requirement already satisfied: torch>=1.0.0 in /usr/local/lib/python3.8/dist-packages (from bert-score) (1.13.0+cu116)\n",
            "Requirement already satisfied: pyparsing!=3.0.5,>=2.0.2 in /usr/local/lib/python3.8/dist-packages (from packaging>=20.9->bert-score) (3.0.9)\n",
            "Requirement already satisfied: python-dateutil>=2.7.3 in /usr/local/lib/python3.8/dist-packages (from pandas>=1.0.1->bert-score) (2.8.2)\n",
            "Requirement already satisfied: pytz>=2017.3 in /usr/local/lib/python3.8/dist-packages (from pandas>=1.0.1->bert-score) (2022.7)\n",
            "Requirement already satisfied: typing-extensions in /usr/local/lib/python3.8/dist-packages (from torch>=1.0.0->bert-score) (4.4.0)\n",
            "Requirement already satisfied: pyyaml>=5.1 in /usr/local/lib/python3.8/dist-packages (from transformers>=3.0.0->bert-score) (6.0)\n",
            "Requirement already satisfied: huggingface-hub<1.0,>=0.10.0 in /usr/local/lib/python3.8/dist-packages (from transformers>=3.0.0->bert-score) (0.11.1)\n",
            "Requirement already satisfied: regex!=2019.12.17 in /usr/local/lib/python3.8/dist-packages (from transformers>=3.0.0->bert-score) (2022.6.2)\n",
            "Requirement already satisfied: filelock in /usr/local/lib/python3.8/dist-packages (from transformers>=3.0.0->bert-score) (3.9.0)\n",
            "Requirement already satisfied: tokenizers!=0.11.3,<0.14,>=0.11.1 in /usr/local/lib/python3.8/dist-packages (from transformers>=3.0.0->bert-score) (0.13.2)\n",
            "Requirement already satisfied: kiwisolver>=1.0.1 in /usr/local/lib/python3.8/dist-packages (from matplotlib->bert-score) (1.4.4)\n",
            "Requirement already satisfied: cycler>=0.10 in /usr/local/lib/python3.8/dist-packages (from matplotlib->bert-score) (0.11.0)\n",
            "Requirement already satisfied: urllib3<1.27,>=1.21.1 in /usr/local/lib/python3.8/dist-packages (from requests->bert-score) (1.24.3)\n",
            "Requirement already satisfied: certifi>=2017.4.17 in /usr/local/lib/python3.8/dist-packages (from requests->bert-score) (2022.12.7)\n",
            "Requirement already satisfied: chardet<5,>=3.0.2 in /usr/local/lib/python3.8/dist-packages (from requests->bert-score) (4.0.0)\n",
            "Requirement already satisfied: idna<3,>=2.5 in /usr/local/lib/python3.8/dist-packages (from requests->bert-score) (2.10)\n",
            "Requirement already satisfied: six>=1.5 in /usr/local/lib/python3.8/dist-packages (from python-dateutil>=2.7.3->pandas>=1.0.1->bert-score) (1.15.0)\n",
            "Installing collected packages: bert-score\n",
            "Successfully installed bert-score-0.3.12\n"
          ]
        }
      ]
    },
    {
      "cell_type": "code",
      "source": [
        "import pandas as pd\n",
        "import torch\n",
        "from transformers import BertJapaneseTokenizer, BertForMaskedLM, pipeline\n",
        "from transformers import AdamW"
      ],
      "metadata": {
        "id": "H1D18Uh-u__w"
      },
      "execution_count": null,
      "outputs": []
    },
    {
      "cell_type": "markdown",
      "source": [
        "## モデルのダウンロード"
      ],
      "metadata": {
        "id": "HbI38W_zfS0N"
      }
    },
    {
      "cell_type": "code",
      "source": [
        "# Ref: https://huggingface.co/transformers/training.html#pytorch\n",
        "\n",
        "model_name = \"cl-tohoku/bert-base-japanese-whole-word-masking\"\n",
        "model = BertForMaskedLM.from_pretrained(model_name)\n",
        "tokenizer = BertJapaneseTokenizer.from_pretrained(model_name) "
      ],
      "metadata": {
        "colab": {
          "base_uri": "https://localhost:8080/",
          "height": 437,
          "referenced_widgets": [
            "0117ae87ee0847229d6f5226fd6993a8",
            "0ec7d3f3137b4d9cb282016e696ff702",
            "574c1db8e609471d91f9368dff65e7b0",
            "0924e308ee2243d6ba7618522fce7146",
            "8394d8c15b4f4527a1e3c4d2071be631",
            "0def3e90f6444798a0f98bf8de93b9df",
            "a91cf27a150546a4ac9c8f7c573d7066",
            "71ad5cdec2594da790185d018ad7c54a",
            "ac399fa8c1754eb59f8d9998462c5e11",
            "3111077589954787a6e30551db442955",
            "a6d015e75c1049e0aa301fde3ee47e6e",
            "a9b4a3890789457da58dd9ffd9f9d680",
            "99d4906b54d648de910ee0e6c5d84f75",
            "f1b94a706b3f405b84a71b4c504ba104",
            "dd47565bd9734058b260d0a3a80500f0",
            "dedf3119a03d4e7c804d63d1faadac1d",
            "c5a9f9ea5e10429f907097daad588bde",
            "3e8af47629bf42eeb022ce889278f453",
            "3b356756b8b94b9bae222d6fc5f3394a",
            "7370488529a148008235cfd64562e81e",
            "32d8b2b4f28a428e91687c634f730090",
            "37b4b42c5d2c4d95bef20fb9db481545",
            "eae6553558674fc5b809276e8f4c3137",
            "a14d3ab8932f4115aa2fe7b15fc18315",
            "1728b4dfebf04c8e886db86fb843dddb",
            "1016bf4cd34843d9869ba17a4f0a61af",
            "444e72363b2042ff986d611c5e8ed7d6",
            "8fa48fc1bdd5406c99819b5b85e1497b",
            "a802df53e684421fb883ad1616b5c724",
            "0257090f58124a6b814de2f77929008b",
            "ebef7e2009ec4dea8ac168b254670410",
            "67e4b3a0566e4d6cbcffdec7c6cb3f47",
            "95856f9ec2bd4b8f8660879f05c83e93",
            "864c5a1515234ca1b4729baa91fd5b0b",
            "5c6c18bf63d54802b49b5c52a77bf6f2",
            "f503e291198847548ee468ae4f28015c",
            "6f73cd4f1d884694860684c9aec30113",
            "81e5794b40934a50a703b1c53c1eb9b5",
            "fcfad958748646229ec5e471cf924346",
            "1909287e5e344a01bc9dd3e4f6f7bd54",
            "81963b0a920a4824a954eb60257f0729",
            "78b1d13473674d5885421a83c3766e20",
            "e2bf8f631e3f4a79ad3a3c20c7d265ef",
            "f29ca01cc2604b4986d40bca677033c3"
          ]
        },
        "id": "cVjNOX1W38k8",
        "outputId": "7f9d012e-41f0-497d-c94f-8cb618aca2dc"
      },
      "execution_count": null,
      "outputs": [
        {
          "output_type": "display_data",
          "data": {
            "text/plain": [
              "Downloading:   0%|          | 0.00/479 [00:00<?, ?B/s]"
            ],
            "application/vnd.jupyter.widget-view+json": {
              "version_major": 2,
              "version_minor": 0,
              "model_id": "0117ae87ee0847229d6f5226fd6993a8"
            }
          },
          "metadata": {}
        },
        {
          "output_type": "display_data",
          "data": {
            "text/plain": [
              "Downloading:   0%|          | 0.00/445M [00:00<?, ?B/s]"
            ],
            "application/vnd.jupyter.widget-view+json": {
              "version_major": 2,
              "version_minor": 0,
              "model_id": "a9b4a3890789457da58dd9ffd9f9d680"
            }
          },
          "metadata": {}
        },
        {
          "output_type": "stream",
          "name": "stderr",
          "text": [
            "Some weights of the model checkpoint at cl-tohoku/bert-base-japanese-whole-word-masking were not used when initializing BertForMaskedLM: ['cls.seq_relationship.bias', 'cls.seq_relationship.weight']\n",
            "- This IS expected if you are initializing BertForMaskedLM from the checkpoint of a model trained on another task or with another architecture (e.g. initializing a BertForSequenceClassification model from a BertForPreTraining model).\n",
            "- This IS NOT expected if you are initializing BertForMaskedLM from the checkpoint of a model that you expect to be exactly identical (initializing a BertForSequenceClassification model from a BertForSequenceClassification model).\n"
          ]
        },
        {
          "output_type": "display_data",
          "data": {
            "text/plain": [
              "Downloading:   0%|          | 0.00/258k [00:00<?, ?B/s]"
            ],
            "application/vnd.jupyter.widget-view+json": {
              "version_major": 2,
              "version_minor": 0,
              "model_id": "eae6553558674fc5b809276e8f4c3137"
            }
          },
          "metadata": {}
        },
        {
          "output_type": "display_data",
          "data": {
            "text/plain": [
              "Downloading:   0%|          | 0.00/110 [00:00<?, ?B/s]"
            ],
            "application/vnd.jupyter.widget-view+json": {
              "version_major": 2,
              "version_minor": 0,
              "model_id": "864c5a1515234ca1b4729baa91fd5b0b"
            }
          },
          "metadata": {}
        }
      ]
    },
    {
      "cell_type": "code",
      "source": [
        "# GPUが使えれば利用する設定\n",
        "device = torch.device(\"cuda:0\" if torch.cuda.is_available() else \"cpu\")"
      ],
      "metadata": {
        "id": "zazRNH_svHG4"
      },
      "execution_count": null,
      "outputs": []
    },
    {
      "cell_type": "markdown",
      "source": [
        "### お試し実行"
      ],
      "metadata": {
        "id": "Qq0Xgj7CfDMZ"
      }
    },
    {
      "cell_type": "code",
      "source": [
        "texts='受験とかけまして、理科の実験とときます。その心は、どちらも、「しけんかん」（試験官、試験管）が[MASK]でしょう。'"
      ],
      "metadata": {
        "id": "TCp5FmbYd2fq"
      },
      "execution_count": null,
      "outputs": []
    },
    {
      "cell_type": "code",
      "source": [
        "encodings = tokenizer(texts, return_tensors='pt', padding=True, truncation=True, max_length=64)\n",
        "input_ids = encodings['input_ids']\n",
        "attention_mask = encodings['attention_mask'] #トークンの存在を示す\n",
        "\n",
        "out = model(input_ids)"
      ],
      "metadata": {
        "id": "AMFqhPFHd-xo"
      },
      "execution_count": null,
      "outputs": []
    },
    {
      "cell_type": "code",
      "source": [
        "\n",
        "# マスクの位置を抽出\n",
        "masked_position = (input_ids.squeeze() == tokenizer.mask_token_id).nonzero() #これでマスク部分の抽出ができるらしい\n",
        "masked_pos = [mask.item() for mask in masked_position ]\n",
        "last_hidden_state = out[0].squeeze()\n",
        "\n",
        "list_of_list =[]\n",
        "topk = 5 # 上位5件\n",
        "for index,mask_index in enumerate(masked_pos):\n",
        "  mask_hidden_state = last_hidden_state[mask_index] # 詳細結果の参照\n",
        "  idx = torch.topk(mask_hidden_state, k=topk, dim=0)[1] # 予測結果の上位を出力\n",
        "  words = [tokenizer.decode(i.item()).strip() for i in idx]\n",
        "  list_of_list.append(words)\n",
        "  print (\"Guesses : \",words)"
      ],
      "metadata": {
        "colab": {
          "base_uri": "https://localhost:8080/"
        },
        "id": "KyOKdOSAenkV",
        "outputId": "12b267fc-6214-4035-c18d-c89949ca8afb"
      },
      "execution_count": null,
      "outputs": [
        {
          "output_type": "stream",
          "name": "stdout",
          "text": [
            "Guesses :  ['あ る', '必 要', '好 き', 'い い', '中 心']\n"
          ]
        }
      ]
    },
    {
      "cell_type": "code",
      "source": [],
      "metadata": {
        "id": "yDOTB7JYElKD"
      },
      "execution_count": null,
      "outputs": []
    },
    {
      "cell_type": "markdown",
      "source": [
        "## データ読み込み"
      ],
      "metadata": {
        "id": "W-xpg2FXfZIg"
      }
    },
    {
      "cell_type": "code",
      "source": [
        "from google.colab import drive\n",
        "drive.mount('/content/drive')"
      ],
      "metadata": {
        "id": "egpefLHUvcXg",
        "colab": {
          "base_uri": "https://localhost:8080/"
        },
        "outputId": "ab6c8444-063b-4d2f-a1a9-0dbbb4657fa6"
      },
      "execution_count": null,
      "outputs": [
        {
          "output_type": "stream",
          "name": "stdout",
          "text": [
            "Mounted at /content/drive\n"
          ]
        }
      ]
    },
    {
      "cell_type": "code",
      "source": [
        "folda_pass = '/content/drive/MyDrive/実験/learn_data/'\n",
        "filename = 'original_double.txt'\n",
        "with open(folda_pass+filename)as f:\n",
        "  original = f.readlines()\n",
        "  print(original[0])"
      ],
      "metadata": {
        "colab": {
          "base_uri": "https://localhost:8080/"
        },
        "id": "qkO1iq0rX40s",
        "outputId": "fd8b6fab-23da-4552-97df-f3c6f4743d2c"
      },
      "execution_count": null,
      "outputs": [
        {
          "output_type": "stream",
          "name": "stdout",
          "text": [
            "疲れてヘトヘトとかけまして、空手家とときます。その心は、どちらも、「いたわり」（労り、板割り）が必要です。\n",
            "\n"
          ]
        }
      ]
    },
    {
      "cell_type": "code",
      "source": [
        "filename = 'Double_MASK.txt'\n",
        "with open(folda_pass+filename)as f:\n",
        "  double_mask = f.readlines()\n",
        "  print(double_mask[0])"
      ],
      "metadata": {
        "id": "732wULd_vd7S",
        "colab": {
          "base_uri": "https://localhost:8080/"
        },
        "outputId": "100d3033-7541-4bda-a35a-e8325781387b"
      },
      "execution_count": null,
      "outputs": [
        {
          "output_type": "stream",
          "name": "stdout",
          "text": [
            "疲れてヘトヘトとかけまして、空手家とときます。その心は、どちらも、「いたわり」(労り、板割り)[MASK][MASK]です。\n",
            "\n"
          ]
        }
      ]
    },
    {
      "cell_type": "markdown",
      "source": [
        "## データ整理"
      ],
      "metadata": {
        "id": "6bXjHQcWdFQ5"
      }
    },
    {
      "cell_type": "code",
      "source": [
        "print(len(original))\n",
        "print(len(double_mask))"
      ],
      "metadata": {
        "colab": {
          "base_uri": "https://localhost:8080/"
        },
        "id": "ZLQAVH4ycBpY",
        "outputId": "57221d88-d0b0-4950-9257-bd91bcd9b863"
      },
      "execution_count": null,
      "outputs": [
        {
          "output_type": "stream",
          "name": "stdout",
          "text": [
            "207\n",
            "207\n"
          ]
        }
      ]
    },
    {
      "cell_type": "code",
      "source": [
        "#先にテストデータ、評価データを作る\n",
        "#8:1:1(train_dataは後に後に3倍になるため倍になるため*3する)\n",
        "ACC_ratio = (len(original)//10)*1\n",
        "test_ratio = (len(original)//10)*1 + ACC_ratio\n",
        "#ACC\n",
        "Acc_docs_double = double_mask[:ACC_ratio]\n",
        "Acc_labels = original[:ACC_ratio]\n",
        "#test\n",
        "test_docs_double = double_mask[ACC_ratio:test_ratio]\n",
        "test_labels = original[ACC_ratio:test_ratio]\n",
        "#train\n",
        "train_double = double_mask[test_ratio:]\n",
        "original_texts = original[test_ratio:]"
      ],
      "metadata": {
        "id": "gnZDcbCNM_fN"
      },
      "execution_count": null,
      "outputs": []
    },
    {
      "cell_type": "code",
      "source": [
        "print(len(Acc_docs_double),len(Acc_labels))\n",
        "print(len(test_labels))\n",
        "print(len(original_texts))\n",
        "print(len(train_double))"
      ],
      "metadata": {
        "colab": {
          "base_uri": "https://localhost:8080/"
        },
        "id": "xRNxn9dBpoL8",
        "outputId": "b0859035-5907-4972-dfe7-eb87b0884197"
      },
      "execution_count": null,
      "outputs": [
        {
          "output_type": "stream",
          "name": "stdout",
          "text": [
            "20 20\n",
            "20\n",
            "167\n",
            "167\n"
          ]
        }
      ]
    },
    {
      "cell_type": "code",
      "source": [
        "train_docs_double = train_double\n",
        "train_labels = original_texts\n",
        "\n",
        "\n",
        "print(\"訓練データ\")\n",
        "print(len(train_docs_double),len(train_labels))\n",
        "print(\"評価データ\")\n",
        "print(len(Acc_docs_double),len(Acc_labels))\n",
        "print(\"テストデータ\")\n",
        "print(len(test_docs_double),len(test_labels))"
      ],
      "metadata": {
        "colab": {
          "base_uri": "https://localhost:8080/"
        },
        "id": "qlSF2p84brWl",
        "outputId": "752ee690-f07a-4acd-f5ba-4adee10d95f8"
      },
      "execution_count": null,
      "outputs": [
        {
          "output_type": "stream",
          "name": "stdout",
          "text": [
            "訓練データ\n",
            "167 167\n",
            "評価データ\n",
            "20 20\n",
            "テストデータ\n",
            "20 20\n"
          ]
        }
      ]
    },
    {
      "cell_type": "markdown",
      "source": [
        "## 形態素解析"
      ],
      "metadata": {
        "id": "6vqGmDeFfzII"
      }
    },
    {
      "cell_type": "code",
      "source": [
        "encodings = tokenizer(train_docs_double, return_tensors='pt', padding=True, truncation=True, max_length=64)\n",
        "input_ids = encodings['input_ids']\n",
        "attention_mask = encodings['attention_mask']\n",
        "encodings = tokenizer(train_labels, return_tensors='pt', padding=True, truncation=True, max_length=64)\n",
        "labels = encodings['input_ids']\n",
        "print(encodings)"
      ],
      "metadata": {
        "id": "vpsW5OZVbx3A",
        "colab": {
          "base_uri": "https://localhost:8080/"
        },
        "outputId": "10a5369c-0021-4dd2-c6bd-a4319db276ca"
      },
      "execution_count": null,
      "outputs": [
        {
          "output_type": "stream",
          "name": "stdout",
          "text": [
            "{'input_ids': tensor([[    2,  1414, 17703,  ...,     0,     0,     0],\n",
            "        [    2,  3407,   524,  ...,     0,     0,     0],\n",
            "        [    2,   147, 29294,  ...,     0,     0,     0],\n",
            "        ...,\n",
            "        [    2, 18335, 28467,  ...,     0,     0,     0],\n",
            "        [    2,  3337,  2833,  ...,     0,     0,     0],\n",
            "        [    2,  8616,  1801,  ...,     0,     0,     0]]), 'token_type_ids': tensor([[0, 0, 0,  ..., 0, 0, 0],\n",
            "        [0, 0, 0,  ..., 0, 0, 0],\n",
            "        [0, 0, 0,  ..., 0, 0, 0],\n",
            "        ...,\n",
            "        [0, 0, 0,  ..., 0, 0, 0],\n",
            "        [0, 0, 0,  ..., 0, 0, 0],\n",
            "        [0, 0, 0,  ..., 0, 0, 0]]), 'attention_mask': tensor([[1, 1, 1,  ..., 0, 0, 0],\n",
            "        [1, 1, 1,  ..., 0, 0, 0],\n",
            "        [1, 1, 1,  ..., 0, 0, 0],\n",
            "        ...,\n",
            "        [1, 1, 1,  ..., 0, 0, 0],\n",
            "        [1, 1, 1,  ..., 0, 0, 0],\n",
            "        [1, 1, 1,  ..., 0, 0, 0]])}\n"
          ]
        }
      ]
    },
    {
      "cell_type": "code",
      "source": [
        "encodings = tokenizer(Acc_docs_double, return_tensors='pt', padding=True, truncation=True, max_length=64)\n",
        "acc_input_ids = encodings['input_ids']\n",
        "acc_attention_mask = encodings['attention_mask']\n",
        "encodings = tokenizer(Acc_labels, return_tensors='pt', padding=True, truncation=True, max_length=64)\n",
        "acc_labels = encodings['input_ids']"
      ],
      "metadata": {
        "id": "Qofe4w0MpBhq"
      },
      "execution_count": null,
      "outputs": []
    },
    {
      "cell_type": "markdown",
      "source": [
        "## 関数定義"
      ],
      "metadata": {
        "id": "OQeccry5cJi_"
      }
    },
    {
      "cell_type": "code",
      "source": [
        "\"\"\"\n",
        "リストが一致しているかしているかboolで返す\n",
        "\"\"\"\n",
        "def MatchList(list1,list2):\n",
        "  for i in range(len(list1)):\n",
        "    if list1[i] != list2[i]:\n",
        "      return False\n",
        "  return True\n",
        "\n",
        "\"\"\"\n",
        "model:model\n",
        "input:入力データ\n",
        "tokenizer:トークナイザ\n",
        "label:ラベル\n",
        "\"\"\"\n",
        "def predict(model,tokenizer,input,label):\n",
        "  model.eval()\n",
        "  encodings = tokenizer(input, return_tensors='pt', padding=True, truncation=True, max_length=64)\n",
        "  input_ids = encodings['input_ids']\n",
        "  encodings = tokenizer(label, return_tensors='pt', padding=True, truncation=True, max_length=64)\n",
        "  label_ids = encodings['input_ids']\n",
        "  count = 0\n",
        "  bunbo = 0\n",
        "  batch = 16\n",
        "  num = len(input_ids)//batch + 1\n",
        "  correctAnswer = [] #正解したのを保存するリスト\n",
        "  All_return_result = []\n",
        "  for b in range(num):#bacthに分けて学習するためnumの回数繰り返す\n",
        "    section = batch*b\n",
        "    section2 = section+batch\n",
        "    batch_input_ids = input_ids[section:section2]\n",
        "    if(b == num-1):\n",
        "      batch_input_ids = input_ids[section:]\n",
        "\n",
        "    with torch.no_grad():\n",
        "      outputs = model(batch_input_ids)\n",
        "\n",
        "    masked_position = (batch_input_ids.squeeze() == tokenizer.mask_token_id).nonzero() #これでマスク部分の抽出ができるらしい\n",
        "    last_hidden_state = outputs[0].squeeze()#出力\n",
        "\n",
        "    masked_pos = []\n",
        "    [masked_pos.append([])for _ in range(masked_position[-1][0]+1)]\n",
        "\n",
        "    for i in masked_position:\n",
        "        masked_pos[i[0].item()].append(i[1].item())\n",
        "\n",
        "\n",
        "    topk = 1\n",
        "    for index,mask_index in enumerate(masked_pos):\n",
        "      result=[]\n",
        "      answer=[]\n",
        "      \n",
        "      for i in mask_index:\n",
        "        mask_hidden_state = last_hidden_state[index][i] # 詳細結果の参照\n",
        "        idx = torch.topk(mask_hidden_state, k=topk, dim=0)[1] # 予測結果の上位を出力\n",
        "        words = [tokenizer.decode(i.item()).strip() for i in idx]\n",
        "        result.append(words[0])\n",
        "        answer_words = tokenizer.decode(label_ids[index+section][i].item()).strip()\n",
        "        answer.append(answer_words)\n",
        "\n",
        "      result_docs = input[index+section]\n",
        "      for i in result:\n",
        "        i=i.replace(\" \",\"\")\n",
        "        result_docs = result_docs.replace('[MASK]',i,1)\n",
        "      if(MatchList(result,answer)):\n",
        "        count += 1\n",
        "        correctAnswer.append(result_docs.replace(\"\\n\",\"\"))\n",
        "      # print(\"------------\")\n",
        "      # print(\"maskに対する予測\",result)\n",
        "      # print(\"答え答え　　　　 \",answer)\n",
        "      # print(\"予測した文章　:\"+result_docs.replace(\"\\n\",\"\"))\n",
        "      # print(\"元の文章　　　:\"+label[index+section].replace(\"\\n\",\"\"))\n",
        "      return_result = [result,answer,result_docs.replace(\"\\n\",\"\"),label[index+section].replace(\"\\n\",\"\")]\n",
        "      All_return_result.append(return_result)\n",
        "      bunbo += 1\n",
        "  print(str(count)+\"/\"+str(bunbo))\n",
        "  # for i in correctAnswer:\n",
        "  #   print(i)\n",
        "  score = count/bunbo\n",
        "  return {\"分数\":str(count)+\"/\"+str(bunbo),\"スコア\":score,\"正解リスト\":correctAnswer,\"予測\":All_return_result}"
      ],
      "metadata": {
        "id": "gZJhobhQMkwY"
      },
      "execution_count": null,
      "outputs": []
    },
    {
      "cell_type": "markdown",
      "source": [
        "## ファインチューニング前に一度結果を確認"
      ],
      "metadata": {
        "id": "V1usHOqHAhHk"
      }
    },
    {
      "cell_type": "code",
      "source": [
        "test_result = predict(model,tokenizer,test_docs_double,test_labels)"
      ],
      "metadata": {
        "id": "J0vHXELjKoi6",
        "colab": {
          "base_uri": "https://localhost:8080/",
          "height": 182
        },
        "outputId": "83a97447-17eb-45af-c931-c01e659fa3fc"
      },
      "execution_count": 1,
      "outputs": [
        {
          "output_type": "error",
          "ename": "NameError",
          "evalue": "ignored",
          "traceback": [
            "\u001b[0;31m---------------------------------------------------------------------------\u001b[0m",
            "\u001b[0;31mNameError\u001b[0m                                 Traceback (most recent call last)",
            "\u001b[0;32m<ipython-input-1-8eec11be2c44>\u001b[0m in \u001b[0;36m<module>\u001b[0;34m\u001b[0m\n\u001b[0;32m----> 1\u001b[0;31m \u001b[0mtest_result\u001b[0m \u001b[0;34m=\u001b[0m \u001b[0mpredict\u001b[0m\u001b[0;34m(\u001b[0m\u001b[0mmodel\u001b[0m\u001b[0;34m,\u001b[0m\u001b[0mtokenizer\u001b[0m\u001b[0;34m,\u001b[0m\u001b[0mtest_docs_double\u001b[0m\u001b[0;34m,\u001b[0m\u001b[0mtest_labels\u001b[0m\u001b[0;34m)\u001b[0m\u001b[0;34m\u001b[0m\u001b[0;34m\u001b[0m\u001b[0m\n\u001b[0m",
            "\u001b[0;31mNameError\u001b[0m: name 'predict' is not defined"
          ]
        }
      ]
    },
    {
      "cell_type": "code",
      "source": [
        "test_result[\"分数\"]"
      ],
      "metadata": {
        "colab": {
          "base_uri": "https://localhost:8080/",
          "height": 157
        },
        "id": "GfFu3A4mmI2d",
        "outputId": "8604a29c-694d-4bb8-9a32-6fd9b7adad6f"
      },
      "execution_count": null,
      "outputs": [
        {
          "output_type": "execute_result",
          "data": {
            "text/plain": [
              "'1/20'"
            ],
            "application/vnd.google.colaboratory.intrinsic+json": {
              "type": "string"
            }
          },
          "metadata": {},
          "execution_count": 22
        }
      ]
    },
    {
      "cell_type": "markdown",
      "source": [
        "# 実験"
      ],
      "metadata": {
        "id": "rhVoetlUCTuq"
      }
    },
    {
      "cell_type": "markdown",
      "source": [
        "## ファインチューニング"
      ],
      "metadata": {
        "id": "xwLiQUqOYXj4"
      }
    },
    {
      "cell_type": "markdown",
      "source": [
        "### 定義"
      ],
      "metadata": {
        "id": "nYQSyLCud0cH"
      }
    },
    {
      "cell_type": "code",
      "source": [
        "import numpy as np\n",
        "def cos_sim(v1, v2):\n",
        "    return np.dot(v1, v2) / (np.linalg.norm(v1) * np.linalg.norm(v2))\n",
        "\n",
        "class EarlyStopping:\n",
        "    \"\"\"Early stops the training if validation loss doesn't improve after a given patience.\"\"\"\n",
        "    def __init__(self, patience=7, verbose=False, delta=0, path='checkpoint.pt', trace_func=print):\n",
        "        \"\"\"\n",
        "        Args:\n",
        "            patience (int): How long to wait after last time validation loss improved.\n",
        "                            Default: 7\n",
        "            verbose (bool): If True, prints a message for each validation loss improvement. \n",
        "                            Default: False\n",
        "            delta (float): Minimum change in the monitored quantity to qualify as an improvement.\n",
        "                            Default: 0\n",
        "            path (str): Path for the checkpoint to be saved to.\n",
        "                            Default: 'checkpoint.pt'\n",
        "            trace_func (function): trace print function.\n",
        "                            Default: print            \n",
        "        \"\"\"\n",
        "        self.patience = patience\n",
        "        self.verbose = verbose\n",
        "        self.counter = 0\n",
        "        self.best_score = None\n",
        "        self.early_stop = False\n",
        "        self.val_loss_min = np.Inf\n",
        "        self.delta = delta\n",
        "        self.path = path\n",
        "        self.trace_func = trace_func\n",
        "    def __call__(self, val_loss, model):\n",
        "\n",
        "        score = -val_loss\n",
        "\n",
        "        if self.best_score is None:\n",
        "            self.best_score = score\n",
        "            self.save_checkpoint(val_loss, model)\n",
        "        elif score < self.best_score + self.delta:\n",
        "            self.counter += 1\n",
        "            self.trace_func(f'EarlyStopping counter: {self.counter} out of {self.patience}')\n",
        "            if self.counter >= self.patience:\n",
        "                self.early_stop = True\n",
        "        else:\n",
        "            self.best_score = score\n",
        "            self.save_checkpoint(val_loss, model)\n",
        "            self.counter = 0\n",
        "\n",
        "    def save_checkpoint(self, val_loss, model):\n",
        "        '''Saves model when validation loss decrease.'''\n",
        "        if self.verbose:\n",
        "            self.trace_func(f'Validation loss decreased ({self.val_loss_min:.6f} --> {val_loss:.6f}).  Saving model ...')\n",
        "        torch.save(model.state_dict(), self.path)\n",
        "        self.val_loss_min = val_loss\n",
        "\n",
        "from torch import nn\n",
        "# 適当なモデル\n",
        "class Model(nn.Module):\n",
        "    def __init__(self):\n",
        "        super(Model, self).__init__()\n",
        "        self.Linear = nn.Linear(1, 1)\n",
        "    \n",
        "    def forward(self, x):\n",
        "        pass"
      ],
      "metadata": {
        "id": "uzOZtPwoHeQ0"
      },
      "execution_count": null,
      "outputs": []
    },
    {
      "cell_type": "markdown",
      "source": [
        "### ファインチューニング"
      ],
      "metadata": {
        "id": "ELoCqnLhd4uG"
      }
    },
    {
      "cell_type": "code",
      "source": [
        "optimizer = AdamW(model.parameters(), lr=1e-5)\n",
        "early_stopping = EarlyStopping(patience=3)\n",
        "epoch = 100\n",
        "batch = 16\n",
        "num = len(input_ids)//batch\n",
        "loss_list = []\n",
        "val_loss = []\n",
        "test_acc = []\n",
        "val_acc = []\n",
        "train_acc = []\n",
        "result_list = [[],[],[]]\n",
        "for i in range(epoch):#epochの数だけ繰り返す\n",
        "  print(\"-----------epoch\"+str(i+1)+\"----------\")\n",
        "  test_result = test_acc.append(predict(model,tokenizer,test_docs_double,test_labels))\n",
        "  train_result = train_acc.append(predict(model,tokenizer,train_docs_double,train_labels))\n",
        "  val_result = val_acc.append(predict(model,tokenizer,Acc_docs_double,Acc_labels))\n",
        "  result_list[0].append(test_result)\n",
        "  result_list[1].append(train_result)\n",
        "  result_list[2].append(val_result)\n",
        "  for b in range(num):#bacthに分けて学習するためnumの回数繰り返す\n",
        "    c=b+1\n",
        "    outputs = model(input_ids[batch*b:batch*c], attention_mask=attention_mask[batch*b:batch*c], labels=labels[batch*b:batch*c])\n",
        "    loss = outputs.loss\n",
        "    loss_list.append(loss.item())\n",
        "    print(loss)\n",
        "    loss.backward()\n",
        "    optimizer.step()\n",
        "    \n",
        "\n",
        "\n",
        "  with torch.no_grad():\n",
        "    outputs = model(acc_input_ids,attention_mask=acc_attention_mask,labels=acc_labels)\n",
        "  loss = outputs.loss\n",
        "  val_loss.append(loss.item())\n",
        "  print(\"valののloss\")\n",
        "  print(loss)\n",
        "\n",
        "  early_stopping(loss, model)\n",
        "  if early_stopping.early_stop:\n",
        "    print(\"Early Stopping\")\n",
        "    break\n",
        "\n",
        "    \n",
        "      \n"
      ],
      "metadata": {
        "id": "fq4qSxmXb878"
      },
      "execution_count": null,
      "outputs": []
    },
    {
      "cell_type": "markdown",
      "source": [
        "# 結果"
      ],
      "metadata": {
        "id": "084P74f0CphX"
      }
    },
    {
      "cell_type": "markdown",
      "source": [
        "### 結果の保存"
      ],
      "metadata": {
        "id": "1ykqUEGQtwob"
      }
    },
    {
      "cell_type": "code",
      "source": [
        "# loss_list\n",
        "# val_loss\n",
        "# test_acc\n",
        "\n",
        "\n",
        "filepass='/content/drive/MyDrive/実験/result/パターンA/'\n",
        "filename=\"train_loss.txt\"\n",
        "with open(filepass+filename, mode='w') as f:\n",
        "    for i in loss_list:\n",
        "        f.write(str(i)+\"\\n\")\n",
        "\n",
        "filepass='/content/drive/MyDrive/実験/result/パターンA/'\n",
        "filename=\"val_loss.txt\"\n",
        "with open(filepass+filename, mode='w') as f:\n",
        "    for i in val_loss:\n",
        "        f.write(str(i)+\"\\n\")"
      ],
      "metadata": {
        "id": "1GHaOrEtuYLi"
      },
      "execution_count": null,
      "outputs": []
    },
    {
      "cell_type": "code",
      "source": [
        "import os\n",
        "filepass='/content/drive/MyDrive/実験/result/パターンA/テストデータ/epoch'\n",
        "filename=\"test_score\"\n",
        "filename2=\"test_predict\"\n",
        "for i in range(len(test_acc)):\n",
        "  save_pass = filepass+str(i+1)\n",
        "  os.makedirs(save_pass, exist_ok=True)\n",
        "  with open(save_pass+\"/\"+filename+str(i+1)+\".txt\", mode='w') as f:\n",
        "      f.write(test_acc[i][\"分数\"]+\",\"+str(test_acc[i][\"スコア\"])+\"\\n\")\n",
        "      for j in test_acc[i][\"正解リスト\"]:\n",
        "        f.write(j+\"\\n\")\n",
        "  \n",
        "  with open(save_pass+\"/\"+filename2+str(i+1)+\".txt\", mode='w') as f:\n",
        "      for j in test_acc[i][\"予測\"]:\n",
        "        f.write(\"予測結果：\"+j[0][0]+\",\"+j[0][1]+\"\\n\") \n",
        "        f.write(\"答え　　：\"+j[1][0]+\",\"+j[1][1]+\"\\n\") \n",
        "        f.write(\"予測文章：\"+j[2]+\"\\n\") \n",
        "        f.write(\"元の文章：\"+j[3]+\"\\n\")  \n"
      ],
      "metadata": {
        "id": "rIx8cwtgv8Hl"
      },
      "execution_count": null,
      "outputs": []
    },
    {
      "cell_type": "code",
      "source": [
        "# val_acc\n",
        "# train_acc\n",
        "\n",
        "filepass='/content/drive/MyDrive/実験/result/パターンA/検証データ/epoch'\n",
        "filename=\"val_score\"\n",
        "filename2=\"val_predict\"\n",
        "for i in range(len(val_acc)):\n",
        "  save_pass = filepass+str(i+1)\n",
        "  os.makedirs(save_pass, exist_ok=True)\n",
        "  with open(save_pass+\"/\"+filename+str(i+1)+\".txt\", mode='w') as f:\n",
        "      f.write(val_acc[i][\"分数\"]+\",\"+str(val_acc[i][\"スコア\"])+\"\\n\")\n",
        "      for j in val_acc[i][\"正解リスト\"]:\n",
        "        f.write(j+\"\\n\")\n",
        "  \n",
        "  with open(save_pass+\"/\"+filename2+str(i+1)+\".txt\", mode='w') as f:\n",
        "      for j in val_acc[i][\"予測\"]:\n",
        "        f.write(\"予測結果：\"+j[0][0]+\",\"+j[0][1]+\"\\n\") \n",
        "        f.write(\"答え　　：\"+j[1][0]+\",\"+j[1][1]+\"\\n\") \n",
        "        f.write(\"予測文章：\"+j[2]+\"\\n\") \n",
        "        f.write(\"元の文章：\"+j[3]+\"\\n\")"
      ],
      "metadata": {
        "id": "GAbY_rXttwGY"
      },
      "execution_count": null,
      "outputs": []
    },
    {
      "cell_type": "code",
      "source": [
        "filepass='/content/drive/MyDrive/実験/result/パターンA/訓練データ/epoch'\n",
        "filename=\"train_score\"\n",
        "filename2=\"train_predict\"\n",
        "for i in range(len(train_acc)):\n",
        "  save_pass = filepass+str(i+1)\n",
        "  os.makedirs(save_pass, exist_ok=True)\n",
        "  with open(save_pass+\"/\"+filename+str(i+1)+\".txt\", mode='w') as f:\n",
        "      f.write(train_acc[i][\"分数\"]+\",\"+str(train_acc[i][\"スコア\"])+\"\\n\")\n",
        "      for j in train_acc[i][\"正解リスト\"]:\n",
        "        f.write(j+\"\\n\")\n",
        "  \n",
        "  with open(save_pass+\"/\"+filename2+str(i+1)+\".txt\", mode='w') as f:\n",
        "      for j in train_acc[i][\"予測\"]:\n",
        "        try:\n",
        "          f.write(\"予測結果：\"+j[0][0]+\",\"+j[0][1]+\"\\n\") \n",
        "          f.write(\"答え　　：\"+j[1][0]+\",\"+j[1][1]+\"\\n\")\n",
        "        except:\n",
        "          continue\n",
        "        f.write(\"予測文章：\"+j[2]+\"\\n\") \n",
        "        f.write(\"元の文章：\"+j[3]+\"\\n\")"
      ],
      "metadata": {
        "id": "MEK5gg2C61KA"
      },
      "execution_count": null,
      "outputs": []
    },
    {
      "cell_type": "markdown",
      "source": [
        "## 結果の確認"
      ],
      "metadata": {
        "id": "UF4UCe2JdWgG"
      }
    },
    {
      "cell_type": "code",
      "source": [
        "test_acc_score = []\n",
        "val_acc_score = []\n",
        "train_acc_score = []\n",
        "for i in train_acc:\n",
        "  train_acc_score.append(i[\"スコア\"])\n",
        "\n",
        "for i in val_acc:\n",
        "  val_acc_score.append(i[\"スコア\"])\n",
        "\n",
        "for i in test_acc:\n",
        "  test_acc_score.append(i[\"スコア\"])"
      ],
      "metadata": {
        "id": "PDmqAYqSnZYT"
      },
      "execution_count": null,
      "outputs": []
    },
    {
      "cell_type": "code",
      "source": [
        "#lossのグラフ化グラフ化\n",
        "import matplotlib as mpl\n",
        "import matplotlib.pyplot as plt\n",
        "\n",
        "a=len(loss_list)/len(val_loss)\n",
        "x = [i for i in range(len(loss_list))]\n",
        "y = loss_list\n",
        "x2 = [(i+1)*a for i in range(len(val_loss))]\n",
        "y2 = val_loss\n",
        "y3 = train_acc_score\n",
        "y4 = test_acc_score\n",
        "y5 = val_acc_score\n",
        "# plt.plot(x,y,color=\"b\")\n",
        "# plt.plot(x2,y2,color=\"r\") \n",
        "\n",
        "plt.plot(x,y)\n",
        "plt.plot(x2,y2)\n",
        "plt.show()\n",
        "\n",
        "\n",
        "\n",
        "plt.plot(x2,y3,color=\"g\",label=\"train\")\n",
        "plt.plot(x2,y4,color=\"c\",label=\"test\")\n",
        "plt.plot(x2,y5,color=\"m\",label=\"val\")\n",
        "plt.legend()\n",
        "plt.show()\n",
        "\n",
        "fig, ax1 = plt.subplots()\n",
        "ax2 = ax1.twinx()\n",
        "\n",
        "ax1.plot(x,y)\n",
        "ax1.plot(x2,y2)\n",
        "ax2.plot(x2,y3,color=\"g\")\n",
        "ax2.plot(x2,y4,color=\"c\")\n",
        "ax2.plot(x2,y5,color=\"m\")\n",
        "plt.ylim(0,1)\n",
        "ax1.set_xlabel('step')\n",
        "ax1.set_ylabel('loss')\n",
        "ax2.set_ylabel('acc')\n",
        "#plt.plot(x,y2,color=\"k\") # 点列(x,y)を黒線で繋いだプロット\n",
        "plt.show() # プロットを表示"
      ],
      "metadata": {
        "id": "rrBkuRMubkkz"
      },
      "execution_count": null,
      "outputs": []
    }
  ]
}