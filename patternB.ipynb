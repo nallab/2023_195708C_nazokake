{
  "nbformat": 4,
  "nbformat_minor": 0,
  "metadata": {
    "colab": {
      "provenance": [],
      "collapsed_sections": [
        "9jY3imvXfIuX",
        "HbI38W_zfS0N",
        "W-xpg2FXfZIg",
        "6bXjHQcWdFQ5",
        "6vqGmDeFfzII",
        "kEeao84vBo2Q",
        "V1usHOqHAhHk",
        "xM_uJEhj1nQL"
      ]
    },
    "kernelspec": {
      "name": "python3",
      "display_name": "Python 3"
    },
    "language_info": {
      "name": "python"
    },
    "accelerator": "GPU",
    "gpuClass": "standard",
    "widgets": {
      "application/vnd.jupyter.widget-state+json": {
        "64684e3835164897b7dc2fcf155881f4": {
          "model_module": "@jupyter-widgets/controls",
          "model_name": "HBoxModel",
          "model_module_version": "1.5.0",
          "state": {
            "_dom_classes": [],
            "_model_module": "@jupyter-widgets/controls",
            "_model_module_version": "1.5.0",
            "_model_name": "HBoxModel",
            "_view_count": null,
            "_view_module": "@jupyter-widgets/controls",
            "_view_module_version": "1.5.0",
            "_view_name": "HBoxView",
            "box_style": "",
            "children": [
              "IPY_MODEL_faf7ab2ecda9423ba79559aa6cd275ec",
              "IPY_MODEL_0777642b1c3343a3a6adc58ab89f50b4",
              "IPY_MODEL_0f04f58f91f84d78b829b613c527acd3"
            ],
            "layout": "IPY_MODEL_c634edfc58f2472c99588ce2b37a7dbf"
          }
        },
        "faf7ab2ecda9423ba79559aa6cd275ec": {
          "model_module": "@jupyter-widgets/controls",
          "model_name": "HTMLModel",
          "model_module_version": "1.5.0",
          "state": {
            "_dom_classes": [],
            "_model_module": "@jupyter-widgets/controls",
            "_model_module_version": "1.5.0",
            "_model_name": "HTMLModel",
            "_view_count": null,
            "_view_module": "@jupyter-widgets/controls",
            "_view_module_version": "1.5.0",
            "_view_name": "HTMLView",
            "description": "",
            "description_tooltip": null,
            "layout": "IPY_MODEL_ce6f2220e1474d37a48c15f1772aa9f4",
            "placeholder": "​",
            "style": "IPY_MODEL_984d3590f5764e5d86f434fee1c9393c",
            "value": "Downloading: 100%"
          }
        },
        "0777642b1c3343a3a6adc58ab89f50b4": {
          "model_module": "@jupyter-widgets/controls",
          "model_name": "FloatProgressModel",
          "model_module_version": "1.5.0",
          "state": {
            "_dom_classes": [],
            "_model_module": "@jupyter-widgets/controls",
            "_model_module_version": "1.5.0",
            "_model_name": "FloatProgressModel",
            "_view_count": null,
            "_view_module": "@jupyter-widgets/controls",
            "_view_module_version": "1.5.0",
            "_view_name": "ProgressView",
            "bar_style": "success",
            "description": "",
            "description_tooltip": null,
            "layout": "IPY_MODEL_1dc2192c06f84c739152c3254d6d2306",
            "max": 479,
            "min": 0,
            "orientation": "horizontal",
            "style": "IPY_MODEL_1ed3379a25a747a282c05afa94bf1f1d",
            "value": 479
          }
        },
        "0f04f58f91f84d78b829b613c527acd3": {
          "model_module": "@jupyter-widgets/controls",
          "model_name": "HTMLModel",
          "model_module_version": "1.5.0",
          "state": {
            "_dom_classes": [],
            "_model_module": "@jupyter-widgets/controls",
            "_model_module_version": "1.5.0",
            "_model_name": "HTMLModel",
            "_view_count": null,
            "_view_module": "@jupyter-widgets/controls",
            "_view_module_version": "1.5.0",
            "_view_name": "HTMLView",
            "description": "",
            "description_tooltip": null,
            "layout": "IPY_MODEL_4cc85697ad1344818519a6988c1f29d7",
            "placeholder": "​",
            "style": "IPY_MODEL_cb449da57f584d65a98d5024f5717c9b",
            "value": " 479/479 [00:00&lt;00:00, 26.3kB/s]"
          }
        },
        "c634edfc58f2472c99588ce2b37a7dbf": {
          "model_module": "@jupyter-widgets/base",
          "model_name": "LayoutModel",
          "model_module_version": "1.2.0",
          "state": {
            "_model_module": "@jupyter-widgets/base",
            "_model_module_version": "1.2.0",
            "_model_name": "LayoutModel",
            "_view_count": null,
            "_view_module": "@jupyter-widgets/base",
            "_view_module_version": "1.2.0",
            "_view_name": "LayoutView",
            "align_content": null,
            "align_items": null,
            "align_self": null,
            "border": null,
            "bottom": null,
            "display": null,
            "flex": null,
            "flex_flow": null,
            "grid_area": null,
            "grid_auto_columns": null,
            "grid_auto_flow": null,
            "grid_auto_rows": null,
            "grid_column": null,
            "grid_gap": null,
            "grid_row": null,
            "grid_template_areas": null,
            "grid_template_columns": null,
            "grid_template_rows": null,
            "height": null,
            "justify_content": null,
            "justify_items": null,
            "left": null,
            "margin": null,
            "max_height": null,
            "max_width": null,
            "min_height": null,
            "min_width": null,
            "object_fit": null,
            "object_position": null,
            "order": null,
            "overflow": null,
            "overflow_x": null,
            "overflow_y": null,
            "padding": null,
            "right": null,
            "top": null,
            "visibility": null,
            "width": null
          }
        },
        "ce6f2220e1474d37a48c15f1772aa9f4": {
          "model_module": "@jupyter-widgets/base",
          "model_name": "LayoutModel",
          "model_module_version": "1.2.0",
          "state": {
            "_model_module": "@jupyter-widgets/base",
            "_model_module_version": "1.2.0",
            "_model_name": "LayoutModel",
            "_view_count": null,
            "_view_module": "@jupyter-widgets/base",
            "_view_module_version": "1.2.0",
            "_view_name": "LayoutView",
            "align_content": null,
            "align_items": null,
            "align_self": null,
            "border": null,
            "bottom": null,
            "display": null,
            "flex": null,
            "flex_flow": null,
            "grid_area": null,
            "grid_auto_columns": null,
            "grid_auto_flow": null,
            "grid_auto_rows": null,
            "grid_column": null,
            "grid_gap": null,
            "grid_row": null,
            "grid_template_areas": null,
            "grid_template_columns": null,
            "grid_template_rows": null,
            "height": null,
            "justify_content": null,
            "justify_items": null,
            "left": null,
            "margin": null,
            "max_height": null,
            "max_width": null,
            "min_height": null,
            "min_width": null,
            "object_fit": null,
            "object_position": null,
            "order": null,
            "overflow": null,
            "overflow_x": null,
            "overflow_y": null,
            "padding": null,
            "right": null,
            "top": null,
            "visibility": null,
            "width": null
          }
        },
        "984d3590f5764e5d86f434fee1c9393c": {
          "model_module": "@jupyter-widgets/controls",
          "model_name": "DescriptionStyleModel",
          "model_module_version": "1.5.0",
          "state": {
            "_model_module": "@jupyter-widgets/controls",
            "_model_module_version": "1.5.0",
            "_model_name": "DescriptionStyleModel",
            "_view_count": null,
            "_view_module": "@jupyter-widgets/base",
            "_view_module_version": "1.2.0",
            "_view_name": "StyleView",
            "description_width": ""
          }
        },
        "1dc2192c06f84c739152c3254d6d2306": {
          "model_module": "@jupyter-widgets/base",
          "model_name": "LayoutModel",
          "model_module_version": "1.2.0",
          "state": {
            "_model_module": "@jupyter-widgets/base",
            "_model_module_version": "1.2.0",
            "_model_name": "LayoutModel",
            "_view_count": null,
            "_view_module": "@jupyter-widgets/base",
            "_view_module_version": "1.2.0",
            "_view_name": "LayoutView",
            "align_content": null,
            "align_items": null,
            "align_self": null,
            "border": null,
            "bottom": null,
            "display": null,
            "flex": null,
            "flex_flow": null,
            "grid_area": null,
            "grid_auto_columns": null,
            "grid_auto_flow": null,
            "grid_auto_rows": null,
            "grid_column": null,
            "grid_gap": null,
            "grid_row": null,
            "grid_template_areas": null,
            "grid_template_columns": null,
            "grid_template_rows": null,
            "height": null,
            "justify_content": null,
            "justify_items": null,
            "left": null,
            "margin": null,
            "max_height": null,
            "max_width": null,
            "min_height": null,
            "min_width": null,
            "object_fit": null,
            "object_position": null,
            "order": null,
            "overflow": null,
            "overflow_x": null,
            "overflow_y": null,
            "padding": null,
            "right": null,
            "top": null,
            "visibility": null,
            "width": null
          }
        },
        "1ed3379a25a747a282c05afa94bf1f1d": {
          "model_module": "@jupyter-widgets/controls",
          "model_name": "ProgressStyleModel",
          "model_module_version": "1.5.0",
          "state": {
            "_model_module": "@jupyter-widgets/controls",
            "_model_module_version": "1.5.0",
            "_model_name": "ProgressStyleModel",
            "_view_count": null,
            "_view_module": "@jupyter-widgets/base",
            "_view_module_version": "1.2.0",
            "_view_name": "StyleView",
            "bar_color": null,
            "description_width": ""
          }
        },
        "4cc85697ad1344818519a6988c1f29d7": {
          "model_module": "@jupyter-widgets/base",
          "model_name": "LayoutModel",
          "model_module_version": "1.2.0",
          "state": {
            "_model_module": "@jupyter-widgets/base",
            "_model_module_version": "1.2.0",
            "_model_name": "LayoutModel",
            "_view_count": null,
            "_view_module": "@jupyter-widgets/base",
            "_view_module_version": "1.2.0",
            "_view_name": "LayoutView",
            "align_content": null,
            "align_items": null,
            "align_self": null,
            "border": null,
            "bottom": null,
            "display": null,
            "flex": null,
            "flex_flow": null,
            "grid_area": null,
            "grid_auto_columns": null,
            "grid_auto_flow": null,
            "grid_auto_rows": null,
            "grid_column": null,
            "grid_gap": null,
            "grid_row": null,
            "grid_template_areas": null,
            "grid_template_columns": null,
            "grid_template_rows": null,
            "height": null,
            "justify_content": null,
            "justify_items": null,
            "left": null,
            "margin": null,
            "max_height": null,
            "max_width": null,
            "min_height": null,
            "min_width": null,
            "object_fit": null,
            "object_position": null,
            "order": null,
            "overflow": null,
            "overflow_x": null,
            "overflow_y": null,
            "padding": null,
            "right": null,
            "top": null,
            "visibility": null,
            "width": null
          }
        },
        "cb449da57f584d65a98d5024f5717c9b": {
          "model_module": "@jupyter-widgets/controls",
          "model_name": "DescriptionStyleModel",
          "model_module_version": "1.5.0",
          "state": {
            "_model_module": "@jupyter-widgets/controls",
            "_model_module_version": "1.5.0",
            "_model_name": "DescriptionStyleModel",
            "_view_count": null,
            "_view_module": "@jupyter-widgets/base",
            "_view_module_version": "1.2.0",
            "_view_name": "StyleView",
            "description_width": ""
          }
        },
        "7cf13ea2192f45a8b6bf234b8465acfd": {
          "model_module": "@jupyter-widgets/controls",
          "model_name": "HBoxModel",
          "model_module_version": "1.5.0",
          "state": {
            "_dom_classes": [],
            "_model_module": "@jupyter-widgets/controls",
            "_model_module_version": "1.5.0",
            "_model_name": "HBoxModel",
            "_view_count": null,
            "_view_module": "@jupyter-widgets/controls",
            "_view_module_version": "1.5.0",
            "_view_name": "HBoxView",
            "box_style": "",
            "children": [
              "IPY_MODEL_2e46ad8caf594de0a05291f1ad3e5e75",
              "IPY_MODEL_6c6b0e60212c4505acea9d37834d2007",
              "IPY_MODEL_dd7a03329ec24719a2e4a748b0a4b0bf"
            ],
            "layout": "IPY_MODEL_2e0984aefc8746788690d0e44a3fe47e"
          }
        },
        "2e46ad8caf594de0a05291f1ad3e5e75": {
          "model_module": "@jupyter-widgets/controls",
          "model_name": "HTMLModel",
          "model_module_version": "1.5.0",
          "state": {
            "_dom_classes": [],
            "_model_module": "@jupyter-widgets/controls",
            "_model_module_version": "1.5.0",
            "_model_name": "HTMLModel",
            "_view_count": null,
            "_view_module": "@jupyter-widgets/controls",
            "_view_module_version": "1.5.0",
            "_view_name": "HTMLView",
            "description": "",
            "description_tooltip": null,
            "layout": "IPY_MODEL_5e5a663d0f0e4bbe9cf3592c1457ad97",
            "placeholder": "​",
            "style": "IPY_MODEL_45e1415b3d854846b0a6769bd5f4e864",
            "value": "Downloading: 100%"
          }
        },
        "6c6b0e60212c4505acea9d37834d2007": {
          "model_module": "@jupyter-widgets/controls",
          "model_name": "FloatProgressModel",
          "model_module_version": "1.5.0",
          "state": {
            "_dom_classes": [],
            "_model_module": "@jupyter-widgets/controls",
            "_model_module_version": "1.5.0",
            "_model_name": "FloatProgressModel",
            "_view_count": null,
            "_view_module": "@jupyter-widgets/controls",
            "_view_module_version": "1.5.0",
            "_view_name": "ProgressView",
            "bar_style": "success",
            "description": "",
            "description_tooltip": null,
            "layout": "IPY_MODEL_2432d3cfca554dbdbff12a4348f82cac",
            "max": 445021143,
            "min": 0,
            "orientation": "horizontal",
            "style": "IPY_MODEL_bb0f9cbb1f014c4d97376af770fd1835",
            "value": 445021143
          }
        },
        "dd7a03329ec24719a2e4a748b0a4b0bf": {
          "model_module": "@jupyter-widgets/controls",
          "model_name": "HTMLModel",
          "model_module_version": "1.5.0",
          "state": {
            "_dom_classes": [],
            "_model_module": "@jupyter-widgets/controls",
            "_model_module_version": "1.5.0",
            "_model_name": "HTMLModel",
            "_view_count": null,
            "_view_module": "@jupyter-widgets/controls",
            "_view_module_version": "1.5.0",
            "_view_name": "HTMLView",
            "description": "",
            "description_tooltip": null,
            "layout": "IPY_MODEL_adf9faa956fa447fb466b9688919963d",
            "placeholder": "​",
            "style": "IPY_MODEL_c0ff9ad664c443ed8de11eb4a1e5ac70",
            "value": " 445M/445M [00:06&lt;00:00, 80.9MB/s]"
          }
        },
        "2e0984aefc8746788690d0e44a3fe47e": {
          "model_module": "@jupyter-widgets/base",
          "model_name": "LayoutModel",
          "model_module_version": "1.2.0",
          "state": {
            "_model_module": "@jupyter-widgets/base",
            "_model_module_version": "1.2.0",
            "_model_name": "LayoutModel",
            "_view_count": null,
            "_view_module": "@jupyter-widgets/base",
            "_view_module_version": "1.2.0",
            "_view_name": "LayoutView",
            "align_content": null,
            "align_items": null,
            "align_self": null,
            "border": null,
            "bottom": null,
            "display": null,
            "flex": null,
            "flex_flow": null,
            "grid_area": null,
            "grid_auto_columns": null,
            "grid_auto_flow": null,
            "grid_auto_rows": null,
            "grid_column": null,
            "grid_gap": null,
            "grid_row": null,
            "grid_template_areas": null,
            "grid_template_columns": null,
            "grid_template_rows": null,
            "height": null,
            "justify_content": null,
            "justify_items": null,
            "left": null,
            "margin": null,
            "max_height": null,
            "max_width": null,
            "min_height": null,
            "min_width": null,
            "object_fit": null,
            "object_position": null,
            "order": null,
            "overflow": null,
            "overflow_x": null,
            "overflow_y": null,
            "padding": null,
            "right": null,
            "top": null,
            "visibility": null,
            "width": null
          }
        },
        "5e5a663d0f0e4bbe9cf3592c1457ad97": {
          "model_module": "@jupyter-widgets/base",
          "model_name": "LayoutModel",
          "model_module_version": "1.2.0",
          "state": {
            "_model_module": "@jupyter-widgets/base",
            "_model_module_version": "1.2.0",
            "_model_name": "LayoutModel",
            "_view_count": null,
            "_view_module": "@jupyter-widgets/base",
            "_view_module_version": "1.2.0",
            "_view_name": "LayoutView",
            "align_content": null,
            "align_items": null,
            "align_self": null,
            "border": null,
            "bottom": null,
            "display": null,
            "flex": null,
            "flex_flow": null,
            "grid_area": null,
            "grid_auto_columns": null,
            "grid_auto_flow": null,
            "grid_auto_rows": null,
            "grid_column": null,
            "grid_gap": null,
            "grid_row": null,
            "grid_template_areas": null,
            "grid_template_columns": null,
            "grid_template_rows": null,
            "height": null,
            "justify_content": null,
            "justify_items": null,
            "left": null,
            "margin": null,
            "max_height": null,
            "max_width": null,
            "min_height": null,
            "min_width": null,
            "object_fit": null,
            "object_position": null,
            "order": null,
            "overflow": null,
            "overflow_x": null,
            "overflow_y": null,
            "padding": null,
            "right": null,
            "top": null,
            "visibility": null,
            "width": null
          }
        },
        "45e1415b3d854846b0a6769bd5f4e864": {
          "model_module": "@jupyter-widgets/controls",
          "model_name": "DescriptionStyleModel",
          "model_module_version": "1.5.0",
          "state": {
            "_model_module": "@jupyter-widgets/controls",
            "_model_module_version": "1.5.0",
            "_model_name": "DescriptionStyleModel",
            "_view_count": null,
            "_view_module": "@jupyter-widgets/base",
            "_view_module_version": "1.2.0",
            "_view_name": "StyleView",
            "description_width": ""
          }
        },
        "2432d3cfca554dbdbff12a4348f82cac": {
          "model_module": "@jupyter-widgets/base",
          "model_name": "LayoutModel",
          "model_module_version": "1.2.0",
          "state": {
            "_model_module": "@jupyter-widgets/base",
            "_model_module_version": "1.2.0",
            "_model_name": "LayoutModel",
            "_view_count": null,
            "_view_module": "@jupyter-widgets/base",
            "_view_module_version": "1.2.0",
            "_view_name": "LayoutView",
            "align_content": null,
            "align_items": null,
            "align_self": null,
            "border": null,
            "bottom": null,
            "display": null,
            "flex": null,
            "flex_flow": null,
            "grid_area": null,
            "grid_auto_columns": null,
            "grid_auto_flow": null,
            "grid_auto_rows": null,
            "grid_column": null,
            "grid_gap": null,
            "grid_row": null,
            "grid_template_areas": null,
            "grid_template_columns": null,
            "grid_template_rows": null,
            "height": null,
            "justify_content": null,
            "justify_items": null,
            "left": null,
            "margin": null,
            "max_height": null,
            "max_width": null,
            "min_height": null,
            "min_width": null,
            "object_fit": null,
            "object_position": null,
            "order": null,
            "overflow": null,
            "overflow_x": null,
            "overflow_y": null,
            "padding": null,
            "right": null,
            "top": null,
            "visibility": null,
            "width": null
          }
        },
        "bb0f9cbb1f014c4d97376af770fd1835": {
          "model_module": "@jupyter-widgets/controls",
          "model_name": "ProgressStyleModel",
          "model_module_version": "1.5.0",
          "state": {
            "_model_module": "@jupyter-widgets/controls",
            "_model_module_version": "1.5.0",
            "_model_name": "ProgressStyleModel",
            "_view_count": null,
            "_view_module": "@jupyter-widgets/base",
            "_view_module_version": "1.2.0",
            "_view_name": "StyleView",
            "bar_color": null,
            "description_width": ""
          }
        },
        "adf9faa956fa447fb466b9688919963d": {
          "model_module": "@jupyter-widgets/base",
          "model_name": "LayoutModel",
          "model_module_version": "1.2.0",
          "state": {
            "_model_module": "@jupyter-widgets/base",
            "_model_module_version": "1.2.0",
            "_model_name": "LayoutModel",
            "_view_count": null,
            "_view_module": "@jupyter-widgets/base",
            "_view_module_version": "1.2.0",
            "_view_name": "LayoutView",
            "align_content": null,
            "align_items": null,
            "align_self": null,
            "border": null,
            "bottom": null,
            "display": null,
            "flex": null,
            "flex_flow": null,
            "grid_area": null,
            "grid_auto_columns": null,
            "grid_auto_flow": null,
            "grid_auto_rows": null,
            "grid_column": null,
            "grid_gap": null,
            "grid_row": null,
            "grid_template_areas": null,
            "grid_template_columns": null,
            "grid_template_rows": null,
            "height": null,
            "justify_content": null,
            "justify_items": null,
            "left": null,
            "margin": null,
            "max_height": null,
            "max_width": null,
            "min_height": null,
            "min_width": null,
            "object_fit": null,
            "object_position": null,
            "order": null,
            "overflow": null,
            "overflow_x": null,
            "overflow_y": null,
            "padding": null,
            "right": null,
            "top": null,
            "visibility": null,
            "width": null
          }
        },
        "c0ff9ad664c443ed8de11eb4a1e5ac70": {
          "model_module": "@jupyter-widgets/controls",
          "model_name": "DescriptionStyleModel",
          "model_module_version": "1.5.0",
          "state": {
            "_model_module": "@jupyter-widgets/controls",
            "_model_module_version": "1.5.0",
            "_model_name": "DescriptionStyleModel",
            "_view_count": null,
            "_view_module": "@jupyter-widgets/base",
            "_view_module_version": "1.2.0",
            "_view_name": "StyleView",
            "description_width": ""
          }
        },
        "8634f913183a402987fa8d9c7dc38b7d": {
          "model_module": "@jupyter-widgets/controls",
          "model_name": "HBoxModel",
          "model_module_version": "1.5.0",
          "state": {
            "_dom_classes": [],
            "_model_module": "@jupyter-widgets/controls",
            "_model_module_version": "1.5.0",
            "_model_name": "HBoxModel",
            "_view_count": null,
            "_view_module": "@jupyter-widgets/controls",
            "_view_module_version": "1.5.0",
            "_view_name": "HBoxView",
            "box_style": "",
            "children": [
              "IPY_MODEL_3047262c527f45ecb9214b42bdc0b361",
              "IPY_MODEL_1c49ed6dc11147759b7f622bf867e9cc",
              "IPY_MODEL_266c5894f06b47fab89f6efb3443df74"
            ],
            "layout": "IPY_MODEL_96a121c31cd74ca596367d4e1780b23d"
          }
        },
        "3047262c527f45ecb9214b42bdc0b361": {
          "model_module": "@jupyter-widgets/controls",
          "model_name": "HTMLModel",
          "model_module_version": "1.5.0",
          "state": {
            "_dom_classes": [],
            "_model_module": "@jupyter-widgets/controls",
            "_model_module_version": "1.5.0",
            "_model_name": "HTMLModel",
            "_view_count": null,
            "_view_module": "@jupyter-widgets/controls",
            "_view_module_version": "1.5.0",
            "_view_name": "HTMLView",
            "description": "",
            "description_tooltip": null,
            "layout": "IPY_MODEL_99302ee2acbb4734918fe381e5bcf5b3",
            "placeholder": "​",
            "style": "IPY_MODEL_8240abd82be84706a05ca21bb8a2f6e1",
            "value": "Downloading: 100%"
          }
        },
        "1c49ed6dc11147759b7f622bf867e9cc": {
          "model_module": "@jupyter-widgets/controls",
          "model_name": "FloatProgressModel",
          "model_module_version": "1.5.0",
          "state": {
            "_dom_classes": [],
            "_model_module": "@jupyter-widgets/controls",
            "_model_module_version": "1.5.0",
            "_model_name": "FloatProgressModel",
            "_view_count": null,
            "_view_module": "@jupyter-widgets/controls",
            "_view_module_version": "1.5.0",
            "_view_name": "ProgressView",
            "bar_style": "success",
            "description": "",
            "description_tooltip": null,
            "layout": "IPY_MODEL_463c8e9704b94d30ae197a1a1b0c8123",
            "max": 257706,
            "min": 0,
            "orientation": "horizontal",
            "style": "IPY_MODEL_77879657463344de900318ea6c8570f6",
            "value": 257706
          }
        },
        "266c5894f06b47fab89f6efb3443df74": {
          "model_module": "@jupyter-widgets/controls",
          "model_name": "HTMLModel",
          "model_module_version": "1.5.0",
          "state": {
            "_dom_classes": [],
            "_model_module": "@jupyter-widgets/controls",
            "_model_module_version": "1.5.0",
            "_model_name": "HTMLModel",
            "_view_count": null,
            "_view_module": "@jupyter-widgets/controls",
            "_view_module_version": "1.5.0",
            "_view_name": "HTMLView",
            "description": "",
            "description_tooltip": null,
            "layout": "IPY_MODEL_cc31ae4ed29642a1a726c60e2b3f3542",
            "placeholder": "​",
            "style": "IPY_MODEL_25c02c4fd5454193ab42a46c339cf41e",
            "value": " 258k/258k [00:00&lt;00:00, 938kB/s]"
          }
        },
        "96a121c31cd74ca596367d4e1780b23d": {
          "model_module": "@jupyter-widgets/base",
          "model_name": "LayoutModel",
          "model_module_version": "1.2.0",
          "state": {
            "_model_module": "@jupyter-widgets/base",
            "_model_module_version": "1.2.0",
            "_model_name": "LayoutModel",
            "_view_count": null,
            "_view_module": "@jupyter-widgets/base",
            "_view_module_version": "1.2.0",
            "_view_name": "LayoutView",
            "align_content": null,
            "align_items": null,
            "align_self": null,
            "border": null,
            "bottom": null,
            "display": null,
            "flex": null,
            "flex_flow": null,
            "grid_area": null,
            "grid_auto_columns": null,
            "grid_auto_flow": null,
            "grid_auto_rows": null,
            "grid_column": null,
            "grid_gap": null,
            "grid_row": null,
            "grid_template_areas": null,
            "grid_template_columns": null,
            "grid_template_rows": null,
            "height": null,
            "justify_content": null,
            "justify_items": null,
            "left": null,
            "margin": null,
            "max_height": null,
            "max_width": null,
            "min_height": null,
            "min_width": null,
            "object_fit": null,
            "object_position": null,
            "order": null,
            "overflow": null,
            "overflow_x": null,
            "overflow_y": null,
            "padding": null,
            "right": null,
            "top": null,
            "visibility": null,
            "width": null
          }
        },
        "99302ee2acbb4734918fe381e5bcf5b3": {
          "model_module": "@jupyter-widgets/base",
          "model_name": "LayoutModel",
          "model_module_version": "1.2.0",
          "state": {
            "_model_module": "@jupyter-widgets/base",
            "_model_module_version": "1.2.0",
            "_model_name": "LayoutModel",
            "_view_count": null,
            "_view_module": "@jupyter-widgets/base",
            "_view_module_version": "1.2.0",
            "_view_name": "LayoutView",
            "align_content": null,
            "align_items": null,
            "align_self": null,
            "border": null,
            "bottom": null,
            "display": null,
            "flex": null,
            "flex_flow": null,
            "grid_area": null,
            "grid_auto_columns": null,
            "grid_auto_flow": null,
            "grid_auto_rows": null,
            "grid_column": null,
            "grid_gap": null,
            "grid_row": null,
            "grid_template_areas": null,
            "grid_template_columns": null,
            "grid_template_rows": null,
            "height": null,
            "justify_content": null,
            "justify_items": null,
            "left": null,
            "margin": null,
            "max_height": null,
            "max_width": null,
            "min_height": null,
            "min_width": null,
            "object_fit": null,
            "object_position": null,
            "order": null,
            "overflow": null,
            "overflow_x": null,
            "overflow_y": null,
            "padding": null,
            "right": null,
            "top": null,
            "visibility": null,
            "width": null
          }
        },
        "8240abd82be84706a05ca21bb8a2f6e1": {
          "model_module": "@jupyter-widgets/controls",
          "model_name": "DescriptionStyleModel",
          "model_module_version": "1.5.0",
          "state": {
            "_model_module": "@jupyter-widgets/controls",
            "_model_module_version": "1.5.0",
            "_model_name": "DescriptionStyleModel",
            "_view_count": null,
            "_view_module": "@jupyter-widgets/base",
            "_view_module_version": "1.2.0",
            "_view_name": "StyleView",
            "description_width": ""
          }
        },
        "463c8e9704b94d30ae197a1a1b0c8123": {
          "model_module": "@jupyter-widgets/base",
          "model_name": "LayoutModel",
          "model_module_version": "1.2.0",
          "state": {
            "_model_module": "@jupyter-widgets/base",
            "_model_module_version": "1.2.0",
            "_model_name": "LayoutModel",
            "_view_count": null,
            "_view_module": "@jupyter-widgets/base",
            "_view_module_version": "1.2.0",
            "_view_name": "LayoutView",
            "align_content": null,
            "align_items": null,
            "align_self": null,
            "border": null,
            "bottom": null,
            "display": null,
            "flex": null,
            "flex_flow": null,
            "grid_area": null,
            "grid_auto_columns": null,
            "grid_auto_flow": null,
            "grid_auto_rows": null,
            "grid_column": null,
            "grid_gap": null,
            "grid_row": null,
            "grid_template_areas": null,
            "grid_template_columns": null,
            "grid_template_rows": null,
            "height": null,
            "justify_content": null,
            "justify_items": null,
            "left": null,
            "margin": null,
            "max_height": null,
            "max_width": null,
            "min_height": null,
            "min_width": null,
            "object_fit": null,
            "object_position": null,
            "order": null,
            "overflow": null,
            "overflow_x": null,
            "overflow_y": null,
            "padding": null,
            "right": null,
            "top": null,
            "visibility": null,
            "width": null
          }
        },
        "77879657463344de900318ea6c8570f6": {
          "model_module": "@jupyter-widgets/controls",
          "model_name": "ProgressStyleModel",
          "model_module_version": "1.5.0",
          "state": {
            "_model_module": "@jupyter-widgets/controls",
            "_model_module_version": "1.5.0",
            "_model_name": "ProgressStyleModel",
            "_view_count": null,
            "_view_module": "@jupyter-widgets/base",
            "_view_module_version": "1.2.0",
            "_view_name": "StyleView",
            "bar_color": null,
            "description_width": ""
          }
        },
        "cc31ae4ed29642a1a726c60e2b3f3542": {
          "model_module": "@jupyter-widgets/base",
          "model_name": "LayoutModel",
          "model_module_version": "1.2.0",
          "state": {
            "_model_module": "@jupyter-widgets/base",
            "_model_module_version": "1.2.0",
            "_model_name": "LayoutModel",
            "_view_count": null,
            "_view_module": "@jupyter-widgets/base",
            "_view_module_version": "1.2.0",
            "_view_name": "LayoutView",
            "align_content": null,
            "align_items": null,
            "align_self": null,
            "border": null,
            "bottom": null,
            "display": null,
            "flex": null,
            "flex_flow": null,
            "grid_area": null,
            "grid_auto_columns": null,
            "grid_auto_flow": null,
            "grid_auto_rows": null,
            "grid_column": null,
            "grid_gap": null,
            "grid_row": null,
            "grid_template_areas": null,
            "grid_template_columns": null,
            "grid_template_rows": null,
            "height": null,
            "justify_content": null,
            "justify_items": null,
            "left": null,
            "margin": null,
            "max_height": null,
            "max_width": null,
            "min_height": null,
            "min_width": null,
            "object_fit": null,
            "object_position": null,
            "order": null,
            "overflow": null,
            "overflow_x": null,
            "overflow_y": null,
            "padding": null,
            "right": null,
            "top": null,
            "visibility": null,
            "width": null
          }
        },
        "25c02c4fd5454193ab42a46c339cf41e": {
          "model_module": "@jupyter-widgets/controls",
          "model_name": "DescriptionStyleModel",
          "model_module_version": "1.5.0",
          "state": {
            "_model_module": "@jupyter-widgets/controls",
            "_model_module_version": "1.5.0",
            "_model_name": "DescriptionStyleModel",
            "_view_count": null,
            "_view_module": "@jupyter-widgets/base",
            "_view_module_version": "1.2.0",
            "_view_name": "StyleView",
            "description_width": ""
          }
        },
        "554660de0a834e298dcd5407b0c6552e": {
          "model_module": "@jupyter-widgets/controls",
          "model_name": "HBoxModel",
          "model_module_version": "1.5.0",
          "state": {
            "_dom_classes": [],
            "_model_module": "@jupyter-widgets/controls",
            "_model_module_version": "1.5.0",
            "_model_name": "HBoxModel",
            "_view_count": null,
            "_view_module": "@jupyter-widgets/controls",
            "_view_module_version": "1.5.0",
            "_view_name": "HBoxView",
            "box_style": "",
            "children": [
              "IPY_MODEL_1dd0a4f8301b4e928d84cb6cd4e1e33a",
              "IPY_MODEL_ae76404d58e34e1db45558fe7a204728",
              "IPY_MODEL_dccbc8a98bc944e1811e458e83021b62"
            ],
            "layout": "IPY_MODEL_fa4b0a1e7e1840ed94bb9a8fa70e2b95"
          }
        },
        "1dd0a4f8301b4e928d84cb6cd4e1e33a": {
          "model_module": "@jupyter-widgets/controls",
          "model_name": "HTMLModel",
          "model_module_version": "1.5.0",
          "state": {
            "_dom_classes": [],
            "_model_module": "@jupyter-widgets/controls",
            "_model_module_version": "1.5.0",
            "_model_name": "HTMLModel",
            "_view_count": null,
            "_view_module": "@jupyter-widgets/controls",
            "_view_module_version": "1.5.0",
            "_view_name": "HTMLView",
            "description": "",
            "description_tooltip": null,
            "layout": "IPY_MODEL_6a5dc79409654152b498dd0363d2f608",
            "placeholder": "​",
            "style": "IPY_MODEL_7108460d67d5473f998731e11e7e3334",
            "value": "Downloading: 100%"
          }
        },
        "ae76404d58e34e1db45558fe7a204728": {
          "model_module": "@jupyter-widgets/controls",
          "model_name": "FloatProgressModel",
          "model_module_version": "1.5.0",
          "state": {
            "_dom_classes": [],
            "_model_module": "@jupyter-widgets/controls",
            "_model_module_version": "1.5.0",
            "_model_name": "FloatProgressModel",
            "_view_count": null,
            "_view_module": "@jupyter-widgets/controls",
            "_view_module_version": "1.5.0",
            "_view_name": "ProgressView",
            "bar_style": "success",
            "description": "",
            "description_tooltip": null,
            "layout": "IPY_MODEL_5c30c706832443dda893e9f467747fc3",
            "max": 110,
            "min": 0,
            "orientation": "horizontal",
            "style": "IPY_MODEL_1e5bcf59d5a84aeda4bb570272b166d0",
            "value": 110
          }
        },
        "dccbc8a98bc944e1811e458e83021b62": {
          "model_module": "@jupyter-widgets/controls",
          "model_name": "HTMLModel",
          "model_module_version": "1.5.0",
          "state": {
            "_dom_classes": [],
            "_model_module": "@jupyter-widgets/controls",
            "_model_module_version": "1.5.0",
            "_model_name": "HTMLModel",
            "_view_count": null,
            "_view_module": "@jupyter-widgets/controls",
            "_view_module_version": "1.5.0",
            "_view_name": "HTMLView",
            "description": "",
            "description_tooltip": null,
            "layout": "IPY_MODEL_dcd29c3ebc8e46bea8039623f9fd8af0",
            "placeholder": "​",
            "style": "IPY_MODEL_172ae04905b7420eba3d9fa8ed6ba6f1",
            "value": " 110/110 [00:00&lt;00:00, 1.55kB/s]"
          }
        },
        "fa4b0a1e7e1840ed94bb9a8fa70e2b95": {
          "model_module": "@jupyter-widgets/base",
          "model_name": "LayoutModel",
          "model_module_version": "1.2.0",
          "state": {
            "_model_module": "@jupyter-widgets/base",
            "_model_module_version": "1.2.0",
            "_model_name": "LayoutModel",
            "_view_count": null,
            "_view_module": "@jupyter-widgets/base",
            "_view_module_version": "1.2.0",
            "_view_name": "LayoutView",
            "align_content": null,
            "align_items": null,
            "align_self": null,
            "border": null,
            "bottom": null,
            "display": null,
            "flex": null,
            "flex_flow": null,
            "grid_area": null,
            "grid_auto_columns": null,
            "grid_auto_flow": null,
            "grid_auto_rows": null,
            "grid_column": null,
            "grid_gap": null,
            "grid_row": null,
            "grid_template_areas": null,
            "grid_template_columns": null,
            "grid_template_rows": null,
            "height": null,
            "justify_content": null,
            "justify_items": null,
            "left": null,
            "margin": null,
            "max_height": null,
            "max_width": null,
            "min_height": null,
            "min_width": null,
            "object_fit": null,
            "object_position": null,
            "order": null,
            "overflow": null,
            "overflow_x": null,
            "overflow_y": null,
            "padding": null,
            "right": null,
            "top": null,
            "visibility": null,
            "width": null
          }
        },
        "6a5dc79409654152b498dd0363d2f608": {
          "model_module": "@jupyter-widgets/base",
          "model_name": "LayoutModel",
          "model_module_version": "1.2.0",
          "state": {
            "_model_module": "@jupyter-widgets/base",
            "_model_module_version": "1.2.0",
            "_model_name": "LayoutModel",
            "_view_count": null,
            "_view_module": "@jupyter-widgets/base",
            "_view_module_version": "1.2.0",
            "_view_name": "LayoutView",
            "align_content": null,
            "align_items": null,
            "align_self": null,
            "border": null,
            "bottom": null,
            "display": null,
            "flex": null,
            "flex_flow": null,
            "grid_area": null,
            "grid_auto_columns": null,
            "grid_auto_flow": null,
            "grid_auto_rows": null,
            "grid_column": null,
            "grid_gap": null,
            "grid_row": null,
            "grid_template_areas": null,
            "grid_template_columns": null,
            "grid_template_rows": null,
            "height": null,
            "justify_content": null,
            "justify_items": null,
            "left": null,
            "margin": null,
            "max_height": null,
            "max_width": null,
            "min_height": null,
            "min_width": null,
            "object_fit": null,
            "object_position": null,
            "order": null,
            "overflow": null,
            "overflow_x": null,
            "overflow_y": null,
            "padding": null,
            "right": null,
            "top": null,
            "visibility": null,
            "width": null
          }
        },
        "7108460d67d5473f998731e11e7e3334": {
          "model_module": "@jupyter-widgets/controls",
          "model_name": "DescriptionStyleModel",
          "model_module_version": "1.5.0",
          "state": {
            "_model_module": "@jupyter-widgets/controls",
            "_model_module_version": "1.5.0",
            "_model_name": "DescriptionStyleModel",
            "_view_count": null,
            "_view_module": "@jupyter-widgets/base",
            "_view_module_version": "1.2.0",
            "_view_name": "StyleView",
            "description_width": ""
          }
        },
        "5c30c706832443dda893e9f467747fc3": {
          "model_module": "@jupyter-widgets/base",
          "model_name": "LayoutModel",
          "model_module_version": "1.2.0",
          "state": {
            "_model_module": "@jupyter-widgets/base",
            "_model_module_version": "1.2.0",
            "_model_name": "LayoutModel",
            "_view_count": null,
            "_view_module": "@jupyter-widgets/base",
            "_view_module_version": "1.2.0",
            "_view_name": "LayoutView",
            "align_content": null,
            "align_items": null,
            "align_self": null,
            "border": null,
            "bottom": null,
            "display": null,
            "flex": null,
            "flex_flow": null,
            "grid_area": null,
            "grid_auto_columns": null,
            "grid_auto_flow": null,
            "grid_auto_rows": null,
            "grid_column": null,
            "grid_gap": null,
            "grid_row": null,
            "grid_template_areas": null,
            "grid_template_columns": null,
            "grid_template_rows": null,
            "height": null,
            "justify_content": null,
            "justify_items": null,
            "left": null,
            "margin": null,
            "max_height": null,
            "max_width": null,
            "min_height": null,
            "min_width": null,
            "object_fit": null,
            "object_position": null,
            "order": null,
            "overflow": null,
            "overflow_x": null,
            "overflow_y": null,
            "padding": null,
            "right": null,
            "top": null,
            "visibility": null,
            "width": null
          }
        },
        "1e5bcf59d5a84aeda4bb570272b166d0": {
          "model_module": "@jupyter-widgets/controls",
          "model_name": "ProgressStyleModel",
          "model_module_version": "1.5.0",
          "state": {
            "_model_module": "@jupyter-widgets/controls",
            "_model_module_version": "1.5.0",
            "_model_name": "ProgressStyleModel",
            "_view_count": null,
            "_view_module": "@jupyter-widgets/base",
            "_view_module_version": "1.2.0",
            "_view_name": "StyleView",
            "bar_color": null,
            "description_width": ""
          }
        },
        "dcd29c3ebc8e46bea8039623f9fd8af0": {
          "model_module": "@jupyter-widgets/base",
          "model_name": "LayoutModel",
          "model_module_version": "1.2.0",
          "state": {
            "_model_module": "@jupyter-widgets/base",
            "_model_module_version": "1.2.0",
            "_model_name": "LayoutModel",
            "_view_count": null,
            "_view_module": "@jupyter-widgets/base",
            "_view_module_version": "1.2.0",
            "_view_name": "LayoutView",
            "align_content": null,
            "align_items": null,
            "align_self": null,
            "border": null,
            "bottom": null,
            "display": null,
            "flex": null,
            "flex_flow": null,
            "grid_area": null,
            "grid_auto_columns": null,
            "grid_auto_flow": null,
            "grid_auto_rows": null,
            "grid_column": null,
            "grid_gap": null,
            "grid_row": null,
            "grid_template_areas": null,
            "grid_template_columns": null,
            "grid_template_rows": null,
            "height": null,
            "justify_content": null,
            "justify_items": null,
            "left": null,
            "margin": null,
            "max_height": null,
            "max_width": null,
            "min_height": null,
            "min_width": null,
            "object_fit": null,
            "object_position": null,
            "order": null,
            "overflow": null,
            "overflow_x": null,
            "overflow_y": null,
            "padding": null,
            "right": null,
            "top": null,
            "visibility": null,
            "width": null
          }
        },
        "172ae04905b7420eba3d9fa8ed6ba6f1": {
          "model_module": "@jupyter-widgets/controls",
          "model_name": "DescriptionStyleModel",
          "model_module_version": "1.5.0",
          "state": {
            "_model_module": "@jupyter-widgets/controls",
            "_model_module_version": "1.5.0",
            "_model_name": "DescriptionStyleModel",
            "_view_count": null,
            "_view_module": "@jupyter-widgets/base",
            "_view_module_version": "1.2.0",
            "_view_name": "StyleView",
            "description_width": ""
          }
        }
      }
    }
  },
  "cells": [
    {
      "cell_type": "markdown",
      "source": [
        "# 実験準備"
      ],
      "metadata": {
        "id": "kf1megD4CNux"
      }
    },
    {
      "cell_type": "markdown",
      "source": [
        "## 環境構築"
      ],
      "metadata": {
        "id": "9jY3imvXfIuX"
      }
    },
    {
      "cell_type": "code",
      "execution_count": null,
      "metadata": {
        "colab": {
          "base_uri": "https://localhost:8080/"
        },
        "id": "Pkq6B7J-uzBA",
        "outputId": "bf713ab6-b64e-4acc-cfa7-d32b0ea3a7af"
      },
      "outputs": [
        {
          "output_type": "stream",
          "name": "stdout",
          "text": [
            "Looking in indexes: https://pypi.org/simple, https://us-python.pkg.dev/colab-wheels/public/simple/\n",
            "Collecting transformers\n",
            "  Downloading transformers-4.25.1-py3-none-any.whl (5.8 MB)\n",
            "\u001b[2K     \u001b[90m━━━━━━━━━━━━━━━━━━━━━━━━━━━━━━━━━━━━━━━━\u001b[0m \u001b[32m5.8/5.8 MB\u001b[0m \u001b[31m59.9 MB/s\u001b[0m eta \u001b[36m0:00:00\u001b[0m\n",
            "\u001b[?25hRequirement already satisfied: tqdm>=4.27 in /usr/local/lib/python3.8/dist-packages (from transformers) (4.64.1)\n",
            "Requirement already satisfied: numpy>=1.17 in /usr/local/lib/python3.8/dist-packages (from transformers) (1.21.6)\n",
            "Collecting tokenizers!=0.11.3,<0.14,>=0.11.1\n",
            "  Downloading tokenizers-0.13.2-cp38-cp38-manylinux_2_17_x86_64.manylinux2014_x86_64.whl (7.6 MB)\n",
            "\u001b[2K     \u001b[90m━━━━━━━━━━━━━━━━━━━━━━━━━━━━━━━━━━━━━━━━\u001b[0m \u001b[32m7.6/7.6 MB\u001b[0m \u001b[31m96.4 MB/s\u001b[0m eta \u001b[36m0:00:00\u001b[0m\n",
            "\u001b[?25hRequirement already satisfied: packaging>=20.0 in /usr/local/lib/python3.8/dist-packages (from transformers) (21.3)\n",
            "Requirement already satisfied: regex!=2019.12.17 in /usr/local/lib/python3.8/dist-packages (from transformers) (2022.6.2)\n",
            "Requirement already satisfied: filelock in /usr/local/lib/python3.8/dist-packages (from transformers) (3.9.0)\n",
            "Requirement already satisfied: pyyaml>=5.1 in /usr/local/lib/python3.8/dist-packages (from transformers) (6.0)\n",
            "Collecting huggingface-hub<1.0,>=0.10.0\n",
            "  Downloading huggingface_hub-0.11.1-py3-none-any.whl (182 kB)\n",
            "\u001b[2K     \u001b[90m━━━━━━━━━━━━━━━━━━━━━━━━━━━━━━━━━━━━━━\u001b[0m \u001b[32m182.4/182.4 KB\u001b[0m \u001b[31m20.9 MB/s\u001b[0m eta \u001b[36m0:00:00\u001b[0m\n",
            "\u001b[?25hRequirement already satisfied: requests in /usr/local/lib/python3.8/dist-packages (from transformers) (2.25.1)\n",
            "Requirement already satisfied: typing-extensions>=3.7.4.3 in /usr/local/lib/python3.8/dist-packages (from huggingface-hub<1.0,>=0.10.0->transformers) (4.4.0)\n",
            "Requirement already satisfied: pyparsing!=3.0.5,>=2.0.2 in /usr/local/lib/python3.8/dist-packages (from packaging>=20.0->transformers) (3.0.9)\n",
            "Requirement already satisfied: chardet<5,>=3.0.2 in /usr/local/lib/python3.8/dist-packages (from requests->transformers) (4.0.0)\n",
            "Requirement already satisfied: idna<3,>=2.5 in /usr/local/lib/python3.8/dist-packages (from requests->transformers) (2.10)\n",
            "Requirement already satisfied: urllib3<1.27,>=1.21.1 in /usr/local/lib/python3.8/dist-packages (from requests->transformers) (1.24.3)\n",
            "Requirement already satisfied: certifi>=2017.4.17 in /usr/local/lib/python3.8/dist-packages (from requests->transformers) (2022.12.7)\n",
            "Installing collected packages: tokenizers, huggingface-hub, transformers\n",
            "Successfully installed huggingface-hub-0.11.1 tokenizers-0.13.2 transformers-4.25.1\n"
          ]
        }
      ],
      "source": [
        "!pip install transformers"
      ]
    },
    {
      "cell_type": "code",
      "source": [
        "!pip install sentencepiece"
      ],
      "metadata": {
        "colab": {
          "base_uri": "https://localhost:8080/"
        },
        "id": "3S7h9vzEa_7g",
        "outputId": "b095a5da-5fc1-4bc2-c234-c5a9473ec6ae"
      },
      "execution_count": null,
      "outputs": [
        {
          "output_type": "stream",
          "name": "stdout",
          "text": [
            "Looking in indexes: https://pypi.org/simple, https://us-python.pkg.dev/colab-wheels/public/simple/\n",
            "Collecting sentencepiece\n",
            "  Downloading sentencepiece-0.1.97-cp38-cp38-manylinux_2_17_x86_64.manylinux2014_x86_64.whl (1.3 MB)\n",
            "\u001b[2K     \u001b[90m━━━━━━━━━━━━━━━━━━━━━━━━━━━━━━━━━━━━━━━━\u001b[0m \u001b[32m1.3/1.3 MB\u001b[0m \u001b[31m4.9 MB/s\u001b[0m eta \u001b[36m0:00:00\u001b[0m\n",
            "\u001b[?25hInstalling collected packages: sentencepiece\n",
            "Successfully installed sentencepiece-0.1.97\n"
          ]
        }
      ]
    },
    {
      "cell_type": "code",
      "source": [
        "!pip install fugashi ipadic"
      ],
      "metadata": {
        "colab": {
          "base_uri": "https://localhost:8080/"
        },
        "id": "qUAY1OOibL91",
        "outputId": "5d8e79a3-27e9-4c29-a2ca-3a5ac08b2053"
      },
      "execution_count": null,
      "outputs": [
        {
          "output_type": "stream",
          "name": "stdout",
          "text": [
            "Looking in indexes: https://pypi.org/simple, https://us-python.pkg.dev/colab-wheels/public/simple/\n",
            "Collecting fugashi\n",
            "  Downloading fugashi-1.2.1-cp38-cp38-manylinux_2_17_x86_64.manylinux2014_x86_64.whl (615 kB)\n",
            "\u001b[2K     \u001b[90m━━━━━━━━━━━━━━━━━━━━━━━━━━━━━━━━━━━━━━\u001b[0m \u001b[32m615.9/615.9 KB\u001b[0m \u001b[31m15.5 MB/s\u001b[0m eta \u001b[36m0:00:00\u001b[0m\n",
            "\u001b[?25hCollecting ipadic\n",
            "  Downloading ipadic-1.0.0.tar.gz (13.4 MB)\n",
            "\u001b[2K     \u001b[90m━━━━━━━━━━━━━━━━━━━━━━━━━━━━━━━━━━━━━━━━\u001b[0m \u001b[32m13.4/13.4 MB\u001b[0m \u001b[31m94.9 MB/s\u001b[0m eta \u001b[36m0:00:00\u001b[0m\n",
            "\u001b[?25h  Preparing metadata (setup.py) ... \u001b[?25l\u001b[?25hdone\n",
            "Building wheels for collected packages: ipadic\n",
            "  Building wheel for ipadic (setup.py) ... \u001b[?25l\u001b[?25hdone\n",
            "  Created wheel for ipadic: filename=ipadic-1.0.0-py3-none-any.whl size=13556723 sha256=a67629358fdc44c437d5e70efc7ded025216e1fb21b470a732bdd1738a5a4613\n",
            "  Stored in directory: /root/.cache/pip/wheels/45/b7/f5/a21e68db846eedcd00d69e37d60bab3f68eb20b1d99cdff652\n",
            "Successfully built ipadic\n",
            "Installing collected packages: ipadic, fugashi\n",
            "Successfully installed fugashi-1.2.1 ipadic-1.0.0\n"
          ]
        }
      ]
    },
    {
      "cell_type": "code",
      "source": [
        "!pip install bert-score"
      ],
      "metadata": {
        "colab": {
          "base_uri": "https://localhost:8080/"
        },
        "id": "u_dNxlnOTAo8",
        "outputId": "9bc464b9-b65e-458d-8954-b817eac155c0"
      },
      "execution_count": null,
      "outputs": [
        {
          "output_type": "stream",
          "name": "stdout",
          "text": [
            "Looking in indexes: https://pypi.org/simple, https://us-python.pkg.dev/colab-wheels/public/simple/\n",
            "Collecting bert-score\n",
            "  Downloading bert_score-0.3.12-py3-none-any.whl (60 kB)\n",
            "\u001b[2K     \u001b[90m━━━━━━━━━━━━━━━━━━━━━━━━━━━━━━━━━━━━━━━━\u001b[0m \u001b[32m60.8/60.8 KB\u001b[0m \u001b[31m3.6 MB/s\u001b[0m eta \u001b[36m0:00:00\u001b[0m\n",
            "\u001b[?25hRequirement already satisfied: matplotlib in /usr/local/lib/python3.8/dist-packages (from bert-score) (3.2.2)\n",
            "Requirement already satisfied: packaging>=20.9 in /usr/local/lib/python3.8/dist-packages (from bert-score) (21.3)\n",
            "Requirement already satisfied: transformers>=3.0.0 in /usr/local/lib/python3.8/dist-packages (from bert-score) (4.25.1)\n",
            "Requirement already satisfied: numpy in /usr/local/lib/python3.8/dist-packages (from bert-score) (1.21.6)\n",
            "Requirement already satisfied: requests in /usr/local/lib/python3.8/dist-packages (from bert-score) (2.25.1)\n",
            "Requirement already satisfied: tqdm>=4.31.1 in /usr/local/lib/python3.8/dist-packages (from bert-score) (4.64.1)\n",
            "Requirement already satisfied: torch>=1.0.0 in /usr/local/lib/python3.8/dist-packages (from bert-score) (1.13.0+cu116)\n",
            "Requirement already satisfied: pandas>=1.0.1 in /usr/local/lib/python3.8/dist-packages (from bert-score) (1.3.5)\n",
            "Requirement already satisfied: pyparsing!=3.0.5,>=2.0.2 in /usr/local/lib/python3.8/dist-packages (from packaging>=20.9->bert-score) (3.0.9)\n",
            "Requirement already satisfied: python-dateutil>=2.7.3 in /usr/local/lib/python3.8/dist-packages (from pandas>=1.0.1->bert-score) (2.8.2)\n",
            "Requirement already satisfied: pytz>=2017.3 in /usr/local/lib/python3.8/dist-packages (from pandas>=1.0.1->bert-score) (2022.7)\n",
            "Requirement already satisfied: typing-extensions in /usr/local/lib/python3.8/dist-packages (from torch>=1.0.0->bert-score) (4.4.0)\n",
            "Requirement already satisfied: filelock in /usr/local/lib/python3.8/dist-packages (from transformers>=3.0.0->bert-score) (3.9.0)\n",
            "Requirement already satisfied: huggingface-hub<1.0,>=0.10.0 in /usr/local/lib/python3.8/dist-packages (from transformers>=3.0.0->bert-score) (0.11.1)\n",
            "Requirement already satisfied: pyyaml>=5.1 in /usr/local/lib/python3.8/dist-packages (from transformers>=3.0.0->bert-score) (6.0)\n",
            "Requirement already satisfied: regex!=2019.12.17 in /usr/local/lib/python3.8/dist-packages (from transformers>=3.0.0->bert-score) (2022.6.2)\n",
            "Requirement already satisfied: tokenizers!=0.11.3,<0.14,>=0.11.1 in /usr/local/lib/python3.8/dist-packages (from transformers>=3.0.0->bert-score) (0.13.2)\n",
            "Requirement already satisfied: kiwisolver>=1.0.1 in /usr/local/lib/python3.8/dist-packages (from matplotlib->bert-score) (1.4.4)\n",
            "Requirement already satisfied: cycler>=0.10 in /usr/local/lib/python3.8/dist-packages (from matplotlib->bert-score) (0.11.0)\n",
            "Requirement already satisfied: idna<3,>=2.5 in /usr/local/lib/python3.8/dist-packages (from requests->bert-score) (2.10)\n",
            "Requirement already satisfied: urllib3<1.27,>=1.21.1 in /usr/local/lib/python3.8/dist-packages (from requests->bert-score) (1.24.3)\n",
            "Requirement already satisfied: chardet<5,>=3.0.2 in /usr/local/lib/python3.8/dist-packages (from requests->bert-score) (4.0.0)\n",
            "Requirement already satisfied: certifi>=2017.4.17 in /usr/local/lib/python3.8/dist-packages (from requests->bert-score) (2022.12.7)\n",
            "Requirement already satisfied: six>=1.5 in /usr/local/lib/python3.8/dist-packages (from python-dateutil>=2.7.3->pandas>=1.0.1->bert-score) (1.15.0)\n",
            "Installing collected packages: bert-score\n",
            "Successfully installed bert-score-0.3.12\n"
          ]
        }
      ]
    },
    {
      "cell_type": "code",
      "source": [
        "import pandas as pd\n",
        "import torch\n",
        "from transformers import BertJapaneseTokenizer, BertForMaskedLM, pipeline\n",
        "from transformers import AdamW"
      ],
      "metadata": {
        "id": "H1D18Uh-u__w"
      },
      "execution_count": null,
      "outputs": []
    },
    {
      "cell_type": "markdown",
      "source": [
        "### モデルのダウンロード"
      ],
      "metadata": {
        "id": "HbI38W_zfS0N"
      }
    },
    {
      "cell_type": "code",
      "source": [
        "# Ref: https://huggingface.co/transformers/training.html#pytorch\n",
        "\n",
        "model_name = \"cl-tohoku/bert-base-japanese-whole-word-masking\"\n",
        "model = BertForMaskedLM.from_pretrained(model_name)\n",
        "tokenizer = BertJapaneseTokenizer.from_pretrained(model_name) "
      ],
      "metadata": {
        "colab": {
          "base_uri": "https://localhost:8080/",
          "height": 437,
          "referenced_widgets": [
            "64684e3835164897b7dc2fcf155881f4",
            "faf7ab2ecda9423ba79559aa6cd275ec",
            "0777642b1c3343a3a6adc58ab89f50b4",
            "0f04f58f91f84d78b829b613c527acd3",
            "c634edfc58f2472c99588ce2b37a7dbf",
            "ce6f2220e1474d37a48c15f1772aa9f4",
            "984d3590f5764e5d86f434fee1c9393c",
            "1dc2192c06f84c739152c3254d6d2306",
            "1ed3379a25a747a282c05afa94bf1f1d",
            "4cc85697ad1344818519a6988c1f29d7",
            "cb449da57f584d65a98d5024f5717c9b",
            "7cf13ea2192f45a8b6bf234b8465acfd",
            "2e46ad8caf594de0a05291f1ad3e5e75",
            "6c6b0e60212c4505acea9d37834d2007",
            "dd7a03329ec24719a2e4a748b0a4b0bf",
            "2e0984aefc8746788690d0e44a3fe47e",
            "5e5a663d0f0e4bbe9cf3592c1457ad97",
            "45e1415b3d854846b0a6769bd5f4e864",
            "2432d3cfca554dbdbff12a4348f82cac",
            "bb0f9cbb1f014c4d97376af770fd1835",
            "adf9faa956fa447fb466b9688919963d",
            "c0ff9ad664c443ed8de11eb4a1e5ac70",
            "8634f913183a402987fa8d9c7dc38b7d",
            "3047262c527f45ecb9214b42bdc0b361",
            "1c49ed6dc11147759b7f622bf867e9cc",
            "266c5894f06b47fab89f6efb3443df74",
            "96a121c31cd74ca596367d4e1780b23d",
            "99302ee2acbb4734918fe381e5bcf5b3",
            "8240abd82be84706a05ca21bb8a2f6e1",
            "463c8e9704b94d30ae197a1a1b0c8123",
            "77879657463344de900318ea6c8570f6",
            "cc31ae4ed29642a1a726c60e2b3f3542",
            "25c02c4fd5454193ab42a46c339cf41e",
            "554660de0a834e298dcd5407b0c6552e",
            "1dd0a4f8301b4e928d84cb6cd4e1e33a",
            "ae76404d58e34e1db45558fe7a204728",
            "dccbc8a98bc944e1811e458e83021b62",
            "fa4b0a1e7e1840ed94bb9a8fa70e2b95",
            "6a5dc79409654152b498dd0363d2f608",
            "7108460d67d5473f998731e11e7e3334",
            "5c30c706832443dda893e9f467747fc3",
            "1e5bcf59d5a84aeda4bb570272b166d0",
            "dcd29c3ebc8e46bea8039623f9fd8af0",
            "172ae04905b7420eba3d9fa8ed6ba6f1"
          ]
        },
        "id": "cVjNOX1W38k8",
        "outputId": "76646606-dd05-4487-a90f-ccced8ffb11d"
      },
      "execution_count": null,
      "outputs": [
        {
          "output_type": "display_data",
          "data": {
            "text/plain": [
              "Downloading:   0%|          | 0.00/479 [00:00<?, ?B/s]"
            ],
            "application/vnd.jupyter.widget-view+json": {
              "version_major": 2,
              "version_minor": 0,
              "model_id": "64684e3835164897b7dc2fcf155881f4"
            }
          },
          "metadata": {}
        },
        {
          "output_type": "display_data",
          "data": {
            "text/plain": [
              "Downloading:   0%|          | 0.00/445M [00:00<?, ?B/s]"
            ],
            "application/vnd.jupyter.widget-view+json": {
              "version_major": 2,
              "version_minor": 0,
              "model_id": "7cf13ea2192f45a8b6bf234b8465acfd"
            }
          },
          "metadata": {}
        },
        {
          "output_type": "stream",
          "name": "stderr",
          "text": [
            "Some weights of the model checkpoint at cl-tohoku/bert-base-japanese-whole-word-masking were not used when initializing BertForMaskedLM: ['cls.seq_relationship.bias', 'cls.seq_relationship.weight']\n",
            "- This IS expected if you are initializing BertForMaskedLM from the checkpoint of a model trained on another task or with another architecture (e.g. initializing a BertForSequenceClassification model from a BertForPreTraining model).\n",
            "- This IS NOT expected if you are initializing BertForMaskedLM from the checkpoint of a model that you expect to be exactly identical (initializing a BertForSequenceClassification model from a BertForSequenceClassification model).\n"
          ]
        },
        {
          "output_type": "display_data",
          "data": {
            "text/plain": [
              "Downloading:   0%|          | 0.00/258k [00:00<?, ?B/s]"
            ],
            "application/vnd.jupyter.widget-view+json": {
              "version_major": 2,
              "version_minor": 0,
              "model_id": "8634f913183a402987fa8d9c7dc38b7d"
            }
          },
          "metadata": {}
        },
        {
          "output_type": "display_data",
          "data": {
            "text/plain": [
              "Downloading:   0%|          | 0.00/110 [00:00<?, ?B/s]"
            ],
            "application/vnd.jupyter.widget-view+json": {
              "version_major": 2,
              "version_minor": 0,
              "model_id": "554660de0a834e298dcd5407b0c6552e"
            }
          },
          "metadata": {}
        }
      ]
    },
    {
      "cell_type": "code",
      "source": [
        "# GPUが使えれば利用する設定\n",
        "device = torch.device(\"cuda:0\" if torch.cuda.is_available() else \"cpu\")"
      ],
      "metadata": {
        "id": "zazRNH_svHG4"
      },
      "execution_count": null,
      "outputs": []
    },
    {
      "cell_type": "markdown",
      "source": [
        "## データ読み込み"
      ],
      "metadata": {
        "id": "W-xpg2FXfZIg"
      }
    },
    {
      "cell_type": "code",
      "source": [
        "from google.colab import drive\n",
        "drive.mount('/content/drive')"
      ],
      "metadata": {
        "id": "egpefLHUvcXg",
        "colab": {
          "base_uri": "https://localhost:8080/"
        },
        "outputId": "97ba9ced-28e5-46cc-a750-468a0745ec9b"
      },
      "execution_count": null,
      "outputs": [
        {
          "output_type": "stream",
          "name": "stdout",
          "text": [
            "Drive already mounted at /content/drive; to attempt to forcibly remount, call drive.mount(\"/content/drive\", force_remount=True).\n"
          ]
        }
      ]
    },
    {
      "cell_type": "code",
      "source": [
        "folda_pass = '/content/drive/MyDrive/実験/learn_data/'\n",
        "filename = 'original_double.txt'\n",
        "with open(folda_pass+filename)as f:\n",
        "  original = f.readlines()\n",
        "  print(original[0])"
      ],
      "metadata": {
        "colab": {
          "base_uri": "https://localhost:8080/"
        },
        "id": "qkO1iq0rX40s",
        "outputId": "1636b145-1b0b-41ef-c2d0-870e63386829"
      },
      "execution_count": null,
      "outputs": [
        {
          "output_type": "stream",
          "name": "stdout",
          "text": [
            "疲れてヘトヘトとかけまして、空手家とときます。その心は、どちらも、「いたわり」（労り、板割り）が必要です。\n",
            "\n"
          ]
        }
      ]
    },
    {
      "cell_type": "code",
      "source": [
        "filename = 'Double_MASK.txt'\n",
        "with open(folda_pass+filename)as f:\n",
        "  double_mask = f.readlines()\n",
        "  print(double_mask[0])\n"
      ],
      "metadata": {
        "colab": {
          "base_uri": "https://localhost:8080/"
        },
        "id": "3oBw4Q2iD5PL",
        "outputId": "298a58c7-c27e-4f6c-9bfc-4b03b168a121"
      },
      "execution_count": null,
      "outputs": [
        {
          "output_type": "stream",
          "name": "stdout",
          "text": [
            "疲れてヘトヘトとかけまして、空手家とときます。その心は、どちらも、「いたわり」(労り、板割り)[MASK][MASK]です。\n",
            "\n"
          ]
        }
      ]
    },
    {
      "cell_type": "code",
      "source": [
        "filename = 'SINGLE_MASK_AFTER.txt'\n",
        "with open(folda_pass+filename)as f:\n",
        "  single_mask_texts = f.readlines()\n",
        "  print(single_mask_texts[0])"
      ],
      "metadata": {
        "id": "gqi91mkZvjKe",
        "colab": {
          "base_uri": "https://localhost:8080/"
        },
        "outputId": "66d22820-868c-4680-fb2f-a48ee9cc5195"
      },
      "execution_count": null,
      "outputs": [
        {
          "output_type": "stream",
          "name": "stdout",
          "text": [
            "疲れてヘトヘトとかけまして、空手家とときます。その心は、どちらも、「いたわり」(労り、板割り)が[MASK]です。\n",
            "\n"
          ]
        }
      ]
    },
    {
      "cell_type": "markdown",
      "source": [
        "## データ整理"
      ],
      "metadata": {
        "id": "6bXjHQcWdFQ5"
      }
    },
    {
      "cell_type": "code",
      "source": [
        "print(len(original))\n",
        "print(len(single_mask_texts))"
      ],
      "metadata": {
        "colab": {
          "base_uri": "https://localhost:8080/"
        },
        "id": "ZLQAVH4ycBpY",
        "outputId": "37b93ec5-1230-46d5-8984-766e2978869a"
      },
      "execution_count": null,
      "outputs": [
        {
          "output_type": "stream",
          "name": "stdout",
          "text": [
            "207\n",
            "207\n"
          ]
        }
      ]
    },
    {
      "cell_type": "code",
      "source": [
        "#先にテストデータ、評価データを作る\n",
        "#8:1:1(train_dataは後に後に3倍になるため倍になるため*3する)\n",
        "ACC_ratio = (len(original)//10)*1\n",
        "test_ratio = (len(original)//10)*1 + ACC_ratio\n",
        "#val\n",
        "Acc_docs_singele = single_mask_texts[:ACC_ratio]\n",
        "Acc_labels = original[:ACC_ratio]\n",
        "Acc_double = double_mask[:ACC_ratio]\n",
        "#test\n",
        "test_docs_singele = single_mask_texts[ACC_ratio:test_ratio]\n",
        "test_labels = original[ACC_ratio:test_ratio]\n",
        "test_double = double_mask[ACC_ratio:test_ratio]\n",
        "#train\n",
        "train_singele = single_mask_texts[test_ratio:]\n",
        "original_texts = original[test_ratio:]"
      ],
      "metadata": {
        "id": "gnZDcbCNM_fN"
      },
      "execution_count": null,
      "outputs": []
    },
    {
      "cell_type": "code",
      "source": [
        "test_double"
      ],
      "metadata": {
        "colab": {
          "base_uri": "https://localhost:8080/"
        },
        "id": "F6O9pI0GOsDC",
        "outputId": "5a58f988-0db1-4713-c0ba-345ef65ca9f1"
      },
      "execution_count": null,
      "outputs": [
        {
          "output_type": "execute_result",
          "data": {
            "text/plain": [
              "['お化け屋敷とかけまして、お坊さんとときます。その心は、どちらも、「どきょう」(度胸、読経)[MASK][MASK]です。\\n',\n",
              " '忍者とかけまして、栗とときます。その心は、どちらも、「いが」(伊賀、イガ)[MASK][MASK]ます。\\n',\n",
              " '天秤とかけまして、赤ちゃんとときます。その心は、どちらも、「おもり」(重り、お守り)[MASK][MASK]です。\\n',\n",
              " '自転車とかけまして、新聞とときます。その心は、どちらも、「ほうち」(放置、報知)[MASK][MASK]でしょう。\\n',\n",
              " '花火とかけまして、仕事終わりとときます。その心は、どちらも、「うちあげ」(打ち上げ)[MASK][MASK]ます。\\n',\n",
              " '柔道とかけまして、禁煙とときます。その心は、どちらも、「いっぽん」(一本)[MASK][MASK]です。\\n',\n",
              " 'クリーニング屋とかけまして、笑顔とときます。その心は、どちらも、「ふく」(服、福)[MASK][MASK]ます。\\n',\n",
              " '株式とかけまして、お皿とときます。その心は、どちらも、「とうき」(投機、陶器)[MASK][MASK]ます。\\n',\n",
              " 'チャンピョンとかけまして、大掃除とときます。その心は、どちらも、「ほこり」(誇り、[UNK])[MASK][MASK]ます。\\n',\n",
              " '賭け事とかけまして、真夜中とときます。その心は、どちらも、「つき」(ツキ、月)[MASK][MASK]でしょう。\\n',\n",
              " '電気自動車とかけまして、野球とときます。その心は、どちらも、「ばってりー」(バッテリー)[MASK][MASK]です。\\n',\n",
              " 'そうめんとかけまして、月とときます。その心は、どちらも、「つゆ」(汁、梅雨)[MASK][MASK]ます。\\n',\n",
              " '秋とかけまして、怒りとときます。その心は、どちらも、「こうよう」(紅葉、高揚)[MASK][MASK]ます。\\n',\n",
              " 'オーディションとかけまして、お彼岸とときます。その心は、どちらも、「せんこう」(選考、線香)[MASK][MASK]ます。\\n',\n",
              " '祭りとかけまして、みそ汁とときます。その心は、どちらも、「だし」(山車、ダシ)[MASK][MASK]です。\\n',\n",
              " '食堂とかけまして、不祥事事件とときます。その心は、どちらも、「ていしょく」(定食、停職)[MASK][MASK]ます。\\n',\n",
              " '東京タワーとかけまして、発泡酒とときます。その心は、どちらも、「びる」(ビル、ビール)[MASK][MASK]ありません。\\n',\n",
              " '洋食とかけまして、丸とときます。その心は、どちらも、「はし」(箸、端)[MASK][MASK]ません。\\n',\n",
              " '満腹とかけまして、海底とときます。その心は、どちらも、「くうき」(食う気、空気)[MASK][MASK]。\\n',\n",
              " '音楽とかけまして、マラソンとときます。その心は、どちらも、「かんそう」(間奏、完走)[MASK][MASK]です。\\n']"
            ]
          },
          "metadata": {},
          "execution_count": 21
        }
      ]
    },
    {
      "cell_type": "code",
      "source": [
        "train_docs_single = train_singele\n",
        "train_labels = original_texts\n",
        "\n",
        "\n",
        "print(\" single訓練データ\")\n",
        "print(len(train_docs_single),len(train_labels))\n",
        "print(\"評価データ\")\n",
        "print(len(Acc_docs_singele),len(Acc_labels))\n",
        "print(\"テストデータ\")\n",
        "print(len(test_docs_singele),len(test_labels))"
      ],
      "metadata": {
        "colab": {
          "base_uri": "https://localhost:8080/"
        },
        "id": "qlSF2p84brWl",
        "outputId": "bd72314b-1379-483a-ac9c-6de72b99751f"
      },
      "execution_count": null,
      "outputs": [
        {
          "output_type": "stream",
          "name": "stdout",
          "text": [
            " single訓練データ\n",
            "167 167\n",
            "評価データ\n",
            "20 20\n",
            "テストデータ\n",
            "20 20\n"
          ]
        }
      ]
    },
    {
      "cell_type": "code",
      "source": [
        "#テストで使うデータ\n",
        "all_add_ZYOSI = []\n",
        "ZYOSI = ['が','を','に','の','へ','と','から','より','で','や']\n",
        "for j in test_double:\n",
        "  add_ZYOSI=[]\n",
        "  for i in ZYOSI:\n",
        "    zyosi_text = j.replace(\"[MASK]\",i,1)\n",
        "    add_ZYOSI.append(zyosi_text)\n",
        "    #print(zyosi_text)\n",
        "  all_add_ZYOSI.append(add_ZYOSI)\n",
        "  # print(add_ZYOSI)\n"
      ],
      "metadata": {
        "id": "3bZk3TNVCzBs"
      },
      "execution_count": null,
      "outputs": []
    },
    {
      "cell_type": "code",
      "source": [
        "print(len(all_add_ZYOSI))\n",
        "print(all_add_ZYOSI)"
      ],
      "metadata": {
        "colab": {
          "base_uri": "https://localhost:8080/"
        },
        "id": "xJs5eoOxGkxH",
        "outputId": "5f932283-ddac-4427-94c9-cb32037449ff"
      },
      "execution_count": null,
      "outputs": [
        {
          "output_type": "stream",
          "name": "stdout",
          "text": [
            "20\n",
            "[['お化け屋敷とかけまして、お坊さんとときます。その心は、どちらも、「どきょう」(度胸、読経)が[MASK]です。\\n', 'お化け屋敷とかけまして、お坊さんとときます。その心は、どちらも、「どきょう」(度胸、読経)を[MASK]です。\\n', 'お化け屋敷とかけまして、お坊さんとときます。その心は、どちらも、「どきょう」(度胸、読経)に[MASK]です。\\n', 'お化け屋敷とかけまして、お坊さんとときます。その心は、どちらも、「どきょう」(度胸、読経)の[MASK]です。\\n', 'お化け屋敷とかけまして、お坊さんとときます。その心は、どちらも、「どきょう」(度胸、読経)へ[MASK]です。\\n', 'お化け屋敷とかけまして、お坊さんとときます。その心は、どちらも、「どきょう」(度胸、読経)と[MASK]です。\\n', 'お化け屋敷とかけまして、お坊さんとときます。その心は、どちらも、「どきょう」(度胸、読経)から[MASK]です。\\n', 'お化け屋敷とかけまして、お坊さんとときます。その心は、どちらも、「どきょう」(度胸、読経)より[MASK]です。\\n', 'お化け屋敷とかけまして、お坊さんとときます。その心は、どちらも、「どきょう」(度胸、読経)で[MASK]です。\\n', 'お化け屋敷とかけまして、お坊さんとときます。その心は、どちらも、「どきょう」(度胸、読経)や[MASK]です。\\n'], ['忍者とかけまして、栗とときます。その心は、どちらも、「いが」(伊賀、イガ)が[MASK]ます。\\n', '忍者とかけまして、栗とときます。その心は、どちらも、「いが」(伊賀、イガ)を[MASK]ます。\\n', '忍者とかけまして、栗とときます。その心は、どちらも、「いが」(伊賀、イガ)に[MASK]ます。\\n', '忍者とかけまして、栗とときます。その心は、どちらも、「いが」(伊賀、イガ)の[MASK]ます。\\n', '忍者とかけまして、栗とときます。その心は、どちらも、「いが」(伊賀、イガ)へ[MASK]ます。\\n', '忍者とかけまして、栗とときます。その心は、どちらも、「いが」(伊賀、イガ)と[MASK]ます。\\n', '忍者とかけまして、栗とときます。その心は、どちらも、「いが」(伊賀、イガ)から[MASK]ます。\\n', '忍者とかけまして、栗とときます。その心は、どちらも、「いが」(伊賀、イガ)より[MASK]ます。\\n', '忍者とかけまして、栗とときます。その心は、どちらも、「いが」(伊賀、イガ)で[MASK]ます。\\n', '忍者とかけまして、栗とときます。その心は、どちらも、「いが」(伊賀、イガ)や[MASK]ます。\\n'], ['天秤とかけまして、赤ちゃんとときます。その心は、どちらも、「おもり」(重り、お守り)が[MASK]です。\\n', '天秤とかけまして、赤ちゃんとときます。その心は、どちらも、「おもり」(重り、お守り)を[MASK]です。\\n', '天秤とかけまして、赤ちゃんとときます。その心は、どちらも、「おもり」(重り、お守り)に[MASK]です。\\n', '天秤とかけまして、赤ちゃんとときます。その心は、どちらも、「おもり」(重り、お守り)の[MASK]です。\\n', '天秤とかけまして、赤ちゃんとときます。その心は、どちらも、「おもり」(重り、お守り)へ[MASK]です。\\n', '天秤とかけまして、赤ちゃんとときます。その心は、どちらも、「おもり」(重り、お守り)と[MASK]です。\\n', '天秤とかけまして、赤ちゃんとときます。その心は、どちらも、「おもり」(重り、お守り)から[MASK]です。\\n', '天秤とかけまして、赤ちゃんとときます。その心は、どちらも、「おもり」(重り、お守り)より[MASK]です。\\n', '天秤とかけまして、赤ちゃんとときます。その心は、どちらも、「おもり」(重り、お守り)で[MASK]です。\\n', '天秤とかけまして、赤ちゃんとときます。その心は、どちらも、「おもり」(重り、お守り)や[MASK]です。\\n'], ['自転車とかけまして、新聞とときます。その心は、どちらも、「ほうち」(放置、報知)が[MASK]でしょう。\\n', '自転車とかけまして、新聞とときます。その心は、どちらも、「ほうち」(放置、報知)を[MASK]でしょう。\\n', '自転車とかけまして、新聞とときます。その心は、どちらも、「ほうち」(放置、報知)に[MASK]でしょう。\\n', '自転車とかけまして、新聞とときます。その心は、どちらも、「ほうち」(放置、報知)の[MASK]でしょう。\\n', '自転車とかけまして、新聞とときます。その心は、どちらも、「ほうち」(放置、報知)へ[MASK]でしょう。\\n', '自転車とかけまして、新聞とときます。その心は、どちらも、「ほうち」(放置、報知)と[MASK]でしょう。\\n', '自転車とかけまして、新聞とときます。その心は、どちらも、「ほうち」(放置、報知)から[MASK]でしょう。\\n', '自転車とかけまして、新聞とときます。その心は、どちらも、「ほうち」(放置、報知)より[MASK]でしょう。\\n', '自転車とかけまして、新聞とときます。その心は、どちらも、「ほうち」(放置、報知)で[MASK]でしょう。\\n', '自転車とかけまして、新聞とときます。その心は、どちらも、「ほうち」(放置、報知)や[MASK]でしょう。\\n'], ['花火とかけまして、仕事終わりとときます。その心は、どちらも、「うちあげ」(打ち上げ)が[MASK]ます。\\n', '花火とかけまして、仕事終わりとときます。その心は、どちらも、「うちあげ」(打ち上げ)を[MASK]ます。\\n', '花火とかけまして、仕事終わりとときます。その心は、どちらも、「うちあげ」(打ち上げ)に[MASK]ます。\\n', '花火とかけまして、仕事終わりとときます。その心は、どちらも、「うちあげ」(打ち上げ)の[MASK]ます。\\n', '花火とかけまして、仕事終わりとときます。その心は、どちらも、「うちあげ」(打ち上げ)へ[MASK]ます。\\n', '花火とかけまして、仕事終わりとときます。その心は、どちらも、「うちあげ」(打ち上げ)と[MASK]ます。\\n', '花火とかけまして、仕事終わりとときます。その心は、どちらも、「うちあげ」(打ち上げ)から[MASK]ます。\\n', '花火とかけまして、仕事終わりとときます。その心は、どちらも、「うちあげ」(打ち上げ)より[MASK]ます。\\n', '花火とかけまして、仕事終わりとときます。その心は、どちらも、「うちあげ」(打ち上げ)で[MASK]ます。\\n', '花火とかけまして、仕事終わりとときます。その心は、どちらも、「うちあげ」(打ち上げ)や[MASK]ます。\\n'], ['柔道とかけまして、禁煙とときます。その心は、どちらも、「いっぽん」(一本)が[MASK]です。\\n', '柔道とかけまして、禁煙とときます。その心は、どちらも、「いっぽん」(一本)を[MASK]です。\\n', '柔道とかけまして、禁煙とときます。その心は、どちらも、「いっぽん」(一本)に[MASK]です。\\n', '柔道とかけまして、禁煙とときます。その心は、どちらも、「いっぽん」(一本)の[MASK]です。\\n', '柔道とかけまして、禁煙とときます。その心は、どちらも、「いっぽん」(一本)へ[MASK]です。\\n', '柔道とかけまして、禁煙とときます。その心は、どちらも、「いっぽん」(一本)と[MASK]です。\\n', '柔道とかけまして、禁煙とときます。その心は、どちらも、「いっぽん」(一本)から[MASK]です。\\n', '柔道とかけまして、禁煙とときます。その心は、どちらも、「いっぽん」(一本)より[MASK]です。\\n', '柔道とかけまして、禁煙とときます。その心は、どちらも、「いっぽん」(一本)で[MASK]です。\\n', '柔道とかけまして、禁煙とときます。その心は、どちらも、「いっぽん」(一本)や[MASK]です。\\n'], ['クリーニング屋とかけまして、笑顔とときます。その心は、どちらも、「ふく」(服、福)が[MASK]ます。\\n', 'クリーニング屋とかけまして、笑顔とときます。その心は、どちらも、「ふく」(服、福)を[MASK]ます。\\n', 'クリーニング屋とかけまして、笑顔とときます。その心は、どちらも、「ふく」(服、福)に[MASK]ます。\\n', 'クリーニング屋とかけまして、笑顔とときます。その心は、どちらも、「ふく」(服、福)の[MASK]ます。\\n', 'クリーニング屋とかけまして、笑顔とときます。その心は、どちらも、「ふく」(服、福)へ[MASK]ます。\\n', 'クリーニング屋とかけまして、笑顔とときます。その心は、どちらも、「ふく」(服、福)と[MASK]ます。\\n', 'クリーニング屋とかけまして、笑顔とときます。その心は、どちらも、「ふく」(服、福)から[MASK]ます。\\n', 'クリーニング屋とかけまして、笑顔とときます。その心は、どちらも、「ふく」(服、福)より[MASK]ます。\\n', 'クリーニング屋とかけまして、笑顔とときます。その心は、どちらも、「ふく」(服、福)で[MASK]ます。\\n', 'クリーニング屋とかけまして、笑顔とときます。その心は、どちらも、「ふく」(服、福)や[MASK]ます。\\n'], ['株式とかけまして、お皿とときます。その心は、どちらも、「とうき」(投機、陶器)が[MASK]ます。\\n', '株式とかけまして、お皿とときます。その心は、どちらも、「とうき」(投機、陶器)を[MASK]ます。\\n', '株式とかけまして、お皿とときます。その心は、どちらも、「とうき」(投機、陶器)に[MASK]ます。\\n', '株式とかけまして、お皿とときます。その心は、どちらも、「とうき」(投機、陶器)の[MASK]ます。\\n', '株式とかけまして、お皿とときます。その心は、どちらも、「とうき」(投機、陶器)へ[MASK]ます。\\n', '株式とかけまして、お皿とときます。その心は、どちらも、「とうき」(投機、陶器)と[MASK]ます。\\n', '株式とかけまして、お皿とときます。その心は、どちらも、「とうき」(投機、陶器)から[MASK]ます。\\n', '株式とかけまして、お皿とときます。その心は、どちらも、「とうき」(投機、陶器)より[MASK]ます。\\n', '株式とかけまして、お皿とときます。その心は、どちらも、「とうき」(投機、陶器)で[MASK]ます。\\n', '株式とかけまして、お皿とときます。その心は、どちらも、「とうき」(投機、陶器)や[MASK]ます。\\n'], ['チャンピョンとかけまして、大掃除とときます。その心は、どちらも、「ほこり」(誇り、[UNK])が[MASK]ます。\\n', 'チャンピョンとかけまして、大掃除とときます。その心は、どちらも、「ほこり」(誇り、[UNK])を[MASK]ます。\\n', 'チャンピョンとかけまして、大掃除とときます。その心は、どちらも、「ほこり」(誇り、[UNK])に[MASK]ます。\\n', 'チャンピョンとかけまして、大掃除とときます。その心は、どちらも、「ほこり」(誇り、[UNK])の[MASK]ます。\\n', 'チャンピョンとかけまして、大掃除とときます。その心は、どちらも、「ほこり」(誇り、[UNK])へ[MASK]ます。\\n', 'チャンピョンとかけまして、大掃除とときます。その心は、どちらも、「ほこり」(誇り、[UNK])と[MASK]ます。\\n', 'チャンピョンとかけまして、大掃除とときます。その心は、どちらも、「ほこり」(誇り、[UNK])から[MASK]ます。\\n', 'チャンピョンとかけまして、大掃除とときます。その心は、どちらも、「ほこり」(誇り、[UNK])より[MASK]ます。\\n', 'チャンピョンとかけまして、大掃除とときます。その心は、どちらも、「ほこり」(誇り、[UNK])で[MASK]ます。\\n', 'チャンピョンとかけまして、大掃除とときます。その心は、どちらも、「ほこり」(誇り、[UNK])や[MASK]ます。\\n'], ['賭け事とかけまして、真夜中とときます。その心は、どちらも、「つき」(ツキ、月)が[MASK]でしょう。\\n', '賭け事とかけまして、真夜中とときます。その心は、どちらも、「つき」(ツキ、月)を[MASK]でしょう。\\n', '賭け事とかけまして、真夜中とときます。その心は、どちらも、「つき」(ツキ、月)に[MASK]でしょう。\\n', '賭け事とかけまして、真夜中とときます。その心は、どちらも、「つき」(ツキ、月)の[MASK]でしょう。\\n', '賭け事とかけまして、真夜中とときます。その心は、どちらも、「つき」(ツキ、月)へ[MASK]でしょう。\\n', '賭け事とかけまして、真夜中とときます。その心は、どちらも、「つき」(ツキ、月)と[MASK]でしょう。\\n', '賭け事とかけまして、真夜中とときます。その心は、どちらも、「つき」(ツキ、月)から[MASK]でしょう。\\n', '賭け事とかけまして、真夜中とときます。その心は、どちらも、「つき」(ツキ、月)より[MASK]でしょう。\\n', '賭け事とかけまして、真夜中とときます。その心は、どちらも、「つき」(ツキ、月)で[MASK]でしょう。\\n', '賭け事とかけまして、真夜中とときます。その心は、どちらも、「つき」(ツキ、月)や[MASK]でしょう。\\n'], ['電気自動車とかけまして、野球とときます。その心は、どちらも、「ばってりー」(バッテリー)が[MASK]です。\\n', '電気自動車とかけまして、野球とときます。その心は、どちらも、「ばってりー」(バッテリー)を[MASK]です。\\n', '電気自動車とかけまして、野球とときます。その心は、どちらも、「ばってりー」(バッテリー)に[MASK]です。\\n', '電気自動車とかけまして、野球とときます。その心は、どちらも、「ばってりー」(バッテリー)の[MASK]です。\\n', '電気自動車とかけまして、野球とときます。その心は、どちらも、「ばってりー」(バッテリー)へ[MASK]です。\\n', '電気自動車とかけまして、野球とときます。その心は、どちらも、「ばってりー」(バッテリー)と[MASK]です。\\n', '電気自動車とかけまして、野球とときます。その心は、どちらも、「ばってりー」(バッテリー)から[MASK]です。\\n', '電気自動車とかけまして、野球とときます。その心は、どちらも、「ばってりー」(バッテリー)より[MASK]です。\\n', '電気自動車とかけまして、野球とときます。その心は、どちらも、「ばってりー」(バッテリー)で[MASK]です。\\n', '電気自動車とかけまして、野球とときます。その心は、どちらも、「ばってりー」(バッテリー)や[MASK]です。\\n'], ['そうめんとかけまして、月とときます。その心は、どちらも、「つゆ」(汁、梅雨)が[MASK]ます。\\n', 'そうめんとかけまして、月とときます。その心は、どちらも、「つゆ」(汁、梅雨)を[MASK]ます。\\n', 'そうめんとかけまして、月とときます。その心は、どちらも、「つゆ」(汁、梅雨)に[MASK]ます。\\n', 'そうめんとかけまして、月とときます。その心は、どちらも、「つゆ」(汁、梅雨)の[MASK]ます。\\n', 'そうめんとかけまして、月とときます。その心は、どちらも、「つゆ」(汁、梅雨)へ[MASK]ます。\\n', 'そうめんとかけまして、月とときます。その心は、どちらも、「つゆ」(汁、梅雨)と[MASK]ます。\\n', 'そうめんとかけまして、月とときます。その心は、どちらも、「つゆ」(汁、梅雨)から[MASK]ます。\\n', 'そうめんとかけまして、月とときます。その心は、どちらも、「つゆ」(汁、梅雨)より[MASK]ます。\\n', 'そうめんとかけまして、月とときます。その心は、どちらも、「つゆ」(汁、梅雨)で[MASK]ます。\\n', 'そうめんとかけまして、月とときます。その心は、どちらも、「つゆ」(汁、梅雨)や[MASK]ます。\\n'], ['秋とかけまして、怒りとときます。その心は、どちらも、「こうよう」(紅葉、高揚)が[MASK]ます。\\n', '秋とかけまして、怒りとときます。その心は、どちらも、「こうよう」(紅葉、高揚)を[MASK]ます。\\n', '秋とかけまして、怒りとときます。その心は、どちらも、「こうよう」(紅葉、高揚)に[MASK]ます。\\n', '秋とかけまして、怒りとときます。その心は、どちらも、「こうよう」(紅葉、高揚)の[MASK]ます。\\n', '秋とかけまして、怒りとときます。その心は、どちらも、「こうよう」(紅葉、高揚)へ[MASK]ます。\\n', '秋とかけまして、怒りとときます。その心は、どちらも、「こうよう」(紅葉、高揚)と[MASK]ます。\\n', '秋とかけまして、怒りとときます。その心は、どちらも、「こうよう」(紅葉、高揚)から[MASK]ます。\\n', '秋とかけまして、怒りとときます。その心は、どちらも、「こうよう」(紅葉、高揚)より[MASK]ます。\\n', '秋とかけまして、怒りとときます。その心は、どちらも、「こうよう」(紅葉、高揚)で[MASK]ます。\\n', '秋とかけまして、怒りとときます。その心は、どちらも、「こうよう」(紅葉、高揚)や[MASK]ます。\\n'], ['オーディションとかけまして、お彼岸とときます。その心は、どちらも、「せんこう」(選考、線香)が[MASK]ます。\\n', 'オーディションとかけまして、お彼岸とときます。その心は、どちらも、「せんこう」(選考、線香)を[MASK]ます。\\n', 'オーディションとかけまして、お彼岸とときます。その心は、どちらも、「せんこう」(選考、線香)に[MASK]ます。\\n', 'オーディションとかけまして、お彼岸とときます。その心は、どちらも、「せんこう」(選考、線香)の[MASK]ます。\\n', 'オーディションとかけまして、お彼岸とときます。その心は、どちらも、「せんこう」(選考、線香)へ[MASK]ます。\\n', 'オーディションとかけまして、お彼岸とときます。その心は、どちらも、「せんこう」(選考、線香)と[MASK]ます。\\n', 'オーディションとかけまして、お彼岸とときます。その心は、どちらも、「せんこう」(選考、線香)から[MASK]ます。\\n', 'オーディションとかけまして、お彼岸とときます。その心は、どちらも、「せんこう」(選考、線香)より[MASK]ます。\\n', 'オーディションとかけまして、お彼岸とときます。その心は、どちらも、「せんこう」(選考、線香)で[MASK]ます。\\n', 'オーディションとかけまして、お彼岸とときます。その心は、どちらも、「せんこう」(選考、線香)や[MASK]ます。\\n'], ['祭りとかけまして、みそ汁とときます。その心は、どちらも、「だし」(山車、ダシ)が[MASK]です。\\n', '祭りとかけまして、みそ汁とときます。その心は、どちらも、「だし」(山車、ダシ)を[MASK]です。\\n', '祭りとかけまして、みそ汁とときます。その心は、どちらも、「だし」(山車、ダシ)に[MASK]です。\\n', '祭りとかけまして、みそ汁とときます。その心は、どちらも、「だし」(山車、ダシ)の[MASK]です。\\n', '祭りとかけまして、みそ汁とときます。その心は、どちらも、「だし」(山車、ダシ)へ[MASK]です。\\n', '祭りとかけまして、みそ汁とときます。その心は、どちらも、「だし」(山車、ダシ)と[MASK]です。\\n', '祭りとかけまして、みそ汁とときます。その心は、どちらも、「だし」(山車、ダシ)から[MASK]です。\\n', '祭りとかけまして、みそ汁とときます。その心は、どちらも、「だし」(山車、ダシ)より[MASK]です。\\n', '祭りとかけまして、みそ汁とときます。その心は、どちらも、「だし」(山車、ダシ)で[MASK]です。\\n', '祭りとかけまして、みそ汁とときます。その心は、どちらも、「だし」(山車、ダシ)や[MASK]です。\\n'], ['食堂とかけまして、不祥事事件とときます。その心は、どちらも、「ていしょく」(定食、停職)が[MASK]ます。\\n', '食堂とかけまして、不祥事事件とときます。その心は、どちらも、「ていしょく」(定食、停職)を[MASK]ます。\\n', '食堂とかけまして、不祥事事件とときます。その心は、どちらも、「ていしょく」(定食、停職)に[MASK]ます。\\n', '食堂とかけまして、不祥事事件とときます。その心は、どちらも、「ていしょく」(定食、停職)の[MASK]ます。\\n', '食堂とかけまして、不祥事事件とときます。その心は、どちらも、「ていしょく」(定食、停職)へ[MASK]ます。\\n', '食堂とかけまして、不祥事事件とときます。その心は、どちらも、「ていしょく」(定食、停職)と[MASK]ます。\\n', '食堂とかけまして、不祥事事件とときます。その心は、どちらも、「ていしょく」(定食、停職)から[MASK]ます。\\n', '食堂とかけまして、不祥事事件とときます。その心は、どちらも、「ていしょく」(定食、停職)より[MASK]ます。\\n', '食堂とかけまして、不祥事事件とときます。その心は、どちらも、「ていしょく」(定食、停職)で[MASK]ます。\\n', '食堂とかけまして、不祥事事件とときます。その心は、どちらも、「ていしょく」(定食、停職)や[MASK]ます。\\n'], ['東京タワーとかけまして、発泡酒とときます。その心は、どちらも、「びる」(ビル、ビール)が[MASK]ありません。\\n', '東京タワーとかけまして、発泡酒とときます。その心は、どちらも、「びる」(ビル、ビール)を[MASK]ありません。\\n', '東京タワーとかけまして、発泡酒とときます。その心は、どちらも、「びる」(ビル、ビール)に[MASK]ありません。\\n', '東京タワーとかけまして、発泡酒とときます。その心は、どちらも、「びる」(ビル、ビール)の[MASK]ありません。\\n', '東京タワーとかけまして、発泡酒とときます。その心は、どちらも、「びる」(ビル、ビール)へ[MASK]ありません。\\n', '東京タワーとかけまして、発泡酒とときます。その心は、どちらも、「びる」(ビル、ビール)と[MASK]ありません。\\n', '東京タワーとかけまして、発泡酒とときます。その心は、どちらも、「びる」(ビル、ビール)から[MASK]ありません。\\n', '東京タワーとかけまして、発泡酒とときます。その心は、どちらも、「びる」(ビル、ビール)より[MASK]ありません。\\n', '東京タワーとかけまして、発泡酒とときます。その心は、どちらも、「びる」(ビル、ビール)で[MASK]ありません。\\n', '東京タワーとかけまして、発泡酒とときます。その心は、どちらも、「びる」(ビル、ビール)や[MASK]ありません。\\n'], ['洋食とかけまして、丸とときます。その心は、どちらも、「はし」(箸、端)が[MASK]ません。\\n', '洋食とかけまして、丸とときます。その心は、どちらも、「はし」(箸、端)を[MASK]ません。\\n', '洋食とかけまして、丸とときます。その心は、どちらも、「はし」(箸、端)に[MASK]ません。\\n', '洋食とかけまして、丸とときます。その心は、どちらも、「はし」(箸、端)の[MASK]ません。\\n', '洋食とかけまして、丸とときます。その心は、どちらも、「はし」(箸、端)へ[MASK]ません。\\n', '洋食とかけまして、丸とときます。その心は、どちらも、「はし」(箸、端)と[MASK]ません。\\n', '洋食とかけまして、丸とときます。その心は、どちらも、「はし」(箸、端)から[MASK]ません。\\n', '洋食とかけまして、丸とときます。その心は、どちらも、「はし」(箸、端)より[MASK]ません。\\n', '洋食とかけまして、丸とときます。その心は、どちらも、「はし」(箸、端)で[MASK]ません。\\n', '洋食とかけまして、丸とときます。その心は、どちらも、「はし」(箸、端)や[MASK]ません。\\n'], ['満腹とかけまして、海底とときます。その心は、どちらも、「くうき」(食う気、空気)が[MASK]。\\n', '満腹とかけまして、海底とときます。その心は、どちらも、「くうき」(食う気、空気)を[MASK]。\\n', '満腹とかけまして、海底とときます。その心は、どちらも、「くうき」(食う気、空気)に[MASK]。\\n', '満腹とかけまして、海底とときます。その心は、どちらも、「くうき」(食う気、空気)の[MASK]。\\n', '満腹とかけまして、海底とときます。その心は、どちらも、「くうき」(食う気、空気)へ[MASK]。\\n', '満腹とかけまして、海底とときます。その心は、どちらも、「くうき」(食う気、空気)と[MASK]。\\n', '満腹とかけまして、海底とときます。その心は、どちらも、「くうき」(食う気、空気)から[MASK]。\\n', '満腹とかけまして、海底とときます。その心は、どちらも、「くうき」(食う気、空気)より[MASK]。\\n', '満腹とかけまして、海底とときます。その心は、どちらも、「くうき」(食う気、空気)で[MASK]。\\n', '満腹とかけまして、海底とときます。その心は、どちらも、「くうき」(食う気、空気)や[MASK]。\\n'], ['音楽とかけまして、マラソンとときます。その心は、どちらも、「かんそう」(間奏、完走)が[MASK]です。\\n', '音楽とかけまして、マラソンとときます。その心は、どちらも、「かんそう」(間奏、完走)を[MASK]です。\\n', '音楽とかけまして、マラソンとときます。その心は、どちらも、「かんそう」(間奏、完走)に[MASK]です。\\n', '音楽とかけまして、マラソンとときます。その心は、どちらも、「かんそう」(間奏、完走)の[MASK]です。\\n', '音楽とかけまして、マラソンとときます。その心は、どちらも、「かんそう」(間奏、完走)へ[MASK]です。\\n', '音楽とかけまして、マラソンとときます。その心は、どちらも、「かんそう」(間奏、完走)と[MASK]です。\\n', '音楽とかけまして、マラソンとときます。その心は、どちらも、「かんそう」(間奏、完走)から[MASK]です。\\n', '音楽とかけまして、マラソンとときます。その心は、どちらも、「かんそう」(間奏、完走)より[MASK]です。\\n', '音楽とかけまして、マラソンとときます。その心は、どちらも、「かんそう」(間奏、完走)で[MASK]です。\\n', '音楽とかけまして、マラソンとときます。その心は、どちらも、「かんそう」(間奏、完走)や[MASK]です。\\n']]\n"
          ]
        }
      ]
    },
    {
      "cell_type": "markdown",
      "source": [
        "## 形態素解析"
      ],
      "metadata": {
        "id": "6vqGmDeFfzII"
      }
    },
    {
      "cell_type": "code",
      "source": [
        "encodings = tokenizer(train_docs_single, return_tensors='pt', padding=True, truncation=True, max_length=64)\n",
        "input_ids = encodings['input_ids']\n",
        "attention_mask = encodings['attention_mask']\n",
        "encodings = tokenizer(train_labels, return_tensors='pt', padding=True, truncation=True, max_length=64)\n",
        "labels = encodings['input_ids']\n",
        "print(input_ids[0])"
      ],
      "metadata": {
        "id": "vpsW5OZVbx3A",
        "colab": {
          "base_uri": "https://localhost:8080/"
        },
        "outputId": "58be7127-bf95-4388-b770-1c48865696fa"
      },
      "execution_count": null,
      "outputs": [
        {
          "output_type": "stream",
          "name": "stdout",
          "text": [
            "tensor([    2,  1414, 17703,    13,  2111,  3913,    16,     6,  6804,   167,\n",
            "           13,   900,  2610,     8,    59,  1052,     9,     6,  3788,    28,\n",
            "            6,    36,   191, 19070,  5393, 20463,     6,   371, 29100,    24,\n",
            "           14,     4,  2992,     8,     3,     0,     0,     0,     0,     0,\n",
            "            0,     0,     0,     0,     0,     0,     0,     0,     0,     0,\n",
            "            0,     0,     0,     0,     0,     0,     0,     0,     0,     0,\n",
            "            0,     0,     0,     0])\n"
          ]
        }
      ]
    },
    {
      "cell_type": "code",
      "source": [
        "encodings = tokenizer(Acc_docs_singele, return_tensors='pt', padding=True, truncation=True, max_length=64)\n",
        "acc_input_ids = encodings['input_ids']\n",
        "acc_attention_mask = encodings['attention_mask']\n",
        "encodings = tokenizer(Acc_labels, return_tensors='pt', padding=True, truncation=True, max_length=64)\n",
        "acc_labels = encodings['input_ids']"
      ],
      "metadata": {
        "id": "Qofe4w0MpBhq"
      },
      "execution_count": null,
      "outputs": []
    },
    {
      "cell_type": "code",
      "source": [
        "print(len(acc_input_ids[1]))\n",
        "print(len(acc_labels[1]))"
      ],
      "metadata": {
        "colab": {
          "base_uri": "https://localhost:8080/"
        },
        "id": "3o2sSuua8xXp",
        "outputId": "bc2eb0ae-a103-457d-a121-a33d2ea296f6"
      },
      "execution_count": null,
      "outputs": [
        {
          "output_type": "stream",
          "name": "stdout",
          "text": [
            "41\n",
            "41\n"
          ]
        }
      ]
    },
    {
      "cell_type": "code",
      "source": [
        "encodings = tokenizer(test_docs_singele, return_tensors='pt', padding=\"max_length\", truncation=True, max_length=64)\n",
        "test_input = encodings['input_ids']\n",
        "encodings = tokenizer(test_labels, return_tensors='pt', padding=\"max_length\", truncation=True, max_length=64)\n",
        "Test_labels = encodings['input_ids']"
      ],
      "metadata": {
        "id": "O1nvxF9Mg7B3"
      },
      "execution_count": null,
      "outputs": []
    },
    {
      "cell_type": "code",
      "source": [
        "print(len(test_input[1]))\n",
        "print(len(Test_labels[1]))"
      ],
      "metadata": {
        "colab": {
          "base_uri": "https://localhost:8080/"
        },
        "id": "eyQlUWlmREDR",
        "outputId": "1abc2601-3924-4ea8-ed68-da0cd0b75073"
      },
      "execution_count": null,
      "outputs": [
        {
          "output_type": "stream",
          "name": "stdout",
          "text": [
            "64\n",
            "64\n"
          ]
        }
      ]
    },
    {
      "cell_type": "code",
      "source": [
        "zyosi_input_list = []\n",
        "for zyosi_nazokake in all_add_ZYOSI:\n",
        "  encodings = tokenizer(zyosi_nazokake, return_tensors='pt', padding=\"max_length\", truncation=True, max_length=64)\n",
        "  zyosi_input = encodings['input_ids']\n",
        "  zyosi_input_list.append(zyosi_input)"
      ],
      "metadata": {
        "id": "Lk9rj07zDDj1"
      },
      "execution_count": null,
      "outputs": []
    },
    {
      "cell_type": "markdown",
      "source": [
        "## 関数定義"
      ],
      "metadata": {
        "id": "kEeao84vBo2Q"
      }
    },
    {
      "cell_type": "code",
      "source": [
        "\"\"\"\n",
        "リストが一致しているかしているかboolで返す\n",
        "\"\"\"\n",
        "def MatchList(list1,list2):\n",
        "  for i in range(len(list1)):\n",
        "    if list1[i] != list2[i]:\n",
        "      return False\n",
        "  return True\n",
        "\n",
        "\"\"\"\n",
        "model:model\n",
        "input:入力データ\n",
        "tokenizer:トークナイザ\n",
        "label:ラベル\n",
        "\"\"\"\n",
        "def predict(model,tokenizer,input,label):\n",
        "  model.eval()\n",
        "  encodings = tokenizer(input, return_tensors='pt', padding=True, truncation=True, max_length=64)\n",
        "  input_ids = encodings['input_ids']\n",
        "  encodings = tokenizer(label, return_tensors='pt', padding=True, truncation=True, max_length=64)\n",
        "  label_ids = encodings['input_ids']\n",
        "  count = 0\n",
        "  bunbo = 0\n",
        "  batch = 16\n",
        "  num = len(input_ids)//batch + 1\n",
        "  correctAnswer = [] #正解したのを保存するリスト\n",
        "  All_return_result = []\n",
        "  for b in range(num):#bacthに分けて学習するためnumの回数繰り返す\n",
        "    section = batch*b\n",
        "    section2 = section+batch\n",
        "    batch_input_ids = input_ids[section:section2]\n",
        "    if(b == num-1):\n",
        "      batch_input_ids = input_ids[section:]\n",
        "\n",
        "    with torch.no_grad():\n",
        "      outputs = model(batch_input_ids)\n",
        "\n",
        "    masked_position = (batch_input_ids.squeeze() == tokenizer.mask_token_id).nonzero() #これでマスク部分の抽出ができるらしい\n",
        "    last_hidden_state = outputs[0].squeeze()#出力\n",
        "\n",
        "    masked_pos = []\n",
        "    [masked_pos.append([])for _ in range(masked_position[-1][0]+1)]\n",
        "\n",
        "    for i in masked_position:\n",
        "        masked_pos[i[0].item()].append(i[1].item())\n",
        "\n",
        "\n",
        "    topk = 1\n",
        "    for index,mask_index in enumerate(masked_pos):\n",
        "      result=[]\n",
        "      answer=[]\n",
        "      \n",
        "      for i in mask_index:\n",
        "        mask_hidden_state = last_hidden_state[index][i] # 詳細結果の参照\n",
        "        idx = torch.topk(mask_hidden_state, k=topk, dim=0)[1] # 予測結果の上位を出力\n",
        "        words = [tokenizer.decode(i.item()).strip() for i in idx]\n",
        "        result.append(words[0])\n",
        "        answer_words = tokenizer.decode(label_ids[index+section][i].item()).strip()\n",
        "        answer.append(answer_words)\n",
        "\n",
        "      result_docs = input[index+section]\n",
        "      for i in result:\n",
        "        i=i.replace(\" \",\"\")\n",
        "        result_docs = result_docs.replace('[MASK]',i,1)\n",
        "      if(MatchList(result,answer)):\n",
        "        count += 1\n",
        "        correctAnswer.append(result_docs.replace(\"\\n\",\"\"))\n",
        "      return_result = [result,answer,result_docs.replace(\"\\n\",\"\"),label[index+section].replace(\"\\n\",\"\")]\n",
        "      All_return_result.append(return_result)\n",
        "      bunbo += 1\n",
        "  print(str(count)+\"/\"+str(bunbo))\n",
        "  score = count/bunbo\n",
        "  return {\"分数\":str(count)+\"/\"+str(bunbo),\"スコア\":score,\"正解リスト\":correctAnswer,\"予測\":All_return_result}"
      ],
      "metadata": {
        "id": "tt54h5hh_pJS"
      },
      "execution_count": null,
      "outputs": []
    },
    {
      "cell_type": "code",
      "source": [
        "import re\n",
        "import numpy as np\n",
        "def calc_score(text,MLM):\n",
        "  tokenized_text1=tokenizer.tokenize(text) # 文章を形態素解析\n",
        "  for i in range(len(tokenized_text1)):\n",
        "    provisional=tokenized_text1[i] # マスクする部分を一時的に保持する変数\n",
        "    tokenized_text1[i]='[MASK]' # 一単語をマスクする\n",
        "    text=''.join(tokenized_text1) # リストになっているので、連結して一つの文にする\n",
        "    score=re.findall(r'\\d+\\.\\d+',str(MLM(text)[0])) # 解析結果の中から小数を抜き出す\n",
        "    score1=+np.log(float(score[0])/len(tokenized_text1)) #生起確率を足し合わせる\n",
        "    tokenized_text1[i]=provisional # マスクした単語を元に戻す\n",
        "  return score1\n",
        "\"\"\"\n",
        "model:model\n",
        "tokenizer:トークナイザ\n",
        "input:入力データ(助詞の種類だけある)\n",
        "label:ラベル(1つ)\n",
        "\"\"\"\n",
        "def predict_zyosi(model,tokenizer,input,label):\n",
        "  #config=BertConfig.from_pretrained('cl-tohoku/bert-base-japanese-whole-word-masking') \n",
        "  MLM=pipeline('fill-mask',model=model,tokenizer=tokenizer) # pepeline関数でモデルを利用できるようにする\n",
        "  model.eval()\n",
        "  zyosi_input_list = []\n",
        "  for zyosi_nazokake in input:\n",
        "    encodings = tokenizer(zyosi_nazokake, return_tensors='pt', padding=\"max_length\", truncation=True, max_length=64)\n",
        "    zyosi_input = encodings['input_ids']\n",
        "    zyosi_input_list.append(zyosi_input)\n",
        "  encodings = tokenizer(label, return_tensors='pt', padding=True, truncation=True, max_length=64)\n",
        "  label_ids = encodings['input_ids']\n",
        "  #print(zyosi_input_list)\n",
        "\n",
        "  count = 0\n",
        "  bunbo = 0\n",
        "\n",
        "  correctAnswer = [] #正解したのを保存するリスト\n",
        "  All_return_result = []\n",
        "\n",
        "  for ind,zyosi_nazokake_ids in enumerate(zyosi_input_list):#謎かけごとに分けて学習する\n",
        "    with torch.no_grad():\n",
        "      outputs = model(zyosi_nazokake_ids)\n",
        "\n",
        "    masked_position = (zyosi_nazokake_ids.squeeze() == tokenizer.mask_token_id).nonzero()[0][1] #これでマスク部分の抽出ができるらしい\n",
        "    mask_index = masked_position\n",
        "    last_hidden_state = outputs[0].squeeze()#出力\n",
        "\n",
        "    topk = 1\n",
        "    result_list = []\n",
        "    top = [-100,0]\n",
        "    for index in range(len(zyosi_nazokake_ids)):\n",
        "      result = []\n",
        "      mask_hidden_state = last_hidden_state[index][mask_index] # 詳細結果の参照\n",
        "      idx = torch.topk(mask_hidden_state, k=topk, dim=0)[1] # 予測結果の上位を出力\n",
        "      word = tokenizer.decode(idx.item()).strip() #予測単語\n",
        "      result.append(word.replace(\" \",\"\"))#resultに単語を格納\n",
        "\n",
        "      #予測した単語を文章に当てはめる\n",
        "      result_docs = input[ind][index]\n",
        "      result_docs = result_docs.replace('[MASK]',word.replace(\" \",\"\"),1).replace(\"\\n\",\"\")\n",
        "      tensuu = calc_score(result_docs,MLM)\n",
        "      if top[0] < tensuu:\n",
        "        top[0] = tensuu\n",
        "        top[1] = index\n",
        "      result.append(result_docs)\n",
        "      result.append(tensuu)\n",
        "\n",
        "      print(result)\n",
        "      result_list.append(result)\n",
        "    print(top)\n",
        "    top_docs = [result_list[top[1]],ZYOSI[top[1]]]\n",
        "    answer_docs = label[ind].replace(\"\\n\",\"\")\n",
        "    answer_words = tokenizer.decode(label_ids[ind][mask_index].item()).strip()#答えの単語を確認\n",
        "    #answer.append(answer_words)#答えの単語を格納答えの単語を格納\n",
        "    return_result = [answer_words,answer_docs,result_list,top_docs]\n",
        "    print(top_docs)\n",
        "    All_return_result.append(return_result)\n",
        "    bunbo += 1\n",
        "        \n",
        "        # if(MatchList(result,answer)):\n",
        "        #   count += 1\n",
        "        #   correctAnswer.append(result_docs.replace(\"\\n\",\"\"))\n",
        "    \n",
        "  print(str(count)+\"/\"+str(bunbo))\n",
        "  score = count/bunbo\n",
        "  return {\"分数\":str(count)+\"/\"+str(bunbo),\"スコア\":score,\"正解リスト\":correctAnswer,\"予測\":All_return_result}"
      ],
      "metadata": {
        "id": "D35r8nhlChhQ"
      },
      "execution_count": null,
      "outputs": []
    },
    {
      "cell_type": "markdown",
      "source": [
        "## ファインチューニング前に一度結果を確認"
      ],
      "metadata": {
        "id": "V1usHOqHAhHk"
      }
    },
    {
      "cell_type": "code",
      "source": [
        "test_result = predict(model,tokenizer,test_docs_singele,test_labels)"
      ],
      "metadata": {
        "colab": {
          "base_uri": "https://localhost:8080/"
        },
        "id": "xX-2o3GSAaxc",
        "outputId": "54787ab4-64d1-45b4-ad7e-7947f38f2939"
      },
      "execution_count": null,
      "outputs": [
        {
          "output_type": "stream",
          "name": "stdout",
          "text": [
            "11/20\n"
          ]
        }
      ]
    },
    {
      "cell_type": "code",
      "source": [
        "print(len(test_result))\n",
        "print(test_result[\"予測\"])\n",
        "for i in test_result[\"予測\"]:\n",
        "  print(i)"
      ],
      "metadata": {
        "id": "e5Qzse6oE-NG"
      },
      "execution_count": null,
      "outputs": []
    },
    {
      "cell_type": "code",
      "source": [
        "s = predict_zyosi(model,tokenizer,all_add_ZYOSI[:1],test_labels[:1])"
      ],
      "metadata": {
        "colab": {
          "base_uri": "https://localhost:8080/"
        },
        "id": "Egzn3Tv1HwvM",
        "outputId": "2937cec6-f66c-49b1-b43e-8961051efea3"
      },
      "execution_count": null,
      "outputs": [
        {
          "output_type": "stream",
          "name": "stdout",
          "text": [
            "['ない', 'お化け屋敷とかけまして、お坊さんとときます。その心は、どちらも、「どきょう」(度胸、読経)がないです。', -3.6550151821785084]\n",
            "['好き', 'お化け屋敷とかけまして、お坊さんとときます。その心は、どちらも、「どきょう」(度胸、読経)を好きです。', -3.6493065086628755]\n",
            "['可', 'お化け屋敷とかけまして、お坊さんとときます。その心は、どちらも、「どきょう」(度胸、読経)に可です。', -3.6564740917963072]\n",
            "['よう', 'お化け屋敷とかけまして、お坊さんとときます。その心は、どちらも、「どきょう」(度胸、読経)のようです。', -3.6472215069946894]\n",
            "['そう', 'お化け屋敷とかけまして、お坊さんとときます。その心は、どちらも、「どきょう」(度胸、読経)へそうです。', -3.6687840321280354]\n",
            "['も', 'お化け屋敷とかけまして、お坊さんとときます。その心は、どちらも、「どきょう」(度胸、読経)ともです。', -3.6274074431936905]\n",
            "['そう', 'お化け屋敷とかけまして、お坊さんとときます。その心は、どちらも、「どきょう」(度胸、読経)からそうです。', -3.656122826670425]\n",
            "['[UNK]', 'お化け屋敷とかけまして、お坊さんとときます。その心は、どちらも、「どきょう」(度胸、読経)より[UNK]です。', -3.6519599909453775]\n",
            "['そう', 'お化け屋敷とかけまして、お坊さんとときます。その心は、どちらも、「どきょう」(度胸、読経)でそうです。', -3.658360059670205]\n",
            "['[UNK]', 'お化け屋敷とかけまして、お坊さんとときます。その心は、どちらも、「どきょう」(度胸、読経)や[UNK]です。', -3.6460921727331015]\n",
            "[-3.6274074431936905, 5]\n",
            "[['も', 'お化け屋敷とかけまして、お坊さんとときます。その心は、どちらも、「どきょう」(度胸、読経)ともです。', -3.6274074431936905]]\n",
            "0/1\n"
          ]
        }
      ]
    },
    {
      "cell_type": "markdown",
      "source": [
        "# 実験"
      ],
      "metadata": {
        "id": "rhVoetlUCTuq"
      }
    },
    {
      "cell_type": "markdown",
      "source": [
        "## ファインチューニング"
      ],
      "metadata": {
        "id": "xwLiQUqOYXj4"
      }
    },
    {
      "cell_type": "markdown",
      "source": [
        "### 定義"
      ],
      "metadata": {
        "id": "xM_uJEhj1nQL"
      }
    },
    {
      "cell_type": "code",
      "source": [
        "import numpy as np\n",
        "\n",
        "\n",
        "def cos_sim(v1, v2):\n",
        "    return np.dot(v1, v2) / (np.linalg.norm(v1) * np.linalg.norm(v2))"
      ],
      "metadata": {
        "id": "uzOZtPwoHeQ0"
      },
      "execution_count": null,
      "outputs": []
    },
    {
      "cell_type": "code",
      "source": [
        "class EarlyStopping:\n",
        "    \"\"\"Early stops the training if validation loss doesn't improve after a given patience.\"\"\"\n",
        "    def __init__(self, patience=7, verbose=False, delta=0, path='checkpoint.pt', trace_func=print):\n",
        "        \"\"\"\n",
        "        Args:\n",
        "            patience (int): How long to wait after last time validation loss improved.\n",
        "                            Default: 7\n",
        "            verbose (bool): If True, prints a message for each validation loss improvement. \n",
        "                            Default: False\n",
        "            delta (float): Minimum change in the monitored quantity to qualify as an improvement.\n",
        "                            Default: 0\n",
        "            path (str): Path for the checkpoint to be saved to.\n",
        "                            Default: 'checkpoint.pt'\n",
        "            trace_func (function): trace print function.\n",
        "                            Default: print            \n",
        "        \"\"\"\n",
        "        self.patience = patience\n",
        "        self.verbose = verbose\n",
        "        self.counter = 0\n",
        "        self.best_score = None\n",
        "        self.early_stop = False\n",
        "        self.val_loss_min = np.Inf\n",
        "        self.delta = delta\n",
        "        self.path = path\n",
        "        self.trace_func = trace_func\n",
        "    def __call__(self, val_loss, model):\n",
        "\n",
        "        score = -val_loss\n",
        "\n",
        "        if self.best_score is None:\n",
        "            self.best_score = score\n",
        "            self.save_checkpoint(val_loss, model)\n",
        "        elif score < self.best_score + self.delta:\n",
        "            self.counter += 1\n",
        "            self.trace_func(f'EarlyStopping counter: {self.counter} out of {self.patience}')\n",
        "            if self.counter >= self.patience:\n",
        "                self.early_stop = True\n",
        "        else:\n",
        "            self.best_score = score\n",
        "            self.save_checkpoint(val_loss, model)\n",
        "            self.counter = 0\n",
        "\n",
        "    def save_checkpoint(self, val_loss, model):\n",
        "        '''Saves model when validation loss decrease.'''\n",
        "        if self.verbose:\n",
        "            self.trace_func(f'Validation loss decreased ({self.val_loss_min:.6f} --> {val_loss:.6f}).  Saving model ...')\n",
        "        torch.save(model.state_dict(), self.path)\n",
        "        self.val_loss_min = val_loss"
      ],
      "metadata": {
        "id": "DqbPw9GM7veW"
      },
      "execution_count": null,
      "outputs": []
    },
    {
      "cell_type": "markdown",
      "source": [
        "### ファインチューニング"
      ],
      "metadata": {
        "id": "Hz8tVyHL1jmX"
      }
    },
    {
      "cell_type": "code",
      "source": [
        "model.train()\n",
        "outputs = model(input_ids[:1], attention_mask=attention_mask[:1], labels=labels[:1])\n",
        "print(outputs.loss)"
      ],
      "metadata": {
        "colab": {
          "base_uri": "https://localhost:8080/"
        },
        "id": "86t1zqiNxsfk",
        "outputId": "8335f14f-6f66-4e94-d9de-98e9a288938f"
      },
      "execution_count": null,
      "outputs": [
        {
          "output_type": "stream",
          "name": "stdout",
          "text": [
            "tensor(8.9280, grad_fn=<NllLossBackward0>)\n"
          ]
        }
      ]
    },
    {
      "cell_type": "code",
      "source": [
        "optimizer = AdamW(model.parameters(), lr=1e-5)\n",
        "early_stopping = EarlyStopping(patience=3)\n",
        "epoch = 100\n",
        "batch = 16\n",
        "num = len(input_ids)//batch\n",
        "loss_list = []\n",
        "acc_loss = []\n",
        "test_acc = []\n",
        "val_acc = []\n",
        "train_acc = []\n",
        "zyosi_acc = []\n",
        "result_list = [[],[],[],[]]\n",
        "\n",
        "for i in range(epoch):#epochの数だけ繰り返す\n",
        "  print(\"-----------epoch\"+str(i+1)+\"----------\")\n",
        "  # test_result =  test_acc.append(predict(model,tokenizer,test_docs_singele,test_labels))\n",
        "  # train_result = train_acc.append(predict(model,tokenizer,train_singele,original_texts))\n",
        "  # val_result =  val_acc.append(predict(model,tokenizer,Acc_docs_singele,Acc_labels))\n",
        "  #助詞\n",
        "  if i == 8 or i == 11:\n",
        "    zyosi_test = zyosi_acc.append(predict_zyosi(model,tokenizer,all_add_ZYOSI,test_labels))\n",
        "    result_list[3].append(zyosi_test)\n",
        "\n",
        "\n",
        "  # result_list[0].append(test_result)\n",
        "  # result_list[1].append(train_result)\n",
        "  # result_list[2].append(val_result)\n",
        "\n",
        "  for b in range(num):#bacthに分けて学習するためnumの回数繰り返す\n",
        "    c=b+1\n",
        "    outputs = model(input_ids[batch*b:batch*c], attention_mask=attention_mask[batch*b:batch*c], labels=labels[batch*b:batch*c])\n",
        "    loss = outputs.loss\n",
        "    loss_list.append(loss.item())\n",
        "    print(loss)\n",
        "    loss.backward()\n",
        "    optimizer.step()\n",
        "\n",
        "\n",
        "  with torch.no_grad():\n",
        "    outputs = model(acc_input_ids,attention_mask=acc_attention_mask,labels=acc_labels)\n",
        "  loss = outputs.loss\n",
        "  acc_loss.append(loss.item())\n",
        "  print(\"accののloss\")\n",
        "  print(loss)\n",
        "  early_stopping(loss, model)\n",
        "  if early_stopping.early_stop:\n",
        "    print(\"Early Stopping\")\n",
        "    break\n",
        "\n",
        "    \n",
        "      \n"
      ],
      "metadata": {
        "colab": {
          "base_uri": "https://localhost:8080/"
        },
        "id": "fq4qSxmXb878",
        "outputId": "70915732-5daa-4a10-9e5a-101951b19ae8"
      },
      "execution_count": null,
      "outputs": [
        {
          "output_type": "stream",
          "name": "stdout",
          "text": [
            "-----------epoch1----------\n",
            "tensor(9.5018, grad_fn=<NllLossBackward0>)\n",
            "tensor(8.8474, grad_fn=<NllLossBackward0>)\n",
            "tensor(7.5935, grad_fn=<NllLossBackward0>)\n",
            "tensor(6.9951, grad_fn=<NllLossBackward0>)\n",
            "tensor(5.8921, grad_fn=<NllLossBackward0>)\n",
            "tensor(4.9633, grad_fn=<NllLossBackward0>)\n",
            "tensor(4.2343, grad_fn=<NllLossBackward0>)\n",
            "tensor(3.4520, grad_fn=<NllLossBackward0>)\n",
            "tensor(3.3579, grad_fn=<NllLossBackward0>)\n",
            "tensor(3.3389, grad_fn=<NllLossBackward0>)\n",
            "accののloss\n",
            "tensor(1.5101)\n",
            "-----------epoch2----------\n",
            "tensor(2.2864, grad_fn=<NllLossBackward0>)\n",
            "tensor(2.0521, grad_fn=<NllLossBackward0>)\n",
            "tensor(1.4529, grad_fn=<NllLossBackward0>)\n",
            "tensor(1.0688, grad_fn=<NllLossBackward0>)\n",
            "tensor(0.9268, grad_fn=<NllLossBackward0>)\n",
            "tensor(0.9139, grad_fn=<NllLossBackward0>)\n",
            "tensor(1.0518, grad_fn=<NllLossBackward0>)\n",
            "tensor(1.1175, grad_fn=<NllLossBackward0>)\n",
            "tensor(1.1232, grad_fn=<NllLossBackward0>)\n",
            "tensor(1.1854, grad_fn=<NllLossBackward0>)\n",
            "accののloss\n",
            "tensor(3.1908)\n",
            "EarlyStopping counter: 1 out of 3\n",
            "-----------epoch3----------\n",
            "tensor(1.9465, grad_fn=<NllLossBackward0>)\n",
            "tensor(2.2606, grad_fn=<NllLossBackward0>)\n",
            "tensor(2.3820, grad_fn=<NllLossBackward0>)\n",
            "tensor(2.3921, grad_fn=<NllLossBackward0>)\n",
            "tensor(2.3821, grad_fn=<NllLossBackward0>)\n",
            "tensor(2.2421, grad_fn=<NllLossBackward0>)\n",
            "tensor(1.9768, grad_fn=<NllLossBackward0>)\n",
            "tensor(1.5592, grad_fn=<NllLossBackward0>)\n",
            "tensor(1.2096, grad_fn=<NllLossBackward0>)\n",
            "tensor(0.8988, grad_fn=<NllLossBackward0>)\n",
            "accののloss\n",
            "tensor(1.2915)\n",
            "-----------epoch4----------\n",
            "tensor(0.7889, grad_fn=<NllLossBackward0>)\n",
            "tensor(0.7452, grad_fn=<NllLossBackward0>)\n",
            "tensor(0.6553, grad_fn=<NllLossBackward0>)\n",
            "tensor(0.5084, grad_fn=<NllLossBackward0>)\n",
            "tensor(0.5016, grad_fn=<NllLossBackward0>)\n",
            "tensor(0.4489, grad_fn=<NllLossBackward0>)\n",
            "tensor(0.4922, grad_fn=<NllLossBackward0>)\n",
            "tensor(0.4176, grad_fn=<NllLossBackward0>)\n",
            "tensor(0.4529, grad_fn=<NllLossBackward0>)\n",
            "tensor(0.3763, grad_fn=<NllLossBackward0>)\n",
            "accののloss\n",
            "tensor(0.5717)\n",
            "-----------epoch5----------\n",
            "tensor(0.3340, grad_fn=<NllLossBackward0>)\n",
            "tensor(0.3242, grad_fn=<NllLossBackward0>)\n",
            "tensor(0.3578, grad_fn=<NllLossBackward0>)\n",
            "tensor(0.2965, grad_fn=<NllLossBackward0>)\n",
            "tensor(0.3495, grad_fn=<NllLossBackward0>)\n",
            "tensor(0.3222, grad_fn=<NllLossBackward0>)\n",
            "tensor(0.4055, grad_fn=<NllLossBackward0>)\n",
            "tensor(0.3367, grad_fn=<NllLossBackward0>)\n",
            "tensor(0.4106, grad_fn=<NllLossBackward0>)\n",
            "tensor(0.3192, grad_fn=<NllLossBackward0>)\n",
            "accののloss\n",
            "tensor(0.4769)\n",
            "-----------epoch6----------\n",
            "tensor(0.3691, grad_fn=<NllLossBackward0>)\n",
            "tensor(0.3993, grad_fn=<NllLossBackward0>)\n",
            "tensor(0.3237, grad_fn=<NllLossBackward0>)\n",
            "tensor(0.2243, grad_fn=<NllLossBackward0>)\n",
            "tensor(0.2784, grad_fn=<NllLossBackward0>)\n",
            "tensor(0.2214, grad_fn=<NllLossBackward0>)\n",
            "tensor(0.3138, grad_fn=<NllLossBackward0>)\n",
            "tensor(0.2355, grad_fn=<NllLossBackward0>)\n",
            "tensor(0.2665, grad_fn=<NllLossBackward0>)\n",
            "tensor(0.2192, grad_fn=<NllLossBackward0>)\n",
            "accののloss\n",
            "tensor(0.3152)\n",
            "-----------epoch7----------\n",
            "tensor(0.1665, grad_fn=<NllLossBackward0>)\n",
            "tensor(0.1787, grad_fn=<NllLossBackward0>)\n",
            "tensor(0.1938, grad_fn=<NllLossBackward0>)\n",
            "tensor(0.1371, grad_fn=<NllLossBackward0>)\n",
            "tensor(0.2125, grad_fn=<NllLossBackward0>)\n",
            "tensor(0.1728, grad_fn=<NllLossBackward0>)\n",
            "tensor(0.2371, grad_fn=<NllLossBackward0>)\n",
            "tensor(0.2069, grad_fn=<NllLossBackward0>)\n",
            "tensor(0.2042, grad_fn=<NllLossBackward0>)\n",
            "tensor(0.1736, grad_fn=<NllLossBackward0>)\n",
            "accののloss\n",
            "tensor(0.3055)\n",
            "-----------epoch8----------\n",
            "tensor(0.1825, grad_fn=<NllLossBackward0>)\n",
            "tensor(0.1969, grad_fn=<NllLossBackward0>)\n",
            "tensor(0.2256, grad_fn=<NllLossBackward0>)\n",
            "tensor(0.1719, grad_fn=<NllLossBackward0>)\n",
            "tensor(0.2254, grad_fn=<NllLossBackward0>)\n",
            "tensor(0.1800, grad_fn=<NllLossBackward0>)\n",
            "tensor(0.2140, grad_fn=<NllLossBackward0>)\n",
            "tensor(0.1868, grad_fn=<NllLossBackward0>)\n",
            "tensor(0.1635, grad_fn=<NllLossBackward0>)\n",
            "tensor(0.1371, grad_fn=<NllLossBackward0>)\n",
            "accののloss\n",
            "tensor(0.1973)\n",
            "-----------epoch9----------\n",
            "['必要', 'お化け屋敷とかけまして、お坊さんとときます。その心は、どちらも、「どきょう」(度胸、読経)が必要です。', -3.8178696946009074]\n",
            "['条件', 'お化け屋敷とかけまして、お坊さんとときます。その心は、どちらも、「どきょう」(度胸、読経)を条件です。', -3.823257092310462]\n",
            "['[UNK]', 'お化け屋敷とかけまして、お坊さんとときます。その心は、どちらも、「どきょう」(度胸、読経)に[UNK]です。', -3.837075202767375]\n",
            "['心', 'お化け屋敷とかけまして、お坊さんとときます。その心は、どちらも、「どきょう」(度胸、読経)の心です。', -3.812869274951097]\n",
            "['、', 'お化け屋敷とかけまして、お坊さんとときます。その心は、どちらも、「どきょう」(度胸、読経)へ、です。', -3.810616379256196]\n",
            "['、', 'お化け屋敷とかけまして、お坊さんとときます。その心は、どちらも、「どきょう」(度胸、読経)と、です。', -3.8245630728678868]\n",
            "['好評', 'お化け屋敷とかけまして、お坊さんとときます。その心は、どちらも、「どきょう」(度胸、読経)から好評です。', -3.7833772201762264]\n",
            "['、', 'お化け屋敷とかけまして、お坊さんとときます。その心は、どちらも、「どきょう」(度胸、読経)より、です。', -3.8388528805419684]\n",
            "['[UNK]', 'お化け屋敷とかけまして、お坊さんとときます。その心は、どちらも、「どきょう」(度胸、読経)で[UNK]です。', -3.8071172165911125]\n",
            "['、', 'お化け屋敷とかけまして、お坊さんとときます。その心は、どちらも、「どきょう」(度胸、読経)や、です。', -3.808130512386427]\n",
            "[-3.7833772201762264, 6]\n",
            "[['好評', 'お化け屋敷とかけまして、お坊さんとときます。その心は、どちらも、「どきょう」(度胸、読経)から好評です。', -3.7833772201762264], 'から']\n",
            "['、', '忍者とかけまして、栗とときます。その心は、どちらも、「いが」(伊賀、イガ)が、ます。', -4.0525875101047415]\n",
            "['持ち', '忍者とかけまして、栗とときます。その心は、どちらも、「いが」(伊賀、イガ)を持ちます。', -4.019643331062054]\n",
            "['付', '忍者とかけまして、栗とときます。その心は、どちらも、「いが」(伊賀、イガ)に付ます。', -4.031423564835679]\n",
            "['心', '忍者とかけまして、栗とときます。その心は、どちらも、「いが」(伊賀、イガ)の心ます。', -4.078822732866917]\n",
            "['て', '忍者とかけまして、栗とときます。その心は、どちらも、「いが」(伊賀、イガ)へてます。', -4.177390362342609]\n",
            "['て', '忍者とかけまして、栗とときます。その心は、どちらも、「いが」(伊賀、イガ)とてます。', -4.1612539842622525]\n",
            "['行き', '忍者とかけまして、栗とときます。その心は、どちらも、「いが」(伊賀、イガ)から行きます。', -4.095126232385579]\n",
            "['、', '忍者とかけまして、栗とときます。その心は、どちらも、「いが」(伊賀、イガ)より、ます。', -4.0353711313896365]\n",
            "['結び', '忍者とかけまして、栗とときます。その心は、どちらも、「いが」(伊賀、イガ)で結びます。', -3.9719407986145345]\n",
            "['、', '忍者とかけまして、栗とときます。その心は、どちらも、「いが」(伊賀、イガ)や、ます。', -4.033657364498875]\n",
            "[-3.9719407986145345, 8]\n",
            "[['結び', '忍者とかけまして、栗とときます。その心は、どちらも、「いが」(伊賀、イガ)で結びます。', -3.9719407986145345], 'で']\n",
            "['必要', '天秤とかけまして、赤ちゃんとときます。その心は、どちらも、「おもり」(重り、お守り)が必要です。', -3.8191570961864785]\n",
            "['所持', '天秤とかけまして、赤ちゃんとときます。その心は、どちらも、「おもり」(重り、お守り)を所持です。', -3.8078935730113996]\n",
            "['好評', '天秤とかけまして、赤ちゃんとときます。その心は、どちらも、「おもり」(重り、お守り)に好評です。', -3.759263134400674]\n",
            "['心', '天秤とかけまして、赤ちゃんとときます。その心は、どちらも、「おもり」(重り、お守り)の心です。', -3.7536265337821804]\n",
            "['、', '天秤とかけまして、赤ちゃんとときます。その心は、どちらも、「おもり」(重り、お守り)へ、です。', -3.7674704124738825]\n",
            "['、', '天秤とかけまして、赤ちゃんとときます。その心は、どちらも、「おもり」(重り、お守り)と、です。', -3.8538696494031854]\n",
            "['、', '天秤とかけまして、赤ちゃんとときます。その心は、どちらも、「おもり」(重り、お守り)から、です。', -3.7539266561117794]\n",
            "['、', '天秤とかけまして、赤ちゃんとときます。その心は、どちらも、「おもり」(重り、お守り)より、です。', -3.7475449141217174]\n",
            "['、', '天秤とかけまして、赤ちゃんとときます。その心は、どちらも、「おもり」(重り、お守り)で、です。', -3.7639114974535657]\n",
            "['、', '天秤とかけまして、赤ちゃんとときます。その心は、どちらも、「おもり」(重り、お守り)や、です。', -3.769882445657043]\n",
            "[-3.7475449141217174, 7]\n",
            "[['、', '天秤とかけまして、赤ちゃんとときます。その心は、どちらも、「おもり」(重り、お守り)より、です。', -3.7475449141217174], 'より']\n",
            "['便利', '自転車とかけまして、新聞とときます。その心は、どちらも、「ほうち」(放置、報知)が便利でしょう。', -4.124587624880774]\n",
            "['狙い', '自転車とかけまして、新聞とときます。その心は、どちらも、「ほうち」(放置、報知)を狙いでしょう。', -4.0709548869217675]\n",
            "['便利', '自転車とかけまして、新聞とときます。その心は、どちらも、「ほうち」(放置、報知)に便利でしょう。', -4.06720281967843]\n",
            "['運転', '自転車とかけまして、新聞とときます。その心は、どちらも、「ほうち」(放置、報知)の運転でしょう。', -4.101709246776592]\n",
            "['好評', '自転車とかけまして、新聞とときます。その心は、どちらも、「ほうち」(放置、報知)へ好評でしょう。', -4.066108739451659]\n",
            "['好評', '自転車とかけまして、新聞とときます。その心は、どちらも、「ほうち」(放置、報知)と好評でしょう。', -4.003361599472142]\n",
            "['好評', '自転車とかけまして、新聞とときます。その心は、どちらも、「ほうち」(放置、報知)から好評でしょう。', -4.1006964674228765]\n",
            "['好評', '自転車とかけまして、新聞とときます。その心は、どちらも、「ほうち」(放置、報知)より好評でしょう。', -4.1019311288477045]\n",
            "['、', '自転車とかけまして、新聞とときます。その心は、どちらも、「ほうち」(放置、報知)で、でしょう。', -4.118081250332981]\n",
            "['、', '自転車とかけまして、新聞とときます。その心は、どちらも、「ほうち」(放置、報知)や、でしょう。', -4.065951626851224]\n",
            "[-4.003361599472142, 5]\n",
            "[['好評', '自転車とかけまして、新聞とときます。その心は、どちらも、「ほうち」(放置、報知)と好評でしょう。', -4.003361599472142], 'と']\n",
            "['、', '花火とかけまして、仕事終わりとときます。その心は、どちらも、「うちあげ」(打ち上げ)が、ます。', -4.035503775627123]\n",
            "['目的', '花火とかけまして、仕事終わりとときます。その心は、どちらも、「うちあげ」(打ち上げ)を目的ます。', -4.037109050348377]\n",
            "['目', '花火とかけまして、仕事終わりとときます。その心は、どちらも、「うちあげ」(打ち上げ)に目ます。', -4.0713564713334724]\n",
            "['。', '花火とかけまして、仕事終わりとときます。その心は、どちらも、「うちあげ」(打ち上げ)の。ます。', -3.8362224827695024]\n",
            "['。', '花火とかけまして、仕事終わりとときます。その心は、どちらも、「うちあげ」(打ち上げ)へ。ます。', -4.023673711743781]\n",
            "['て', '花火とかけまして、仕事終わりとときます。その心は、どちらも、「うちあげ」(打ち上げ)とてます。', -4.008632719926384]\n",
            "['、', '花火とかけまして、仕事終わりとときます。その心は、どちらも、「うちあげ」(打ち上げ)から、ます。', -4.070479007672216]\n",
            "['、', '花火とかけまして、仕事終わりとときます。その心は、どちらも、「うちあげ」(打ち上げ)より、ます。', -4.069557800982855]\n",
            "['、', '花火とかけまして、仕事終わりとときます。その心は、どちらも、「うちあげ」(打ち上げ)で、ます。', -4.042548869353036]\n",
            "['、', '花火とかけまして、仕事終わりとときます。その心は、どちらも、「うちあげ」(打ち上げ)や、ます。', -4.041574995280566]\n",
            "[-3.8362224827695024, 3]\n",
            "[['。', '花火とかけまして、仕事終わりとときます。その心は、どちらも、「うちあげ」(打ち上げ)の。ます。', -3.8362224827695024], 'の']\n",
            "['必要', '柔道とかけまして、禁煙とときます。その心は、どちらも、「いっぽん」(一本)が必要です。', -3.9006511307010943]\n",
            "['経由', '柔道とかけまして、禁煙とときます。その心は、どちらも、「いっぽん」(一本)を経由です。', -4.064004288573275]\n",
            "['好評', '柔道とかけまして、禁煙とときます。その心は、どちらも、「いっぽん」(一本)に好評です。', -3.8766237839134616]\n",
            "['脚', '柔道とかけまして、禁煙とときます。その心は、どちらも、「いっぽん」(一本)の脚です。', -3.814288283153822]\n",
            "['、', '柔道とかけまして、禁煙とときます。その心は、どちらも、「いっぽん」(一本)へ、です。', -3.951708337417708]\n",
            "['、', '柔道とかけまして、禁煙とときます。その心は、どちらも、「いっぽん」(一本)と、です。', -4.033630299037831]\n",
            "['好評', '柔道とかけまして、禁煙とときます。その心は、どちらも、「いっぽん」(一本)から好評です。', -3.8830956994431247]\n",
            "['、', '柔道とかけまして、禁煙とときます。その心は、どちらも、「いっぽん」(一本)より、です。', -3.9151710672438567]\n",
            "['、', '柔道とかけまして、禁煙とときます。その心は、どちらも、「いっぽん」(一本)で、です。', -3.963662497501453]\n",
            "['、', '柔道とかけまして、禁煙とときます。その心は、どちらも、「いっぽん」(一本)や、です。', -3.960475849305875]\n",
            "[-3.814288283153822, 3]\n",
            "[['脚', '柔道とかけまして、禁煙とときます。その心は、どちらも、「いっぽん」(一本)の脚です。', -3.814288283153822], 'の']\n",
            "['絡', 'クリーニング屋とかけまして、笑顔とときます。その心は、どちらも、「ふく」(服、福)が絡ます。', -4.06511902890955]\n",
            "['持ち', 'クリーニング屋とかけまして、笑顔とときます。その心は、どちらも、「ふく」(服、福)を持ちます。', -3.729262960769275]\n",
            "['絡', 'クリーニング屋とかけまして、笑顔とときます。その心は、どちらも、「ふく」(服、福)に絡ます。', -4.094085598673344]\n",
            "['心', 'クリーニング屋とかけまして、笑顔とときます。その心は、どちらも、「ふく」(服、福)の心ます。', -3.7517650350626237]\n",
            "['役', 'クリーニング屋とかけまして、笑顔とときます。その心は、どちらも、「ふく」(服、福)へ役ます。', -3.785510547656915]\n",
            "['絡', 'クリーニング屋とかけまして、笑顔とときます。その心は、どちらも、「ふく」(服、福)と絡ます。', -4.011445833200804]\n",
            "['抽選', 'クリーニング屋とかけまして、笑顔とときます。その心は、どちらも、「ふく」(服、福)から抽選ます。', -3.8621530150789716]\n",
            "['、', 'クリーニング屋とかけまして、笑顔とときます。その心は、どちらも、「ふく」(服、福)より、ます。', -3.808918735088955]\n",
            "['あり', 'クリーニング屋とかけまして、笑顔とときます。その心は、どちらも、「ふく」(服、福)であります。', -3.731185438880326]\n",
            "['、', 'クリーニング屋とかけまして、笑顔とときます。その心は、どちらも、「ふく」(服、福)や、ます。', -3.8241562477019433]\n",
            "[-3.729262960769275, 1]\n",
            "[['持ち', 'クリーニング屋とかけまして、笑顔とときます。その心は、どちらも、「ふく」(服、福)を持ちます。', -3.729262960769275], 'を']\n",
            "['絡', '株式とかけまして、お皿とときます。その心は、どちらも、「とうき」(投機、陶器)が絡ます。', -4.085281171972905]\n",
            "['持ち', '株式とかけまして、お皿とときます。その心は、どちらも、「とうき」(投機、陶器)を持ちます。', -4.159199157132323]\n",
            "['付', '株式とかけまして、お皿とときます。その心は、どちらも、「とうき」(投機、陶器)に付ます。', -4.1280610257203065]\n",
            "['心', '株式とかけまして、お皿とときます。その心は、どちらも、「とうき」(投機、陶器)の心ます。', -4.136724544376385]\n",
            "['て', '株式とかけまして、お皿とときます。その心は、どちらも、「とうき」(投機、陶器)へてます。', -4.107249385185108]\n",
            "['て', '株式とかけまして、お皿とときます。その心は、どちらも、「とうき」(投機、陶器)とてます。', -4.156845013853606]\n",
            "['行き', '株式とかけまして、お皿とときます。その心は、どちらも、「とうき」(投機、陶器)から行きます。', -4.076473335341327]\n",
            "['、', '株式とかけまして、お皿とときます。その心は、どちらも、「とうき」(投機、陶器)より、ます。', -4.123340119896667]\n",
            "['あり', '株式とかけまして、お皿とときます。その心は、どちらも、「とうき」(投機、陶器)であります。', -4.1620007909365295]\n",
            "['、', '株式とかけまして、お皿とときます。その心は、どちらも、「とうき」(投機、陶器)や、ます。', -4.1118181046746285]\n",
            "[-4.076473335341327, 6]\n",
            "[['行き', '株式とかけまして、お皿とときます。その心は、どちらも、「とうき」(投機、陶器)から行きます。', -4.076473335341327], 'から']\n",
            "['必要', 'チャンピョンとかけまして、大掃除とときます。その心は、どちらも、「ほこり」(誇り、[UNK])が必要ます。', -3.691164887563651]\n",
            "['持ち', 'チャンピョンとかけまして、大掃除とときます。その心は、どちらも、「ほこり」(誇り、[UNK])を持ちます。', -3.6886197478285006]\n",
            "['付', 'チャンピョンとかけまして、大掃除とときます。その心は、どちらも、「ほこり」(誇り、[UNK])に付ます。', -3.6876171776077515]\n",
            "['心', 'チャンピョンとかけまして、大掃除とときます。その心は、どちらも、「ほこり」(誇り、[UNK])の心ます。', -3.7076149635396485]\n",
            "['と', 'チャンピョンとかけまして、大掃除とときます。その心は、どちらも、「ほこり」(誇り、[UNK])へとます。', -3.7278998503307395]\n",
            "['て', 'チャンピョンとかけまして、大掃除とときます。その心は、どちらも、「ほこり」(誇り、[UNK])とてます。', -3.7560996304792242]\n",
            "['、', 'チャンピョンとかけまして、大掃除とときます。その心は、どちらも、「ほこり」(誇り、[UNK])から、ます。', -3.7460472364454658]\n",
            "['、', 'チャンピョンとかけまして、大掃除とときます。その心は、どちらも、「ほこり」(誇り、[UNK])より、ます。', -3.7509643953637695]\n",
            "['あり', 'チャンピョンとかけまして、大掃除とときます。その心は、どちらも、「ほこり」(誇り、[UNK])であります。', -3.689090306485255]\n",
            "['、', 'チャンピョンとかけまして、大掃除とときます。その心は、どちらも、「ほこり」(誇り、[UNK])や、ます。', -3.7536085829574826]\n",
            "[-3.6876171776077515, 2]\n",
            "[['付', 'チャンピョンとかけまして、大掃除とときます。その心は、どちらも、「ほこり」(誇り、[UNK])に付ます。', -3.6876171776077515], 'に']\n",
            "['便利', '賭け事とかけまして、真夜中とときます。その心は、どちらも、「つき」(ツキ、月)が便利でしょう。', -3.8585000769532893]\n",
            "['結ぶ', '賭け事とかけまして、真夜中とときます。その心は、どちらも、「つき」(ツキ、月)を結ぶでしょう。', -3.7898807182246084]\n",
            "['定住', '賭け事とかけまして、真夜中とときます。その心は、どちらも、「つき」(ツキ、月)に定住でしょう。', -3.980889570485598]\n",
            "['心', '賭け事とかけまして、真夜中とときます。その心は、どちらも、「つき」(ツキ、月)の心でしょう。', -3.817421157937448]\n",
            "['好評', '賭け事とかけまして、真夜中とときます。その心は、どちらも、「つき」(ツキ、月)へ好評でしょう。', -3.918427999660981]\n",
            "['好評', '賭け事とかけまして、真夜中とときます。その心は、どちらも、「つき」(ツキ、月)と好評でしょう。', -3.8558096183359476]\n",
            "['実用', '賭け事とかけまして、真夜中とときます。その心は、どちらも、「つき」(ツキ、月)から実用でしょう。', -3.9654404473072957]\n",
            "['実用', '賭け事とかけまして、真夜中とときます。その心は、どちらも、「つき」(ツキ、月)より実用でしょう。', -3.9821962392039367]\n",
            "['ある', '賭け事とかけまして、真夜中とときます。その心は、どちらも、「つき」(ツキ、月)であるでしょう。', -3.7918081530934034]\n",
            "['、', '賭け事とかけまして、真夜中とときます。その心は、どちらも、「つき」(ツキ、月)や、でしょう。', -3.932501024700387]\n",
            "[-3.7898807182246084, 1]\n",
            "[['結ぶ', '賭け事とかけまして、真夜中とときます。その心は、どちらも、「つき」(ツキ、月)を結ぶでしょう。', -3.7898807182246084], 'を']\n",
            "['必要', '電気自動車とかけまして、野球とときます。その心は、どちらも、「ばってりー」(バッテリー)が必要です。', -4.092715302176043]\n",
            "['経由', '電気自動車とかけまして、野球とときます。その心は、どちらも、「ばってりー」(バッテリー)を経由です。', -4.043170294556358]\n",
            "['好評', '電気自動車とかけまして、野球とときます。その心は、どちらも、「ばってりー」(バッテリー)に好評です。', -3.9754905556511675]\n",
            "['心', '電気自動車とかけまして、野球とときます。その心は、どちらも、「ばってりー」(バッテリー)の心です。', -3.9839502936774944]\n",
            "['、', '電気自動車とかけまして、野球とときます。その心は、どちらも、「ばってりー」(バッテリー)へ、です。', -3.9931616068211313]\n",
            "['公平', '電気自動車とかけまして、野球とときます。その心は、どちらも、「ばってりー」(バッテリー)と公平です。', -3.771926025169801]\n",
            "['、', '電気自動車とかけまして、野球とときます。その心は、どちらも、「ばってりー」(バッテリー)から、です。', -3.9019611063404125]\n",
            "['、', '電気自動車とかけまして、野球とときます。その心は、どちらも、「ばってりー」(バッテリー)より、です。', -3.976466683817783]\n",
            "['、', '電気自動車とかけまして、野球とときます。その心は、どちらも、「ばってりー」(バッテリー)で、です。', -3.9596271907292775]\n",
            "['、', '電気自動車とかけまして、野球とときます。その心は、どちらも、「ばってりー」(バッテリー)や、です。', -4.023770766464584]\n",
            "[-3.771926025169801, 5]\n",
            "[['公平', '電気自動車とかけまして、野球とときます。その心は、どちらも、「ばってりー」(バッテリー)と公平です。', -3.771926025169801], 'と']\n",
            "['行き', 'そうめんとかけまして、月とときます。その心は、どちらも、「つゆ」(汁、梅雨)が行きます。', -3.8403198144271324]\n",
            "['持ち', 'そうめんとかけまして、月とときます。その心は、どちらも、「つゆ」(汁、梅雨)を持ちます。', -3.810404395715551]\n",
            "['付', 'そうめんとかけまして、月とときます。その心は、どちらも、「つゆ」(汁、梅雨)に付ます。', -3.7443589600617844]\n",
            "['心', 'そうめんとかけまして、月とときます。その心は、どちらも、「つゆ」(汁、梅雨)の心ます。', -3.7914789225785794]\n",
            "['て', 'そうめんとかけまして、月とときます。その心は、どちらも、「つゆ」(汁、梅雨)へてます。', -3.9323234282948385]\n",
            "['て', 'そうめんとかけまして、月とときます。その心は、どちらも、「つゆ」(汁、梅雨)とてます。', -3.904724972871095]\n",
            "['行き', 'そうめんとかけまして、月とときます。その心は、どちらも、「つゆ」(汁、梅雨)から行きます。', -4.018705962957707]\n",
            "['、', 'そうめんとかけまして、月とときます。その心は、どちらも、「つゆ」(汁、梅雨)より、ます。', -3.8470543958466905]\n",
            "['あり', 'そうめんとかけまして、月とときます。その心は、どちらも、「つゆ」(汁、梅雨)であります。', -3.7923400368151947]\n",
            "['、', 'そうめんとかけまして、月とときます。その心は、どちらも、「つゆ」(汁、梅雨)や、ます。', -3.862683020294614]\n",
            "[-3.7443589600617844, 2]\n",
            "[['付', 'そうめんとかけまして、月とときます。その心は、どちらも、「つゆ」(汁、梅雨)に付ます。', -3.7443589600617844], 'に']\n",
            "['行き', '秋とかけまして、怒りとときます。その心は、どちらも、「こうよう」(紅葉、高揚)が行きます。', -3.7170981302039383]\n",
            "['経由', '秋とかけまして、怒りとときます。その心は、どちらも、「こうよう」(紅葉、高揚)を経由ます。', -3.849955525924065]\n",
            "['行き', '秋とかけまして、怒りとときます。その心は、どちらも、「こうよう」(紅葉、高揚)に行きます。', -3.747893747249903]\n",
            "['心', '秋とかけまして、怒りとときます。その心は、どちらも、「こうよう」(紅葉、高揚)の心ます。', -3.7581301618362084]\n",
            "['行き', '秋とかけまして、怒りとときます。その心は、どちらも、「こうよう」(紅葉、高揚)へ行きます。', -3.875718634001392]\n",
            "['きっぷ', '秋とかけまして、怒りとときます。その心は、どちらも、「こうよう」(紅葉、高揚)ときっぷます。', -3.724686401576088]\n",
            "['行き', '秋とかけまして、怒りとときます。その心は、どちらも、「こうよう」(紅葉、高揚)から行きます。', -3.8503891238993284]\n",
            "['、', '秋とかけまして、怒りとときます。その心は、どちらも、「こうよう」(紅葉、高揚)より、ます。', -3.812135099988979]\n",
            "['、', '秋とかけまして、怒りとときます。その心は、どちらも、「こうよう」(紅葉、高揚)で、ます。', -3.8356713558333166]\n",
            "['土産', '秋とかけまして、怒りとときます。その心は、どちらも、「こうよう」(紅葉、高揚)や土産ます。', -3.8651814221797873]\n",
            "[-3.7170981302039383, 0]\n",
            "[['行き', '秋とかけまして、怒りとときます。その心は、どちらも、「こうよう」(紅葉、高揚)が行きます。', -3.7170981302039383], 'が']\n",
            "['必要', 'オーディションとかけまして、お彼岸とときます。その心は、どちらも、「せんこう」(選考、線香)が必要ます。', -4.186511548515733]\n",
            "['持ち', 'オーディションとかけまして、お彼岸とときます。その心は、どちらも、「せんこう」(選考、線香)を持ちます。', -4.023813909847639]\n",
            "['付', 'オーディションとかけまして、お彼岸とときます。その心は、どちらも、「せんこう」(選考、線香)に付ます。', -4.076653512129413]\n",
            "['心', 'オーディションとかけまして、お彼岸とときます。その心は、どちらも、「せんこう」(選考、線香)の心ます。', -4.043274343813362]\n",
            "['て', 'オーディションとかけまして、お彼岸とときます。その心は、どちらも、「せんこう」(選考、線香)へてます。', -4.193888736433363]\n",
            "['て', 'オーディションとかけまして、お彼岸とときます。その心は、どちらも、「せんこう」(選考、線香)とてます。', -4.143402206449164]\n",
            "['、', 'オーディションとかけまして、お彼岸とときます。その心は、どちらも、「せんこう」(選考、線香)から、ます。', -4.040678276022683]\n",
            "['、', 'オーディションとかけまして、お彼岸とときます。その心は、どちらも、「せんこう」(選考、線香)より、ます。', -4.0811523015990145]\n",
            "['あり', 'オーディションとかけまして、お彼岸とときます。その心は、どちらも、「せんこう」(選考、線香)であります。', -4.012805451440774]\n",
            "['、', 'オーディションとかけまして、お彼岸とときます。その心は、どちらも、「せんこう」(選考、線香)や、ます。', -4.087982455185503]\n",
            "[-4.012805451440774, 8]\n",
            "[['あり', 'オーディションとかけまして、お彼岸とときます。その心は、どちらも、「せんこう」(選考、線香)であります。', -4.012805451440774], 'で']\n",
            "['必要', '祭りとかけまして、みそ汁とときます。その心は、どちらも、「だし」(山車、ダシ)が必要です。', -4.04817581559037]\n",
            "['経由', '祭りとかけまして、みそ汁とときます。その心は、どちらも、「だし」(山車、ダシ)を経由です。', -4.0042645437702635]\n",
            "['好評', '祭りとかけまして、みそ汁とときます。その心は、どちらも、「だし」(山車、ダシ)に好評です。', -4.077468772681854]\n",
            "['待遇', '祭りとかけまして、みそ汁とときます。その心は、どちらも、「だし」(山車、ダシ)の待遇です。', -4.12353993754551]\n",
            "['、', '祭りとかけまして、みそ汁とときます。その心は、どちらも、「だし」(山車、ダシ)へ、です。', -3.9748093998648253]\n",
            "['、', '祭りとかけまして、みそ汁とときます。その心は、どちらも、「だし」(山車、ダシ)と、です。', -4.0655483234652]\n",
            "['、', '祭りとかけまして、みそ汁とときます。その心は、どちらも、「だし」(山車、ダシ)から、です。', -4.0082147886671775]\n",
            "['、', '祭りとかけまして、みそ汁とときます。その心は、どちらも、「だし」(山車、ダシ)より、です。', -4.0346972046668235]\n",
            "['、', '祭りとかけまして、みそ汁とときます。その心は、どちらも、「だし」(山車、ダシ)で、です。', -3.998147570958446]\n",
            "['、', '祭りとかけまして、みそ汁とときます。その心は、どちらも、「だし」(山車、ダシ)や、です。', -4.007519824791341]\n",
            "[-3.9748093998648253, 4]\n",
            "[['、', '祭りとかけまして、みそ汁とときます。その心は、どちらも、「だし」(山車、ダシ)へ、です。', -3.9748093998648253], 'へ']\n",
            "['目立ち', '食堂とかけまして、不祥事事件とときます。その心は、どちらも、「ていしょく」(定食、停職)が目立ちます。', -4.021333172108771]\n",
            "['持ち', '食堂とかけまして、不祥事事件とときます。その心は、どちらも、「ていしょく」(定食、停職)を持ちます。', -3.968464008696269]\n",
            "['付', '食堂とかけまして、不祥事事件とときます。その心は、どちらも、「ていしょく」(定食、停職)に付ます。', -4.018882052023186]\n",
            "['心', '食堂とかけまして、不祥事事件とときます。その心は、どちらも、「ていしょく」(定食、停職)の心ます。', -3.994682502398793]\n",
            "['て', '食堂とかけまして、不祥事事件とときます。その心は、どちらも、「ていしょく」(定食、停職)へてます。', -4.175020258644535]\n",
            "['て', '食堂とかけまして、不祥事事件とときます。その心は、どちらも、「ていしょく」(定食、停職)とてます。', -4.110708131014609]\n",
            "['行き', '食堂とかけまして、不祥事事件とときます。その心は、どちらも、「ていしょく」(定食、停職)から行きます。', -4.102829707368513]\n",
            "['好評', '食堂とかけまして、不祥事事件とときます。その心は、どちらも、「ていしょく」(定食、停職)より好評ます。', -4.08023069639811]\n",
            "['あり', '食堂とかけまして、不祥事事件とときます。その心は、どちらも、「ていしょく」(定食、停職)であります。', -3.9634225756146964]\n",
            "['、', '食堂とかけまして、不祥事事件とときます。その心は、どちらも、「ていしょく」(定食、停職)や、ます。', -4.107661115455526]\n",
            "[-3.9634225756146964, 8]\n",
            "[['あり', '食堂とかけまして、不祥事事件とときます。その心は、どちらも、「ていしょく」(定食、停職)であります。', -3.9634225756146964], 'で']\n",
            "['必要', '東京タワーとかけまして、発泡酒とときます。その心は、どちらも、「びる」(ビル、ビール)が必要ありません。', -3.8689636525838886]\n",
            "['見返り', '東京タワーとかけまして、発泡酒とときます。その心は、どちらも、「びる」(ビル、ビール)を見返りありません。', -3.853029236711628]\n",
            "['記念', '東京タワーとかけまして、発泡酒とときます。その心は、どちらも、「びる」(ビル、ビール)に記念ありません。', -3.811369113073554]\n",
            "['心', '東京タワーとかけまして、発泡酒とときます。その心は、どちらも、「びる」(ビル、ビール)の心ありません。', -3.828567075570297]\n",
            "['、', '東京タワーとかけまして、発泡酒とときます。その心は、どちらも、「びる」(ビル、ビール)へ、ありません。', -3.8440789241261113]\n",
            "['、', '東京タワーとかけまして、発泡酒とときます。その心は、どちらも、「びる」(ビル、ビール)と、ありません。', -3.9090024309327407]\n",
            "['、', '東京タワーとかけまして、発泡酒とときます。その心は、どちらも、「びる」(ビル、ビール)から、ありません。', -3.8514185823884]\n",
            "['、', '東京タワーとかけまして、発泡酒とときます。その心は、どちらも、「びる」(ビル、ビール)より、ありません。', -3.8762888303404983]\n",
            "['、', '東京タワーとかけまして、発泡酒とときます。その心は、どちらも、「びる」(ビル、ビール)で、ありません。', -3.885428924349759]\n",
            "['、', '東京タワーとかけまして、発泡酒とときます。その心は、どちらも、「びる」(ビル、ビール)や、ありません。', -3.881405799340417]\n",
            "[-3.811369113073554, 2]\n",
            "[['記念', '東京タワーとかけまして、発泡酒とときます。その心は、どちらも、「びる」(ビル、ビール)に記念ありません。', -3.811369113073554], 'に']\n",
            "['必要', '洋食とかけまして、丸とときます。その心は、どちらも、「はし」(箸、端)が必要ません。', -3.85121133718759]\n",
            "['持ち', '洋食とかけまして、丸とときます。その心は、どちらも、「はし」(箸、端)を持ちません。', -3.8673676826171204]\n",
            "['絡', '洋食とかけまして、丸とときます。その心は、どちらも、「はし」(箸、端)に絡ません。', -4.167353265537248]\n",
            "['盾', '洋食とかけまして、丸とときます。その心は、どちらも、「はし」(箸、端)の盾ません。', -3.977123617231809]\n",
            "['役', '洋食とかけまして、丸とときます。その心は、どちらも、「はし」(箸、端)へ役ません。', -3.9265662849378677]\n",
            "['て', '洋食とかけまして、丸とときます。その心は、どちらも、「はし」(箸、端)とてません。', -3.9426894961817944]\n",
            "['、', '洋食とかけまして、丸とときます。その心は、どちらも、「はし」(箸、端)から、ません。', -3.9558535710454485]\n",
            "['、', '洋食とかけまして、丸とときます。その心は、どちらも、「はし」(箸、端)より、ません。', -3.994471983715858]\n",
            "['、', '洋食とかけまして、丸とときます。その心は、どちらも、「はし」(箸、端)で、ません。', -3.99802473443864]\n",
            "['、', '洋食とかけまして、丸とときます。その心は、どちらも、「はし」(箸、端)や、ません。', -3.9400338843975677]\n",
            "[-3.85121133718759, 0]\n",
            "[['必要', '洋食とかけまして、丸とときます。その心は、どちらも、「はし」(箸、端)が必要ません。', -3.85121133718759], 'が']\n",
            "['必要', '満腹とかけまして、海底とときます。その心は、どちらも、「くうき」(食う気、空気)が必要。', -4.127748194174334]\n",
            "['心', '満腹とかけまして、海底とときます。その心は、どちらも、「くうき」(食う気、空気)を心。', -3.5042224892201648]\n",
            "['合格', '満腹とかけまして、海底とときます。その心は、どちらも、「くうき」(食う気、空気)に合格。', -3.6622618420316573]\n",
            "['心', '満腹とかけまして、海底とときます。その心は、どちらも、「くうき」(食う気、空気)の心。', -3.8006553304645294]\n",
            "['完備', '満腹とかけまして、海底とときます。その心は、どちらも、「くうき」(食う気、空気)へ完備。', -4.148294943540254]\n",
            "['完備', '満腹とかけまして、海底とときます。その心は、どちらも、「くうき」(食う気、空気)と完備。', -4.045172200451628]\n",
            "['抽選', '満腹とかけまして、海底とときます。その心は、どちらも、「くうき」(食う気、空気)から抽選。', -3.4971222742513106]\n",
            "['完備', '満腹とかけまして、海底とときます。その心は、どちらも、「くうき」(食う気、空気)より完備。', -3.9884634542448]\n",
            "['、', '満腹とかけまして、海底とときます。その心は、どちらも、「くうき」(食う気、空気)で、。', -3.5405932857627773]\n",
            "['、', '満腹とかけまして、海底とときます。その心は、どちらも、「くうき」(食う気、空気)や、。', -3.7104353047182785]\n",
            "[-3.4971222742513106, 6]\n",
            "[['抽選', '満腹とかけまして、海底とときます。その心は、どちらも、「くうき」(食う気、空気)から抽選。', -3.4971222742513106], 'から']\n",
            "['必要', '音楽とかけまして、マラソンとときます。その心は、どちらも、「かんそう」(間奏、完走)が必要です。', -3.8374236442795464]\n",
            "['経由', '音楽とかけまして、マラソンとときます。その心は、どちらも、「かんそう」(間奏、完走)を経由です。', -3.876805846035062]\n",
            "['便利', '音楽とかけまして、マラソンとときます。その心は、どちらも、「かんそう」(間奏、完走)に便利です。', -3.766708975177739]\n",
            "['心', '音楽とかけまして、マラソンとときます。その心は、どちらも、「かんそう」(間奏、完走)の心です。', -3.763939068196451]\n",
            "['、', '音楽とかけまして、マラソンとときます。その心は、どちらも、「かんそう」(間奏、完走)へ、です。', -3.899413591559638]\n",
            "['、', '音楽とかけまして、マラソンとときます。その心は、どちらも、「かんそう」(間奏、完走)と、です。', -3.8815976157692607]\n",
            "['、', '音楽とかけまして、マラソンとときます。その心は、どちらも、「かんそう」(間奏、完走)から、です。', -3.8152234013378403]\n",
            "['、', '音楽とかけまして、マラソンとときます。その心は、どちらも、「かんそう」(間奏、完走)より、です。', -3.8600504060292207]\n",
            "['、', '音楽とかけまして、マラソンとときます。その心は、どちらも、「かんそう」(間奏、完走)で、です。', -3.8245123459608417]\n",
            "['、', '音楽とかけまして、マラソンとときます。その心は、どちらも、「かんそう」(間奏、完走)や、です。', -3.8641456125232616]\n",
            "[-3.763939068196451, 3]\n",
            "[['心', '音楽とかけまして、マラソンとときます。その心は、どちらも、「かんそう」(間奏、完走)の心です。', -3.763939068196451], 'の']\n",
            "0/20\n",
            "tensor(0.1099, grad_fn=<NllLossBackward0>)\n",
            "tensor(0.1030, grad_fn=<NllLossBackward0>)\n",
            "tensor(0.1244, grad_fn=<NllLossBackward0>)\n",
            "tensor(0.0843, grad_fn=<NllLossBackward0>)\n",
            "tensor(0.1462, grad_fn=<NllLossBackward0>)\n",
            "tensor(0.1336, grad_fn=<NllLossBackward0>)\n",
            "tensor(0.1945, grad_fn=<NllLossBackward0>)\n",
            "tensor(0.1653, grad_fn=<NllLossBackward0>)\n",
            "tensor(0.1769, grad_fn=<NllLossBackward0>)\n",
            "tensor(0.1955, grad_fn=<NllLossBackward0>)\n",
            "accののloss\n",
            "tensor(0.2894)\n",
            "EarlyStopping counter: 1 out of 3\n",
            "-----------epoch10----------\n",
            "tensor(0.1763, grad_fn=<NllLossBackward0>)\n",
            "tensor(0.1788, grad_fn=<NllLossBackward0>)\n",
            "tensor(0.2072, grad_fn=<NllLossBackward0>)\n",
            "tensor(0.1859, grad_fn=<NllLossBackward0>)\n",
            "tensor(0.2233, grad_fn=<NllLossBackward0>)\n",
            "tensor(0.2052, grad_fn=<NllLossBackward0>)\n",
            "tensor(0.2450, grad_fn=<NllLossBackward0>)\n",
            "tensor(0.2228, grad_fn=<NllLossBackward0>)\n",
            "tensor(0.2323, grad_fn=<NllLossBackward0>)\n",
            "tensor(0.2292, grad_fn=<NllLossBackward0>)\n",
            "accののloss\n",
            "tensor(0.3311)\n",
            "EarlyStopping counter: 2 out of 3\n",
            "-----------epoch11----------\n",
            "tensor(0.2013, grad_fn=<NllLossBackward0>)\n",
            "tensor(0.1850, grad_fn=<NllLossBackward0>)\n",
            "tensor(0.2055, grad_fn=<NllLossBackward0>)\n",
            "tensor(0.1753, grad_fn=<NllLossBackward0>)\n",
            "tensor(0.1989, grad_fn=<NllLossBackward0>)\n",
            "tensor(0.1819, grad_fn=<NllLossBackward0>)\n",
            "tensor(0.2232, grad_fn=<NllLossBackward0>)\n",
            "tensor(0.1823, grad_fn=<NllLossBackward0>)\n",
            "tensor(0.1869, grad_fn=<NllLossBackward0>)\n",
            "tensor(0.1868, grad_fn=<NllLossBackward0>)\n",
            "accののloss\n",
            "tensor(0.2842)\n",
            "EarlyStopping counter: 3 out of 3\n",
            "Early Stopping\n"
          ]
        }
      ]
    },
    {
      "cell_type": "code",
      "source": [
        "zyosi_test = zyosi_acc.append(predict_zyosi(model,tokenizer,all_add_ZYOSI,test_labels))\n",
        "result_list[3].append(zyosi_test)"
      ],
      "metadata": {
        "colab": {
          "base_uri": "https://localhost:8080/"
        },
        "id": "m_rQ8B4gthxk",
        "outputId": "51545638-4dfc-4a66-9788-01d082dbc395"
      },
      "execution_count": null,
      "outputs": [
        {
          "output_type": "stream",
          "name": "stdout",
          "text": [
            "['必要', 'お化け屋敷とかけまして、お坊さんとときます。その心は、どちらも、「どきょう」(度胸、読経)が必要です。', -3.6398809469571636]\n",
            "['狙い', 'お化け屋敷とかけまして、お坊さんとときます。その心は、どちらも、「どきょう」(度胸、読経)を狙いです。', -3.639460036625306]\n",
            "['必要', 'お化け屋敷とかけまして、お坊さんとときます。その心は、どちらも、「どきょう」(度胸、読経)に必要です。', -3.639701081231132]\n",
            "['[PAD]', 'お化け屋敷とかけまして、お坊さんとときます。その心は、どちらも、「どきょう」(度胸、読経)の[PAD]です。', -3.6400661032595747]\n",
            "['、', 'お化け屋敷とかけまして、お坊さんとときます。その心は、どちらも、「どきょう」(度胸、読経)へ、です。', -3.639731902818168]\n",
            "['、', 'お化け屋敷とかけまして、お坊さんとときます。その心は、どちらも、「どきょう」(度胸、読経)と、です。', -3.6394721591363584]\n",
            "['、', 'お化け屋敷とかけまして、お坊さんとときます。その心は、どちらも、「どきょう」(度胸、読経)から、です。', -3.6394382403617875]\n",
            "['、', 'お化け屋敷とかけまして、お坊さんとときます。その心は、どちらも、「どきょう」(度胸、読経)より、です。', -3.6394933589547094]\n",
            "['、', 'お化け屋敷とかけまして、お坊さんとときます。その心は、どちらも、「どきょう」(度胸、読経)で、です。', -3.6395380890600397]\n",
            "['、', 'お化け屋敷とかけまして、お坊さんとときます。その心は、どちらも、「どきょう」(度胸、読経)や、です。', -3.6394962254435144]\n",
            "[-3.6394382403617875, 6]\n",
            "[['、', 'お化け屋敷とかけまして、お坊さんとときます。その心は、どちらも、「どきょう」(度胸、読経)から、です。', -3.6394382403617875], 'から']\n",
            "['あり', '忍者とかけまして、栗とときます。その心は、どちらも、「いが」(伊賀、イガ)があります。', -3.468929188759027]\n",
            "['振り', '忍者とかけまして、栗とときます。その心は、どちらも、「いが」(伊賀、イガ)を振ります。', -3.4689154957328157]\n",
            "['行き', '忍者とかけまして、栗とときます。その心は、どちらも、「いが」(伊賀、イガ)に行きます。', -3.4664594668734354]\n",
            "['。', '忍者とかけまして、栗とときます。その心は、どちらも、「いが」(伊賀、イガ)の。ます。', -3.4703660847465807]\n",
            "['。', '忍者とかけまして、栗とときます。その心は、どちらも、「いが」(伊賀、イガ)へ。ます。', -3.472364101660995]\n",
            "['振り', '忍者とかけまして、栗とときます。その心は、どちらも、「いが」(伊賀、イガ)と振ります。', -3.470650381520188]\n",
            "['振り', '忍者とかけまして、栗とときます。その心は、どちらも、「いが」(伊賀、イガ)から振ります。', -3.466972629144652]\n",
            "['。', '忍者とかけまして、栗とときます。その心は、どちらも、「いが」(伊賀、イガ)より。ます。', -3.468496185278937]\n",
            "['あり', '忍者とかけまして、栗とときます。その心は、どちらも、「いが」(伊賀、イガ)であります。', -3.4669817003033567]\n",
            "['。', '忍者とかけまして、栗とときます。その心は、どちらも、「いが」(伊賀、イガ)や。ます。', -3.4748337911131983]\n",
            "[-3.4664594668734354, 2]\n",
            "[['行き', '忍者とかけまして、栗とときます。その心は、どちらも、「いが」(伊賀、イガ)に行きます。', -3.4664594668734354], 'に']\n",
            "['必要', '天秤とかけまして、赤ちゃんとときます。その心は、どちらも、「おもり」(重り、お守り)が必要です。', -3.5288006139297465]\n",
            "['心', '天秤とかけまして、赤ちゃんとときます。その心は、どちらも、「おもり」(重り、お守り)を心です。', -3.528646231167733]\n",
            "['好評', '天秤とかけまして、赤ちゃんとときます。その心は、どちらも、「おもり」(重り、お守り)に好評です。', -3.5285397783019685]\n",
            "['[PAD]', '天秤とかけまして、赤ちゃんとときます。その心は、どちらも、「おもり」(重り、お守り)の[PAD]です。', -3.528773129186466]\n",
            "['。', '天秤とかけまして、赤ちゃんとときます。その心は、どちらも、「おもり」(重り、お守り)へ。です。', -3.5700041418413]\n",
            "['。', '天秤とかけまして、赤ちゃんとときます。その心は、どちらも、「おもり」(重り、お守り)と。です。', -3.594066568250356]\n",
            "['、', '天秤とかけまして、赤ちゃんとときます。その心は、どちらも、「おもり」(重り、お守り)から、です。', -3.528355155449764]\n",
            "['、', '天秤とかけまして、赤ちゃんとときます。その心は、どちらも、「おもり」(重り、お守り)より、です。', -3.528214993860003]\n",
            "['、', '天秤とかけまして、赤ちゃんとときます。その心は、どちらも、「おもり」(重り、お守り)で、です。', -3.5285499332491392]\n",
            "['、', '天秤とかけまして、赤ちゃんとときます。その心は、どちらも、「おもり」(重り、お守り)や、です。', -3.528282832721712]\n",
            "[-3.528214993860003, 7]\n",
            "[['、', '天秤とかけまして、赤ちゃんとときます。その心は、どちらも、「おもり」(重り、お守り)より、です。', -3.528214993860003], 'より']\n",
            "['良い', '自転車とかけまして、新聞とときます。その心は、どちらも、「ほうち」(放置、報知)が良いでしょう。', -3.4472892177952064]\n",
            "['[CLS]', '自転車とかけまして、新聞とときます。その心は、どちらも、「ほうち」(放置、報知)を[CLS]でしょう。', -3.469409797915005]\n",
            "['[CLS]', '自転車とかけまして、新聞とときます。その心は、どちらも、「ほうち」(放置、報知)に[CLS]でしょう。', -3.4732634897849475]\n",
            "['[PAD]', '自転車とかけまして、新聞とときます。その心は、どちらも、「ほうち」(放置、報知)の[PAD]でしょう。', -3.4827534585371756]\n",
            "['。', '自転車とかけまして、新聞とときます。その心は、どちらも、「ほうち」(放置、報知)へ。でしょう。', -3.5056747209990795]\n",
            "['[CLS]', '自転車とかけまして、新聞とときます。その心は、どちらも、「ほうち」(放置、報知)と[CLS]でしょう。', -3.481524700673754]\n",
            "['[CLS]', '自転車とかけまして、新聞とときます。その心は、どちらも、「ほうち」(放置、報知)から[CLS]でしょう。', -3.4755736947261]\n",
            "['、', '自転車とかけまして、新聞とときます。その心は、どちらも、「ほうち」(放置、報知)より、でしょう。', -3.7832098752778744]\n",
            "['、', '自転車とかけまして、新聞とときます。その心は、どちらも、「ほうち」(放置、報知)で、でしょう。', -3.635190582807739]\n",
            "['。', '自転車とかけまして、新聞とときます。その心は、どちらも、「ほうち」(放置、報知)や。でしょう。', -3.5672893328392283]\n",
            "[-3.4472892177952064, 0]\n",
            "[['良い', '自転車とかけまして、新聞とときます。その心は、どちらも、「ほうち」(放置、報知)が良いでしょう。', -3.4472892177952064], 'が']\n",
            "['、', '花火とかけまして、仕事終わりとときます。その心は、どちらも、「うちあげ」(打ち上げ)が、ます。', -3.4516628729205237]\n",
            "['[CLS]', '花火とかけまして、仕事終わりとときます。その心は、どちらも、「うちあげ」(打ち上げ)を[CLS]ます。', -3.3783554890667626]\n",
            "['行き', '花火とかけまして、仕事終わりとときます。その心は、どちらも、「うちあげ」(打ち上げ)に行きます。', -3.383660480708375]\n",
            "['。', '花火とかけまして、仕事終わりとときます。その心は、どちらも、「うちあげ」(打ち上げ)の。ます。', -3.3699869018982436]\n",
            "['。', '花火とかけまして、仕事終わりとときます。その心は、どちらも、「うちあげ」(打ち上げ)へ。ます。', -3.3721805396991598]\n",
            "['。', '花火とかけまして、仕事終わりとときます。その心は、どちらも、「うちあげ」(打ち上げ)と。ます。', -3.3702286218263593]\n",
            "['。', '花火とかけまして、仕事終わりとときます。その心は、どちらも、「うちあげ」(打ち上げ)から。ます。', -3.3698786131084297]\n",
            "['。', '花火とかけまして、仕事終わりとときます。その心は、どちらも、「うちあげ」(打ち上げ)より。ます。', -3.369293088664248]\n",
            "['、', '花火とかけまして、仕事終わりとときます。その心は、どちらも、「うちあげ」(打ち上げ)で、ます。', -3.455607845509827]\n",
            "['。', '花火とかけまして、仕事終わりとときます。その心は、どちらも、「うちあげ」(打ち上げ)や。ます。', -3.3714291807558756]\n",
            "[-3.369293088664248, 7]\n",
            "[['。', '花火とかけまして、仕事終わりとときます。その心は、どちらも、「うちあげ」(打ち上げ)より。ます。', -3.369293088664248], 'より']\n",
            "['、', '柔道とかけまして、禁煙とときます。その心は、どちらも、「いっぽん」(一本)が、です。', -3.4759420240141994]\n",
            "['、', '柔道とかけまして、禁煙とときます。その心は、どちらも、「いっぽん」(一本)を、です。', -3.645163473114489]\n",
            "['。', '柔道とかけまして、禁煙とときます。その心は、どちらも、「いっぽん」(一本)に。です。', -3.4301424581397715]\n",
            "['。', '柔道とかけまして、禁煙とときます。その心は、どちらも、「いっぽん」(一本)の。です。', -3.40842198855873]\n",
            "['。', '柔道とかけまして、禁煙とときます。その心は、どちらも、「いっぽん」(一本)へ。です。', -3.411774956611326]\n",
            "['。', '柔道とかけまして、禁煙とときます。その心は、どちらも、「いっぽん」(一本)と。です。', -3.4042454354241247]\n",
            "['、', '柔道とかけまして、禁煙とときます。その心は、どちらも、「いっぽん」(一本)から、です。', -3.7035419589048755]\n",
            "['、', '柔道とかけまして、禁煙とときます。その心は、どちらも、「いっぽん」(一本)より、です。', -3.607691672635898]\n",
            "['、', '柔道とかけまして、禁煙とときます。その心は、どちらも、「いっぽん」(一本)で、です。', -3.667776128927613]\n",
            "['、', '柔道とかけまして、禁煙とときます。その心は、どちらも、「いっぽん」(一本)や、です。', -3.8934990128572213]\n",
            "[-3.4042454354241247, 5]\n",
            "[['。', '柔道とかけまして、禁煙とときます。その心は、どちらも、「いっぽん」(一本)と。です。', -3.4042454354241247], 'と']\n",
            "['あり', 'クリーニング屋とかけまして、笑顔とときます。その心は、どちらも、「ふく」(服、福)があります。', -3.4698320266156606]\n",
            "['持ち', 'クリーニング屋とかけまして、笑顔とときます。その心は、どちらも、「ふく」(服、福)を持ちます。', -3.4666406336157856]\n",
            "['行き', 'クリーニング屋とかけまして、笑顔とときます。その心は、どちらも、「ふく」(服、福)に行きます。', -3.467117658185032]\n",
            "['。', 'クリーニング屋とかけまして、笑顔とときます。その心は、どちらも、「ふく」(服、福)の。ます。', -3.469248546563105]\n",
            "['。', 'クリーニング屋とかけまして、笑顔とときます。その心は、どちらも、「ふく」(服、福)へ。ます。', -3.4691232432818997]\n",
            "['振り', 'クリーニング屋とかけまして、笑顔とときます。その心は、どちらも、「ふく」(服、福)と振ります。', -3.4703005767883286]\n",
            "['振り', 'クリーニング屋とかけまして、笑顔とときます。その心は、どちらも、「ふく」(服、福)から振ります。', -3.4668186707119313]\n",
            "['。', 'クリーニング屋とかけまして、笑顔とときます。その心は、どちらも、「ふく」(服、福)より。ます。', -3.467233457787384]\n",
            "['行き', 'クリーニング屋とかけまして、笑顔とときます。その心は、どちらも、「ふく」(服、福)で行きます。', -3.4671539485764504]\n",
            "['。', 'クリーニング屋とかけまして、笑顔とときます。その心は、どちらも、「ふく」(服、福)や。ます。', -3.4698296326467863]\n",
            "[-3.4666406336157856, 1]\n",
            "[['持ち', 'クリーニング屋とかけまして、笑顔とときます。その心は、どちらも、「ふく」(服、福)を持ちます。', -3.4666406336157856], 'を']\n",
            "['あり', '株式とかけまして、お皿とときます。その心は、どちらも、「とうき」(投機、陶器)があります。', -3.471184397553539]\n",
            "['持ち', '株式とかけまして、お皿とときます。その心は、どちらも、「とうき」(投機、陶器)を持ちます。', -3.4670718195729884]\n",
            "['行き', '株式とかけまして、お皿とときます。その心は、どちらも、「とうき」(投機、陶器)に行きます。', -3.4680101988778875]\n",
            "['[CLS]', '株式とかけまして、お皿とときます。その心は、どちらも、「とうき」(投機、陶器)の[CLS]ます。', -3.5046112404594734]\n",
            "['。', '株式とかけまして、お皿とときます。その心は、どちらも、「とうき」(投機、陶器)へ。ます。', -3.4782368730385285]\n",
            "['振り', '株式とかけまして、お皿とときます。その心は、どちらも、「とうき」(投機、陶器)と振ります。', -3.475284832834984]\n",
            "['振り', '株式とかけまして、お皿とときます。その心は、どちらも、「とうき」(投機、陶器)から振ります。', -3.466941477502454]\n",
            "['振り', '株式とかけまして、お皿とときます。その心は、どちらも、「とうき」(投機、陶器)より振ります。', -3.4696839105839836]\n",
            "['使い', '株式とかけまして、お皿とときます。その心は、どちらも、「とうき」(投機、陶器)で使います。', -3.469225877168972]\n",
            "['。', '株式とかけまして、お皿とときます。その心は、どちらも、「とうき」(投機、陶器)や。ます。', -3.473916091955616]\n",
            "[-3.466941477502454, 6]\n",
            "[['振り', '株式とかけまして、お皿とときます。その心は、どちらも、「とうき」(投機、陶器)から振ります。', -3.466941477502454], 'から']\n",
            "['必要', 'チャンピョンとかけまして、大掃除とときます。その心は、どちらも、「ほこり」(誇り、[UNK])が必要ます。', -3.5572577688949925]\n",
            "['取り付け', 'チャンピョンとかけまして、大掃除とときます。その心は、どちらも、「ほこり」(誇り、[UNK])を取り付けます。', -3.557441539853469]\n",
            "['行き', 'チャンピョンとかけまして、大掃除とときます。その心は、どちらも、「ほこり」(誇り、[UNK])に行きます。', -3.5572812982927067]\n",
            "['[PAD]', 'チャンピョンとかけまして、大掃除とときます。その心は、どちらも、「ほこり」(誇り、[UNK])の[PAD]ます。', -3.557382110710684]\n",
            "['。', 'チャンピョンとかけまして、大掃除とときます。その心は、どちらも、「ほこり」(誇り、[UNK])へ。ます。', -3.578467232379506]\n",
            "['。', 'チャンピョンとかけまして、大掃除とときます。その心は、どちらも、「ほこり」(誇り、[UNK])と。ます。', -3.5976076452250543]\n",
            "['、', 'チャンピョンとかけまして、大掃除とときます。その心は、どちらも、「ほこり」(誇り、[UNK])から、ます。', -3.55676383907809]\n",
            "['。', 'チャンピョンとかけまして、大掃除とときます。その心は、どちらも、「ほこり」(誇り、[UNK])より。ます。', -3.600055769353793]\n",
            "['あり', 'チャンピョンとかけまして、大掃除とときます。その心は、どちらも、「ほこり」(誇り、[UNK])であります。', -3.557227790616701]\n",
            "['。', 'チャンピョンとかけまして、大掃除とときます。その心は、どちらも、「ほこり」(誇り、[UNK])や。ます。', -3.603488364766406]\n",
            "[-3.55676383907809, 6]\n",
            "[['、', 'チャンピョンとかけまして、大掃除とときます。その心は、どちらも、「ほこり」(誇り、[UNK])から、ます。', -3.55676383907809], 'から']\n",
            "['良い', '賭け事とかけまして、真夜中とときます。その心は、どちらも、「つき」(ツキ、月)が良いでしょう。', -3.5573171309263616]\n",
            "['取り付ける', '賭け事とかけまして、真夜中とときます。その心は、どちらも、「つき」(ツキ、月)を取り付けるでしょう。', -3.557264755993375]\n",
            "['行く', '賭け事とかけまして、真夜中とときます。その心は、どちらも、「つき」(ツキ、月)に行くでしょう。', -3.5572804622132503]\n",
            "['[PAD]', '賭け事とかけまして、真夜中とときます。その心は、どちらも、「つき」(ツキ、月)の[PAD]でしょう。', -3.557625225108853]\n",
            "['[CLS]', '賭け事とかけまして、真夜中とときます。その心は、どちらも、「つき」(ツキ、月)へ[CLS]でしょう。', -3.557710358986408]\n",
            "['[CLS]', '賭け事とかけまして、真夜中とときます。その心は、どちらも、「つき」(ツキ、月)と[CLS]でしょう。', -3.557619012113142]\n",
            "['、', '賭け事とかけまして、真夜中とときます。その心は、どちらも、「つき」(ツキ、月)から、でしょう。', -3.557085555337096]\n",
            "['、', '賭け事とかけまして、真夜中とときます。その心は、どちらも、「つき」(ツキ、月)より、でしょう。', -3.556909431370205]\n",
            "['ない', '賭け事とかけまして、真夜中とときます。その心は、どちらも、「つき」(ツキ、月)でないでしょう。', -3.5574821567767545]\n",
            "['、', '賭け事とかけまして、真夜中とときます。その心は、どちらも、「つき」(ツキ、月)や、でしょう。', -3.5566851719498844]\n",
            "[-3.5566851719498844, 9]\n",
            "[['、', '賭け事とかけまして、真夜中とときます。その心は、どちらも、「つき」(ツキ、月)や、でしょう。', -3.5566851719498844], 'や']\n",
            "['必要', '電気自動車とかけまして、野球とときます。その心は、どちらも、「ばってりー」(バッテリー)が必要です。', -3.5019749943702134]\n",
            "['心', '電気自動車とかけまして、野球とときます。その心は、どちらも、「ばってりー」(バッテリー)を心です。', -3.5109939291817174]\n",
            "['好評', '電気自動車とかけまして、野球とときます。その心は、どちらも、「ばってりー」(バッテリー)に好評です。', -3.501656269936365]\n",
            "['心', '電気自動車とかけまして、野球とときます。その心は、どちらも、「ばってりー」(バッテリー)の心です。', -3.534057550961811]\n",
            "['、', '電気自動車とかけまして、野球とときます。その心は、どちらも、「ばってりー」(バッテリー)へ、です。', -3.4974493409565364]\n",
            "['好評', '電気自動車とかけまして、野球とときます。その心は、どちらも、「ばってりー」(バッテリー)と好評です。', -3.4998094415570558]\n",
            "['、', '電気自動車とかけまして、野球とときます。その心は、どちらも、「ばってりー」(バッテリー)から、です。', -3.4983952329584755]\n",
            "['、', '電気自動車とかけまして、野球とときます。その心は、どちらも、「ばってりー」(バッテリー)より、です。', -3.4975592421994617]\n",
            "['、', '電気自動車とかけまして、野球とときます。その心は、どちらも、「ばってりー」(バッテリー)で、です。', -3.4985497931841785]\n",
            "['、', '電気自動車とかけまして、野球とときます。その心は、どちらも、「ばってりー」(バッテリー)や、です。', -3.4971253756035003]\n",
            "[-3.4971253756035003, 9]\n",
            "[['、', '電気自動車とかけまして、野球とときます。その心は、どちらも、「ばってりー」(バッテリー)や、です。', -3.4971253756035003], 'や']\n",
            "['必要', 'そうめんとかけまして、月とときます。その心は、どちらも、「つゆ」(汁、梅雨)が必要ます。', -3.4982461300640955]\n",
            "['心', 'そうめんとかけまして、月とときます。その心は、どちらも、「つゆ」(汁、梅雨)を心ます。', -3.515482053425071]\n",
            "['行き', 'そうめんとかけまして、月とときます。その心は、どちらも、「つゆ」(汁、梅雨)に行きます。', -3.498304108564]\n",
            "['。', 'そうめんとかけまして、月とときます。その心は、どちらも、「つゆ」(汁、梅雨)の。ます。', -3.5041892731252275]\n",
            "['。', 'そうめんとかけまして、月とときます。その心は、どちらも、「つゆ」(汁、梅雨)へ。ます。', -3.503026924385045]\n",
            "['。', 'そうめんとかけまして、月とときます。その心は、どちらも、「つゆ」(汁、梅雨)と。ます。', -3.5052777494237204]\n",
            "['。', 'そうめんとかけまして、月とときます。その心は、どちらも、「つゆ」(汁、梅雨)から。ます。', -3.5030610018408255]\n",
            "['。', 'そうめんとかけまして、月とときます。その心は、どちらも、「つゆ」(汁、梅雨)より。ます。', -3.501424735613692]\n",
            "['[CLS]', 'そうめんとかけまして、月とときます。その心は、どちらも、「つゆ」(汁、梅雨)で[CLS]ます。', -3.5002551239023876]\n",
            "['。', 'そうめんとかけまして、月とときます。その心は、どちらも、「つゆ」(汁、梅雨)や。ます。', -3.510295331276001]\n",
            "[-3.4982461300640955, 0]\n",
            "[['必要', 'そうめんとかけまして、月とときます。その心は、どちらも、「つゆ」(汁、梅雨)が必要ます。', -3.4982461300640955], 'が']\n",
            "['行き', '秋とかけまして、怒りとときます。その心は、どちらも、「こうよう」(紅葉、高揚)が行きます。', -3.447658528318776]\n",
            "['振り', '秋とかけまして、怒りとときます。その心は、どちらも、「こうよう」(紅葉、高揚)を振ります。', -3.4686214505014465]\n",
            "['行き', '秋とかけまして、怒りとときます。その心は、どちらも、「こうよう」(紅葉、高揚)に行きます。', -3.4446673708001354]\n",
            "['。', '秋とかけまして、怒りとときます。その心は、どちらも、「こうよう」(紅葉、高揚)の。ます。', -3.439956988859872]\n",
            "['。', '秋とかけまして、怒りとときます。その心は、どちらも、「こうよう」(紅葉、高揚)へ。ます。', -3.445097308744147]\n",
            "['。', '秋とかけまして、怒りとときます。その心は、どちらも、「こうよう」(紅葉、高揚)と。ます。', -3.438736677026785]\n",
            "['振り', '秋とかけまして、怒りとときます。その心は、どちらも、「こうよう」(紅葉、高揚)から振ります。', -3.452123807850773]\n",
            "['。', '秋とかけまして、怒りとときます。その心は、どちらも、「こうよう」(紅葉、高揚)より。ます。', -3.437580002733776]\n",
            "['振り', '秋とかけまして、怒りとときます。その心は、どちらも、「こうよう」(紅葉、高揚)で振ります。', -3.4731980280846684]\n",
            "['。', '秋とかけまして、怒りとときます。その心は、どちらも、「こうよう」(紅葉、高揚)や。ます。', -3.4390166346336644]\n",
            "[-3.437580002733776, 7]\n",
            "[['。', '秋とかけまして、怒りとときます。その心は、どちらも、「こうよう」(紅葉、高揚)より。ます。', -3.437580002733776], 'より']\n",
            "['必要', 'オーディションとかけまして、お彼岸とときます。その心は、どちらも、「せんこう」(選考、線香)が必要ます。', -3.53067159034339]\n",
            "['取り付け', 'オーディションとかけまして、お彼岸とときます。その心は、どちらも、「せんこう」(選考、線香)を取り付けます。', -3.5292162633793205]\n",
            "['行き', 'オーディションとかけまして、お彼岸とときます。その心は、どちらも、「せんこう」(選考、線香)に行きます。', -3.5289219143202732]\n",
            "['[PAD]', 'オーディションとかけまして、お彼岸とときます。その心は、どちらも、「せんこう」(選考、線香)の[PAD]ます。', -3.661149855220813]\n",
            "['。', 'オーディションとかけまして、お彼岸とときます。その心は、どちらも、「せんこう」(選考、線香)へ。ます。', -3.530157147573018]\n",
            "['振り', 'オーディションとかけまして、お彼岸とときます。その心は、どちらも、「せんこう」(選考、線香)と振ります。', -3.530587188261159]\n",
            "['振り', 'オーディションとかけまして、お彼岸とときます。その心は、どちらも、「せんこう」(選考、線香)から振ります。', -3.5275165690123877]\n",
            "['。', 'オーディションとかけまして、お彼岸とときます。その心は、どちらも、「せんこう」(選考、線香)より。ます。', -3.530522843941574]\n",
            "['あり', 'オーディションとかけまして、お彼岸とときます。その心は、どちらも、「せんこう」(選考、線香)であります。', -3.528092226775758]\n",
            "['、', 'オーディションとかけまして、お彼岸とときます。その心は、どちらも、「せんこう」(選考、線香)や、ます。', -3.537969311193458]\n",
            "[-3.5275165690123877, 6]\n",
            "[['振り', 'オーディションとかけまして、お彼岸とときます。その心は、どちらも、「せんこう」(選考、線香)から振ります。', -3.5275165690123877], 'から']\n",
            "['必要', '祭りとかけまして、みそ汁とときます。その心は、どちらも、「だし」(山車、ダシ)が必要です。', -3.4982848218309757]\n",
            "['心', '祭りとかけまして、みそ汁とときます。その心は、どちらも、「だし」(山車、ダシ)を心です。', -3.503896562699686]\n",
            "['[CLS]', '祭りとかけまして、みそ汁とときます。その心は、どちらも、「だし」(山車、ダシ)に[CLS]です。', -3.509520407966889]\n",
            "['[PAD]', '祭りとかけまして、みそ汁とときます。その心は、どちらも、「だし」(山車、ダシ)の[PAD]です。', -3.5790435774373037]\n",
            "['。', '祭りとかけまして、みそ汁とときます。その心は、どちらも、「だし」(山車、ダシ)へ。です。', -3.5045905829867596]\n",
            "['[CLS]', '祭りとかけまして、みそ汁とときます。その心は、どちらも、「だし」(山車、ダシ)と[CLS]です。', -3.505134711127122]\n",
            "['、', '祭りとかけまして、みそ汁とときます。その心は、どちらも、「だし」(山車、ダシ)から、です。', -3.4977167764451367]\n",
            "['、', '祭りとかけまして、みそ汁とときます。その心は、どちらも、「だし」(山車、ダシ)より、です。', -3.4976428396689236]\n",
            "['、', '祭りとかけまして、みそ汁とときます。その心は、どちらも、「だし」(山車、ダシ)で、です。', -3.4977393345160577]\n",
            "['、', '祭りとかけまして、みそ汁とときます。その心は、どちらも、「だし」(山車、ダシ)や、です。', -3.49735144236669]\n",
            "[-3.49735144236669, 9]\n",
            "[['、', '祭りとかけまして、みそ汁とときます。その心は、どちらも、「だし」(山車、ダシ)や、です。', -3.49735144236669], 'や']\n",
            "['あり', '食堂とかけまして、不祥事事件とときます。その心は、どちらも、「ていしょく」(定食、停職)があります。', -3.557114753120825]\n",
            "['かけ', '食堂とかけまして、不祥事事件とときます。その心は、どちらも、「ていしょく」(定食、停職)をかけます。', -3.5571555359103506]\n",
            "['行き', '食堂とかけまして、不祥事事件とときます。その心は、どちらも、「ていしょく」(定食、停職)に行きます。', -3.556887522524078]\n",
            "['ため', '食堂とかけまして、不祥事事件とときます。その心は、どちらも、「ていしょく」(定食、停職)のためます。', -3.557080957808757]\n",
            "['行き', '食堂とかけまして、不祥事事件とときます。その心は、どちらも、「ていしょく」(定食、停職)へ行きます。', -3.556934325655311]\n",
            "['振り', '食堂とかけまして、不祥事事件とときます。その心は、どちらも、「ていしょく」(定食、停職)と振ります。', -3.556951578892749]\n",
            "['振り', '食堂とかけまして、不祥事事件とときます。その心は、どちらも、「ていしょく」(定食、停職)から振ります。', -3.5570245353188095]\n",
            "['。', '食堂とかけまして、不祥事事件とときます。その心は、どちらも、「ていしょく」(定食、停職)より。ます。', -3.5852714328465836]\n",
            "['あり', '食堂とかけまして、不祥事事件とときます。その心は、どちらも、「ていしょく」(定食、停職)であります。', -3.557041431878697]\n",
            "['、', '食堂とかけまして、不祥事事件とときます。その心は、どちらも、「ていしょく」(定食、停職)や、ます。', -3.556838393532438]\n",
            "[-3.556838393532438, 9]\n",
            "[['、', '食堂とかけまして、不祥事事件とときます。その心は、どちらも、「ていしょく」(定食、停職)や、ます。', -3.556838393532438], 'や']\n",
            "['心', '東京タワーとかけまして、発泡酒とときます。その心は、どちらも、「びる」(ビル、ビール)が心ありません。', -3.586349990406309]\n",
            "['振り', '東京タワーとかけまして、発泡酒とときます。その心は、どちらも、「びる」(ビル、ビール)を振りありません。', -3.585827526087512]\n",
            "['も', '東京タワーとかけまして、発泡酒とときます。その心は、どちらも、「びる」(ビル、ビール)にもありません。', -3.5866022669342845]\n",
            "['心', '東京タワーとかけまして、発泡酒とときます。その心は、どちらも、「びる」(ビル、ビール)の心ありません。', -3.593273693409475]\n",
            "['も', '東京タワーとかけまして、発泡酒とときます。その心は、どちらも、「びる」(ビル、ビール)へもありません。', -3.5846289755726164]\n",
            "['振り', '東京タワーとかけまして、発泡酒とときます。その心は、どちらも、「びる」(ビル、ビール)と振りありません。', -3.585914574562066]\n",
            "['[CLS]', '東京タワーとかけまして、発泡酒とときます。その心は、どちらも、「びる」(ビル、ビール)から[CLS]ありません。', -3.589211619008837]\n",
            "['も', '東京タワーとかけまして、発泡酒とときます。その心は、どちらも、「びる」(ビル、ビール)よりもありません。', -3.5856424015070716]\n",
            "['も', '東京タワーとかけまして、発泡酒とときます。その心は、どちらも、「びる」(ビル、ビール)でもありません。', -3.585187889527371]\n",
            "['、', '東京タワーとかけまして、発泡酒とときます。その心は、どちらも、「びる」(ビル、ビール)や、ありません。', -3.587963805059638]\n",
            "[-3.5846289755726164, 4]\n",
            "[['も', '東京タワーとかけまして、発泡酒とときます。その心は、どちらも、「びる」(ビル、ビール)へもありません。', -3.5846289755726164], 'へ']\n",
            "['あり', '洋食とかけまして、丸とときます。その心は、どちらも、「はし」(箸、端)がありません。', -3.470379258711664]\n",
            "['持ち', '洋食とかけまして、丸とときます。その心は、どちらも、「はし」(箸、端)を持ちません。', -3.4686344414527843]\n",
            "['行き', '洋食とかけまして、丸とときます。その心は、どちらも、「はし」(箸、端)に行きません。', -3.467675111619464]\n",
            "['ため', '洋食とかけまして、丸とときます。その心は、どちらも、「はし」(箸、端)のためません。', -3.4780103281435006]\n",
            "['。', '洋食とかけまして、丸とときます。その心は、どちらも、「はし」(箸、端)へ。ません。', -3.484840643544618]\n",
            "['振り', '洋食とかけまして、丸とときます。その心は、どちらも、「はし」(箸、端)と振りません。', -3.4693692592731034]\n",
            "['振り', '洋食とかけまして、丸とときます。その心は、どちらも、「はし」(箸、端)から振りません。', -3.466908715615398]\n",
            "['。', '洋食とかけまして、丸とときます。その心は、どちらも、「はし」(箸、端)より。ません。', -3.4778976179445924]\n",
            "['あり', '洋食とかけまして、丸とときます。その心は、どちらも、「はし」(箸、端)でありません。', -3.469987886321412]\n",
            "['、', '洋食とかけまして、丸とときます。その心は、どちらも、「はし」(箸、端)や、ません。', -3.4724688689445125]\n",
            "[-3.466908715615398, 6]\n",
            "[['振り', '洋食とかけまして、丸とときます。その心は、どちらも、「はし」(箸、端)から振りません。', -3.466908715615398], 'から']\n",
            "['必要', '満腹とかけまして、海底とときます。その心は、どちらも、「くうき」(食う気、空気)が必要。', -3.504465667041239]\n",
            "['心', '満腹とかけまして、海底とときます。その心は、どちらも、「くうき」(食う気、空気)を心。', -5.542551874310178]\n",
            "['強い', '満腹とかけまして、海底とときます。その心は、どちらも、「くうき」(食う気、空気)に強い。', -3.526087865122688]\n",
            "['心', '満腹とかけまして、海底とときます。その心は、どちらも、「くうき」(食う気、空気)の心。', -5.1427277145726915]\n",
            "['[CLS]', '満腹とかけまして、海底とときます。その心は、どちらも、「くうき」(食う気、空気)へ[CLS]。', -3.513350002725352]\n",
            "['[CLS]', '満腹とかけまして、海底とときます。その心は、どちらも、「くうき」(食う気、空気)と[CLS]。', -3.5491901821004364]\n",
            "['[CLS]', '満腹とかけまして、海底とときます。その心は、どちらも、「くうき」(食う気、空気)から[CLS]。', -3.5093738031098876]\n",
            "['[CLS]', '満腹とかけまして、海底とときます。その心は、どちらも、「くうき」(食う気、空気)より[CLS]。', -3.5135814653470514]\n",
            "['[CLS]', '満腹とかけまして、海底とときます。その心は、どちらも、「くうき」(食う気、空気)で[CLS]。', -3.5229016808684643]\n",
            "['[CLS]', '満腹とかけまして、海底とときます。その心は、どちらも、「くうき」(食う気、空気)や[CLS]。', -3.511400520638398]\n",
            "[-3.504465667041239, 0]\n",
            "[['必要', '満腹とかけまして、海底とときます。その心は、どちらも、「くうき」(食う気、空気)が必要。', -3.504465667041239], 'が']\n",
            "['必要', '音楽とかけまして、マラソンとときます。その心は、どちらも、「かんそう」(間奏、完走)が必要です。', -3.4763057070172856]\n",
            "['[CLS]', '音楽とかけまして、マラソンとときます。その心は、どちらも、「かんそう」(間奏、完走)を[CLS]です。', -3.4843475615334145]\n",
            "['[CLS]', '音楽とかけまして、マラソンとときます。その心は、どちらも、「かんそう」(間奏、完走)に[CLS]です。', -3.4977022471237476]\n",
            "['[PAD]', '音楽とかけまして、マラソンとときます。その心は、どちらも、「かんそう」(間奏、完走)の[PAD]です。', -3.498090583221113]\n",
            "['。', '音楽とかけまして、マラソンとときます。その心は、どちらも、「かんそう」(間奏、完走)へ。です。', -3.4970164258723972]\n",
            "['[CLS]', '音楽とかけまして、マラソンとときます。その心は、どちらも、「かんそう」(間奏、完走)と[CLS]です。', -3.5004606744004114]\n",
            "['、', '音楽とかけまして、マラソンとときます。その心は、どちらも、「かんそう」(間奏、完走)から、です。', -3.4664626878591833]\n",
            "['、', '音楽とかけまして、マラソンとときます。その心は、どちらも、「かんそう」(間奏、完走)より、です。', -3.4782972896554822]\n",
            "['、', '音楽とかけまして、マラソンとときます。その心は、どちらも、「かんそう」(間奏、完走)で、です。', -3.4686957752146363]\n",
            "['、', '音楽とかけまして、マラソンとときます。その心は、どちらも、「かんそう」(間奏、完走)や、です。', -3.4798248513700623]\n",
            "[-3.4664626878591833, 6]\n",
            "[['、', '音楽とかけまして、マラソンとときます。その心は、どちらも、「かんそう」(間奏、完走)から、です。', -3.4664626878591833], 'から']\n",
            "0/20\n"
          ]
        }
      ]
    },
    {
      "cell_type": "markdown",
      "source": [
        "# 結果"
      ],
      "metadata": {
        "id": "084P74f0CphX"
      }
    },
    {
      "cell_type": "markdown",
      "source": [
        "## 結果の確認"
      ],
      "metadata": {
        "id": "UF4UCe2JdWgG"
      }
    },
    {
      "cell_type": "code",
      "source": [
        "for i in zyosi_acc[1][\"予測\"]:\n",
        "  for k in i[2]:\n",
        "    print(k)"
      ],
      "metadata": {
        "colab": {
          "base_uri": "https://localhost:8080/"
        },
        "id": "7fa7vFmFzEbp",
        "outputId": "7ba180fa-e769-4879-cbd5-dfced568f73c"
      },
      "execution_count": null,
      "outputs": [
        {
          "output_type": "stream",
          "name": "stdout",
          "text": [
            "['必要', 'お化け屋敷とかけまして、お坊さんとときます。その心は、どちらも、「どきょう」(度胸、読経)が必要です。', -3.6398809469571636]\n",
            "['狙い', 'お化け屋敷とかけまして、お坊さんとときます。その心は、どちらも、「どきょう」(度胸、読経)を狙いです。', -3.639460036625306]\n",
            "['必要', 'お化け屋敷とかけまして、お坊さんとときます。その心は、どちらも、「どきょう」(度胸、読経)に必要です。', -3.639701081231132]\n",
            "['[PAD]', 'お化け屋敷とかけまして、お坊さんとときます。その心は、どちらも、「どきょう」(度胸、読経)の[PAD]です。', -3.6400661032595747]\n",
            "['、', 'お化け屋敷とかけまして、お坊さんとときます。その心は、どちらも、「どきょう」(度胸、読経)へ、です。', -3.639731902818168]\n",
            "['、', 'お化け屋敷とかけまして、お坊さんとときます。その心は、どちらも、「どきょう」(度胸、読経)と、です。', -3.6394721591363584]\n",
            "['、', 'お化け屋敷とかけまして、お坊さんとときます。その心は、どちらも、「どきょう」(度胸、読経)から、です。', -3.6394382403617875]\n",
            "['、', 'お化け屋敷とかけまして、お坊さんとときます。その心は、どちらも、「どきょう」(度胸、読経)より、です。', -3.6394933589547094]\n",
            "['、', 'お化け屋敷とかけまして、お坊さんとときます。その心は、どちらも、「どきょう」(度胸、読経)で、です。', -3.6395380890600397]\n",
            "['、', 'お化け屋敷とかけまして、お坊さんとときます。その心は、どちらも、「どきょう」(度胸、読経)や、です。', -3.6394962254435144]\n",
            "['あり', '忍者とかけまして、栗とときます。その心は、どちらも、「いが」(伊賀、イガ)があります。', -3.468929188759027]\n",
            "['振り', '忍者とかけまして、栗とときます。その心は、どちらも、「いが」(伊賀、イガ)を振ります。', -3.4689154957328157]\n",
            "['行き', '忍者とかけまして、栗とときます。その心は、どちらも、「いが」(伊賀、イガ)に行きます。', -3.4664594668734354]\n",
            "['。', '忍者とかけまして、栗とときます。その心は、どちらも、「いが」(伊賀、イガ)の。ます。', -3.4703660847465807]\n",
            "['。', '忍者とかけまして、栗とときます。その心は、どちらも、「いが」(伊賀、イガ)へ。ます。', -3.472364101660995]\n",
            "['振り', '忍者とかけまして、栗とときます。その心は、どちらも、「いが」(伊賀、イガ)と振ります。', -3.470650381520188]\n",
            "['振り', '忍者とかけまして、栗とときます。その心は、どちらも、「いが」(伊賀、イガ)から振ります。', -3.466972629144652]\n",
            "['。', '忍者とかけまして、栗とときます。その心は、どちらも、「いが」(伊賀、イガ)より。ます。', -3.468496185278937]\n",
            "['あり', '忍者とかけまして、栗とときます。その心は、どちらも、「いが」(伊賀、イガ)であります。', -3.4669817003033567]\n",
            "['。', '忍者とかけまして、栗とときます。その心は、どちらも、「いが」(伊賀、イガ)や。ます。', -3.4748337911131983]\n",
            "['必要', '天秤とかけまして、赤ちゃんとときます。その心は、どちらも、「おもり」(重り、お守り)が必要です。', -3.5288006139297465]\n",
            "['心', '天秤とかけまして、赤ちゃんとときます。その心は、どちらも、「おもり」(重り、お守り)を心です。', -3.528646231167733]\n",
            "['好評', '天秤とかけまして、赤ちゃんとときます。その心は、どちらも、「おもり」(重り、お守り)に好評です。', -3.5285397783019685]\n",
            "['[PAD]', '天秤とかけまして、赤ちゃんとときます。その心は、どちらも、「おもり」(重り、お守り)の[PAD]です。', -3.528773129186466]\n",
            "['。', '天秤とかけまして、赤ちゃんとときます。その心は、どちらも、「おもり」(重り、お守り)へ。です。', -3.5700041418413]\n",
            "['。', '天秤とかけまして、赤ちゃんとときます。その心は、どちらも、「おもり」(重り、お守り)と。です。', -3.594066568250356]\n",
            "['、', '天秤とかけまして、赤ちゃんとときます。その心は、どちらも、「おもり」(重り、お守り)から、です。', -3.528355155449764]\n",
            "['、', '天秤とかけまして、赤ちゃんとときます。その心は、どちらも、「おもり」(重り、お守り)より、です。', -3.528214993860003]\n",
            "['、', '天秤とかけまして、赤ちゃんとときます。その心は、どちらも、「おもり」(重り、お守り)で、です。', -3.5285499332491392]\n",
            "['、', '天秤とかけまして、赤ちゃんとときます。その心は、どちらも、「おもり」(重り、お守り)や、です。', -3.528282832721712]\n",
            "['良い', '自転車とかけまして、新聞とときます。その心は、どちらも、「ほうち」(放置、報知)が良いでしょう。', -3.4472892177952064]\n",
            "['[CLS]', '自転車とかけまして、新聞とときます。その心は、どちらも、「ほうち」(放置、報知)を[CLS]でしょう。', -3.469409797915005]\n",
            "['[CLS]', '自転車とかけまして、新聞とときます。その心は、どちらも、「ほうち」(放置、報知)に[CLS]でしょう。', -3.4732634897849475]\n",
            "['[PAD]', '自転車とかけまして、新聞とときます。その心は、どちらも、「ほうち」(放置、報知)の[PAD]でしょう。', -3.4827534585371756]\n",
            "['。', '自転車とかけまして、新聞とときます。その心は、どちらも、「ほうち」(放置、報知)へ。でしょう。', -3.5056747209990795]\n",
            "['[CLS]', '自転車とかけまして、新聞とときます。その心は、どちらも、「ほうち」(放置、報知)と[CLS]でしょう。', -3.481524700673754]\n",
            "['[CLS]', '自転車とかけまして、新聞とときます。その心は、どちらも、「ほうち」(放置、報知)から[CLS]でしょう。', -3.4755736947261]\n",
            "['、', '自転車とかけまして、新聞とときます。その心は、どちらも、「ほうち」(放置、報知)より、でしょう。', -3.7832098752778744]\n",
            "['、', '自転車とかけまして、新聞とときます。その心は、どちらも、「ほうち」(放置、報知)で、でしょう。', -3.635190582807739]\n",
            "['。', '自転車とかけまして、新聞とときます。その心は、どちらも、「ほうち」(放置、報知)や。でしょう。', -3.5672893328392283]\n",
            "['、', '花火とかけまして、仕事終わりとときます。その心は、どちらも、「うちあげ」(打ち上げ)が、ます。', -3.4516628729205237]\n",
            "['[CLS]', '花火とかけまして、仕事終わりとときます。その心は、どちらも、「うちあげ」(打ち上げ)を[CLS]ます。', -3.3783554890667626]\n",
            "['行き', '花火とかけまして、仕事終わりとときます。その心は、どちらも、「うちあげ」(打ち上げ)に行きます。', -3.383660480708375]\n",
            "['。', '花火とかけまして、仕事終わりとときます。その心は、どちらも、「うちあげ」(打ち上げ)の。ます。', -3.3699869018982436]\n",
            "['。', '花火とかけまして、仕事終わりとときます。その心は、どちらも、「うちあげ」(打ち上げ)へ。ます。', -3.3721805396991598]\n",
            "['。', '花火とかけまして、仕事終わりとときます。その心は、どちらも、「うちあげ」(打ち上げ)と。ます。', -3.3702286218263593]\n",
            "['。', '花火とかけまして、仕事終わりとときます。その心は、どちらも、「うちあげ」(打ち上げ)から。ます。', -3.3698786131084297]\n",
            "['。', '花火とかけまして、仕事終わりとときます。その心は、どちらも、「うちあげ」(打ち上げ)より。ます。', -3.369293088664248]\n",
            "['、', '花火とかけまして、仕事終わりとときます。その心は、どちらも、「うちあげ」(打ち上げ)で、ます。', -3.455607845509827]\n",
            "['。', '花火とかけまして、仕事終わりとときます。その心は、どちらも、「うちあげ」(打ち上げ)や。ます。', -3.3714291807558756]\n",
            "['、', '柔道とかけまして、禁煙とときます。その心は、どちらも、「いっぽん」(一本)が、です。', -3.4759420240141994]\n",
            "['、', '柔道とかけまして、禁煙とときます。その心は、どちらも、「いっぽん」(一本)を、です。', -3.645163473114489]\n",
            "['。', '柔道とかけまして、禁煙とときます。その心は、どちらも、「いっぽん」(一本)に。です。', -3.4301424581397715]\n",
            "['。', '柔道とかけまして、禁煙とときます。その心は、どちらも、「いっぽん」(一本)の。です。', -3.40842198855873]\n",
            "['。', '柔道とかけまして、禁煙とときます。その心は、どちらも、「いっぽん」(一本)へ。です。', -3.411774956611326]\n",
            "['。', '柔道とかけまして、禁煙とときます。その心は、どちらも、「いっぽん」(一本)と。です。', -3.4042454354241247]\n",
            "['、', '柔道とかけまして、禁煙とときます。その心は、どちらも、「いっぽん」(一本)から、です。', -3.7035419589048755]\n",
            "['、', '柔道とかけまして、禁煙とときます。その心は、どちらも、「いっぽん」(一本)より、です。', -3.607691672635898]\n",
            "['、', '柔道とかけまして、禁煙とときます。その心は、どちらも、「いっぽん」(一本)で、です。', -3.667776128927613]\n",
            "['、', '柔道とかけまして、禁煙とときます。その心は、どちらも、「いっぽん」(一本)や、です。', -3.8934990128572213]\n",
            "['あり', 'クリーニング屋とかけまして、笑顔とときます。その心は、どちらも、「ふく」(服、福)があります。', -3.4698320266156606]\n",
            "['持ち', 'クリーニング屋とかけまして、笑顔とときます。その心は、どちらも、「ふく」(服、福)を持ちます。', -3.4666406336157856]\n",
            "['行き', 'クリーニング屋とかけまして、笑顔とときます。その心は、どちらも、「ふく」(服、福)に行きます。', -3.467117658185032]\n",
            "['。', 'クリーニング屋とかけまして、笑顔とときます。その心は、どちらも、「ふく」(服、福)の。ます。', -3.469248546563105]\n",
            "['。', 'クリーニング屋とかけまして、笑顔とときます。その心は、どちらも、「ふく」(服、福)へ。ます。', -3.4691232432818997]\n",
            "['振り', 'クリーニング屋とかけまして、笑顔とときます。その心は、どちらも、「ふく」(服、福)と振ります。', -3.4703005767883286]\n",
            "['振り', 'クリーニング屋とかけまして、笑顔とときます。その心は、どちらも、「ふく」(服、福)から振ります。', -3.4668186707119313]\n",
            "['。', 'クリーニング屋とかけまして、笑顔とときます。その心は、どちらも、「ふく」(服、福)より。ます。', -3.467233457787384]\n",
            "['行き', 'クリーニング屋とかけまして、笑顔とときます。その心は、どちらも、「ふく」(服、福)で行きます。', -3.4671539485764504]\n",
            "['。', 'クリーニング屋とかけまして、笑顔とときます。その心は、どちらも、「ふく」(服、福)や。ます。', -3.4698296326467863]\n",
            "['あり', '株式とかけまして、お皿とときます。その心は、どちらも、「とうき」(投機、陶器)があります。', -3.471184397553539]\n",
            "['持ち', '株式とかけまして、お皿とときます。その心は、どちらも、「とうき」(投機、陶器)を持ちます。', -3.4670718195729884]\n",
            "['行き', '株式とかけまして、お皿とときます。その心は、どちらも、「とうき」(投機、陶器)に行きます。', -3.4680101988778875]\n",
            "['[CLS]', '株式とかけまして、お皿とときます。その心は、どちらも、「とうき」(投機、陶器)の[CLS]ます。', -3.5046112404594734]\n",
            "['。', '株式とかけまして、お皿とときます。その心は、どちらも、「とうき」(投機、陶器)へ。ます。', -3.4782368730385285]\n",
            "['振り', '株式とかけまして、お皿とときます。その心は、どちらも、「とうき」(投機、陶器)と振ります。', -3.475284832834984]\n",
            "['振り', '株式とかけまして、お皿とときます。その心は、どちらも、「とうき」(投機、陶器)から振ります。', -3.466941477502454]\n",
            "['振り', '株式とかけまして、お皿とときます。その心は、どちらも、「とうき」(投機、陶器)より振ります。', -3.4696839105839836]\n",
            "['使い', '株式とかけまして、お皿とときます。その心は、どちらも、「とうき」(投機、陶器)で使います。', -3.469225877168972]\n",
            "['。', '株式とかけまして、お皿とときます。その心は、どちらも、「とうき」(投機、陶器)や。ます。', -3.473916091955616]\n",
            "['必要', 'チャンピョンとかけまして、大掃除とときます。その心は、どちらも、「ほこり」(誇り、[UNK])が必要ます。', -3.5572577688949925]\n",
            "['取り付け', 'チャンピョンとかけまして、大掃除とときます。その心は、どちらも、「ほこり」(誇り、[UNK])を取り付けます。', -3.557441539853469]\n",
            "['行き', 'チャンピョンとかけまして、大掃除とときます。その心は、どちらも、「ほこり」(誇り、[UNK])に行きます。', -3.5572812982927067]\n",
            "['[PAD]', 'チャンピョンとかけまして、大掃除とときます。その心は、どちらも、「ほこり」(誇り、[UNK])の[PAD]ます。', -3.557382110710684]\n",
            "['。', 'チャンピョンとかけまして、大掃除とときます。その心は、どちらも、「ほこり」(誇り、[UNK])へ。ます。', -3.578467232379506]\n",
            "['。', 'チャンピョンとかけまして、大掃除とときます。その心は、どちらも、「ほこり」(誇り、[UNK])と。ます。', -3.5976076452250543]\n",
            "['、', 'チャンピョンとかけまして、大掃除とときます。その心は、どちらも、「ほこり」(誇り、[UNK])から、ます。', -3.55676383907809]\n",
            "['。', 'チャンピョンとかけまして、大掃除とときます。その心は、どちらも、「ほこり」(誇り、[UNK])より。ます。', -3.600055769353793]\n",
            "['あり', 'チャンピョンとかけまして、大掃除とときます。その心は、どちらも、「ほこり」(誇り、[UNK])であります。', -3.557227790616701]\n",
            "['。', 'チャンピョンとかけまして、大掃除とときます。その心は、どちらも、「ほこり」(誇り、[UNK])や。ます。', -3.603488364766406]\n",
            "['良い', '賭け事とかけまして、真夜中とときます。その心は、どちらも、「つき」(ツキ、月)が良いでしょう。', -3.5573171309263616]\n",
            "['取り付ける', '賭け事とかけまして、真夜中とときます。その心は、どちらも、「つき」(ツキ、月)を取り付けるでしょう。', -3.557264755993375]\n",
            "['行く', '賭け事とかけまして、真夜中とときます。その心は、どちらも、「つき」(ツキ、月)に行くでしょう。', -3.5572804622132503]\n",
            "['[PAD]', '賭け事とかけまして、真夜中とときます。その心は、どちらも、「つき」(ツキ、月)の[PAD]でしょう。', -3.557625225108853]\n",
            "['[CLS]', '賭け事とかけまして、真夜中とときます。その心は、どちらも、「つき」(ツキ、月)へ[CLS]でしょう。', -3.557710358986408]\n",
            "['[CLS]', '賭け事とかけまして、真夜中とときます。その心は、どちらも、「つき」(ツキ、月)と[CLS]でしょう。', -3.557619012113142]\n",
            "['、', '賭け事とかけまして、真夜中とときます。その心は、どちらも、「つき」(ツキ、月)から、でしょう。', -3.557085555337096]\n",
            "['、', '賭け事とかけまして、真夜中とときます。その心は、どちらも、「つき」(ツキ、月)より、でしょう。', -3.556909431370205]\n",
            "['ない', '賭け事とかけまして、真夜中とときます。その心は、どちらも、「つき」(ツキ、月)でないでしょう。', -3.5574821567767545]\n",
            "['、', '賭け事とかけまして、真夜中とときます。その心は、どちらも、「つき」(ツキ、月)や、でしょう。', -3.5566851719498844]\n",
            "['必要', '電気自動車とかけまして、野球とときます。その心は、どちらも、「ばってりー」(バッテリー)が必要です。', -3.5019749943702134]\n",
            "['心', '電気自動車とかけまして、野球とときます。その心は、どちらも、「ばってりー」(バッテリー)を心です。', -3.5109939291817174]\n",
            "['好評', '電気自動車とかけまして、野球とときます。その心は、どちらも、「ばってりー」(バッテリー)に好評です。', -3.501656269936365]\n",
            "['心', '電気自動車とかけまして、野球とときます。その心は、どちらも、「ばってりー」(バッテリー)の心です。', -3.534057550961811]\n",
            "['、', '電気自動車とかけまして、野球とときます。その心は、どちらも、「ばってりー」(バッテリー)へ、です。', -3.4974493409565364]\n",
            "['好評', '電気自動車とかけまして、野球とときます。その心は、どちらも、「ばってりー」(バッテリー)と好評です。', -3.4998094415570558]\n",
            "['、', '電気自動車とかけまして、野球とときます。その心は、どちらも、「ばってりー」(バッテリー)から、です。', -3.4983952329584755]\n",
            "['、', '電気自動車とかけまして、野球とときます。その心は、どちらも、「ばってりー」(バッテリー)より、です。', -3.4975592421994617]\n",
            "['、', '電気自動車とかけまして、野球とときます。その心は、どちらも、「ばってりー」(バッテリー)で、です。', -3.4985497931841785]\n",
            "['、', '電気自動車とかけまして、野球とときます。その心は、どちらも、「ばってりー」(バッテリー)や、です。', -3.4971253756035003]\n",
            "['必要', 'そうめんとかけまして、月とときます。その心は、どちらも、「つゆ」(汁、梅雨)が必要ます。', -3.4982461300640955]\n",
            "['心', 'そうめんとかけまして、月とときます。その心は、どちらも、「つゆ」(汁、梅雨)を心ます。', -3.515482053425071]\n",
            "['行き', 'そうめんとかけまして、月とときます。その心は、どちらも、「つゆ」(汁、梅雨)に行きます。', -3.498304108564]\n",
            "['。', 'そうめんとかけまして、月とときます。その心は、どちらも、「つゆ」(汁、梅雨)の。ます。', -3.5041892731252275]\n",
            "['。', 'そうめんとかけまして、月とときます。その心は、どちらも、「つゆ」(汁、梅雨)へ。ます。', -3.503026924385045]\n",
            "['。', 'そうめんとかけまして、月とときます。その心は、どちらも、「つゆ」(汁、梅雨)と。ます。', -3.5052777494237204]\n",
            "['。', 'そうめんとかけまして、月とときます。その心は、どちらも、「つゆ」(汁、梅雨)から。ます。', -3.5030610018408255]\n",
            "['。', 'そうめんとかけまして、月とときます。その心は、どちらも、「つゆ」(汁、梅雨)より。ます。', -3.501424735613692]\n",
            "['[CLS]', 'そうめんとかけまして、月とときます。その心は、どちらも、「つゆ」(汁、梅雨)で[CLS]ます。', -3.5002551239023876]\n",
            "['。', 'そうめんとかけまして、月とときます。その心は、どちらも、「つゆ」(汁、梅雨)や。ます。', -3.510295331276001]\n",
            "['行き', '秋とかけまして、怒りとときます。その心は、どちらも、「こうよう」(紅葉、高揚)が行きます。', -3.447658528318776]\n",
            "['振り', '秋とかけまして、怒りとときます。その心は、どちらも、「こうよう」(紅葉、高揚)を振ります。', -3.4686214505014465]\n",
            "['行き', '秋とかけまして、怒りとときます。その心は、どちらも、「こうよう」(紅葉、高揚)に行きます。', -3.4446673708001354]\n",
            "['。', '秋とかけまして、怒りとときます。その心は、どちらも、「こうよう」(紅葉、高揚)の。ます。', -3.439956988859872]\n",
            "['。', '秋とかけまして、怒りとときます。その心は、どちらも、「こうよう」(紅葉、高揚)へ。ます。', -3.445097308744147]\n",
            "['。', '秋とかけまして、怒りとときます。その心は、どちらも、「こうよう」(紅葉、高揚)と。ます。', -3.438736677026785]\n",
            "['振り', '秋とかけまして、怒りとときます。その心は、どちらも、「こうよう」(紅葉、高揚)から振ります。', -3.452123807850773]\n",
            "['。', '秋とかけまして、怒りとときます。その心は、どちらも、「こうよう」(紅葉、高揚)より。ます。', -3.437580002733776]\n",
            "['振り', '秋とかけまして、怒りとときます。その心は、どちらも、「こうよう」(紅葉、高揚)で振ります。', -3.4731980280846684]\n",
            "['。', '秋とかけまして、怒りとときます。その心は、どちらも、「こうよう」(紅葉、高揚)や。ます。', -3.4390166346336644]\n",
            "['必要', 'オーディションとかけまして、お彼岸とときます。その心は、どちらも、「せんこう」(選考、線香)が必要ます。', -3.53067159034339]\n",
            "['取り付け', 'オーディションとかけまして、お彼岸とときます。その心は、どちらも、「せんこう」(選考、線香)を取り付けます。', -3.5292162633793205]\n",
            "['行き', 'オーディションとかけまして、お彼岸とときます。その心は、どちらも、「せんこう」(選考、線香)に行きます。', -3.5289219143202732]\n",
            "['[PAD]', 'オーディションとかけまして、お彼岸とときます。その心は、どちらも、「せんこう」(選考、線香)の[PAD]ます。', -3.661149855220813]\n",
            "['。', 'オーディションとかけまして、お彼岸とときます。その心は、どちらも、「せんこう」(選考、線香)へ。ます。', -3.530157147573018]\n",
            "['振り', 'オーディションとかけまして、お彼岸とときます。その心は、どちらも、「せんこう」(選考、線香)と振ります。', -3.530587188261159]\n",
            "['振り', 'オーディションとかけまして、お彼岸とときます。その心は、どちらも、「せんこう」(選考、線香)から振ります。', -3.5275165690123877]\n",
            "['。', 'オーディションとかけまして、お彼岸とときます。その心は、どちらも、「せんこう」(選考、線香)より。ます。', -3.530522843941574]\n",
            "['あり', 'オーディションとかけまして、お彼岸とときます。その心は、どちらも、「せんこう」(選考、線香)であります。', -3.528092226775758]\n",
            "['、', 'オーディションとかけまして、お彼岸とときます。その心は、どちらも、「せんこう」(選考、線香)や、ます。', -3.537969311193458]\n",
            "['必要', '祭りとかけまして、みそ汁とときます。その心は、どちらも、「だし」(山車、ダシ)が必要です。', -3.4982848218309757]\n",
            "['心', '祭りとかけまして、みそ汁とときます。その心は、どちらも、「だし」(山車、ダシ)を心です。', -3.503896562699686]\n",
            "['[CLS]', '祭りとかけまして、みそ汁とときます。その心は、どちらも、「だし」(山車、ダシ)に[CLS]です。', -3.509520407966889]\n",
            "['[PAD]', '祭りとかけまして、みそ汁とときます。その心は、どちらも、「だし」(山車、ダシ)の[PAD]です。', -3.5790435774373037]\n",
            "['。', '祭りとかけまして、みそ汁とときます。その心は、どちらも、「だし」(山車、ダシ)へ。です。', -3.5045905829867596]\n",
            "['[CLS]', '祭りとかけまして、みそ汁とときます。その心は、どちらも、「だし」(山車、ダシ)と[CLS]です。', -3.505134711127122]\n",
            "['、', '祭りとかけまして、みそ汁とときます。その心は、どちらも、「だし」(山車、ダシ)から、です。', -3.4977167764451367]\n",
            "['、', '祭りとかけまして、みそ汁とときます。その心は、どちらも、「だし」(山車、ダシ)より、です。', -3.4976428396689236]\n",
            "['、', '祭りとかけまして、みそ汁とときます。その心は、どちらも、「だし」(山車、ダシ)で、です。', -3.4977393345160577]\n",
            "['、', '祭りとかけまして、みそ汁とときます。その心は、どちらも、「だし」(山車、ダシ)や、です。', -3.49735144236669]\n",
            "['あり', '食堂とかけまして、不祥事事件とときます。その心は、どちらも、「ていしょく」(定食、停職)があります。', -3.557114753120825]\n",
            "['かけ', '食堂とかけまして、不祥事事件とときます。その心は、どちらも、「ていしょく」(定食、停職)をかけます。', -3.5571555359103506]\n",
            "['行き', '食堂とかけまして、不祥事事件とときます。その心は、どちらも、「ていしょく」(定食、停職)に行きます。', -3.556887522524078]\n",
            "['ため', '食堂とかけまして、不祥事事件とときます。その心は、どちらも、「ていしょく」(定食、停職)のためます。', -3.557080957808757]\n",
            "['行き', '食堂とかけまして、不祥事事件とときます。その心は、どちらも、「ていしょく」(定食、停職)へ行きます。', -3.556934325655311]\n",
            "['振り', '食堂とかけまして、不祥事事件とときます。その心は、どちらも、「ていしょく」(定食、停職)と振ります。', -3.556951578892749]\n",
            "['振り', '食堂とかけまして、不祥事事件とときます。その心は、どちらも、「ていしょく」(定食、停職)から振ります。', -3.5570245353188095]\n",
            "['。', '食堂とかけまして、不祥事事件とときます。その心は、どちらも、「ていしょく」(定食、停職)より。ます。', -3.5852714328465836]\n",
            "['あり', '食堂とかけまして、不祥事事件とときます。その心は、どちらも、「ていしょく」(定食、停職)であります。', -3.557041431878697]\n",
            "['、', '食堂とかけまして、不祥事事件とときます。その心は、どちらも、「ていしょく」(定食、停職)や、ます。', -3.556838393532438]\n",
            "['心', '東京タワーとかけまして、発泡酒とときます。その心は、どちらも、「びる」(ビル、ビール)が心ありません。', -3.586349990406309]\n",
            "['振り', '東京タワーとかけまして、発泡酒とときます。その心は、どちらも、「びる」(ビル、ビール)を振りありません。', -3.585827526087512]\n",
            "['も', '東京タワーとかけまして、発泡酒とときます。その心は、どちらも、「びる」(ビル、ビール)にもありません。', -3.5866022669342845]\n",
            "['心', '東京タワーとかけまして、発泡酒とときます。その心は、どちらも、「びる」(ビル、ビール)の心ありません。', -3.593273693409475]\n",
            "['も', '東京タワーとかけまして、発泡酒とときます。その心は、どちらも、「びる」(ビル、ビール)へもありません。', -3.5846289755726164]\n",
            "['振り', '東京タワーとかけまして、発泡酒とときます。その心は、どちらも、「びる」(ビル、ビール)と振りありません。', -3.585914574562066]\n",
            "['[CLS]', '東京タワーとかけまして、発泡酒とときます。その心は、どちらも、「びる」(ビル、ビール)から[CLS]ありません。', -3.589211619008837]\n",
            "['も', '東京タワーとかけまして、発泡酒とときます。その心は、どちらも、「びる」(ビル、ビール)よりもありません。', -3.5856424015070716]\n",
            "['も', '東京タワーとかけまして、発泡酒とときます。その心は、どちらも、「びる」(ビル、ビール)でもありません。', -3.585187889527371]\n",
            "['、', '東京タワーとかけまして、発泡酒とときます。その心は、どちらも、「びる」(ビル、ビール)や、ありません。', -3.587963805059638]\n",
            "['あり', '洋食とかけまして、丸とときます。その心は、どちらも、「はし」(箸、端)がありません。', -3.470379258711664]\n",
            "['持ち', '洋食とかけまして、丸とときます。その心は、どちらも、「はし」(箸、端)を持ちません。', -3.4686344414527843]\n",
            "['行き', '洋食とかけまして、丸とときます。その心は、どちらも、「はし」(箸、端)に行きません。', -3.467675111619464]\n",
            "['ため', '洋食とかけまして、丸とときます。その心は、どちらも、「はし」(箸、端)のためません。', -3.4780103281435006]\n",
            "['。', '洋食とかけまして、丸とときます。その心は、どちらも、「はし」(箸、端)へ。ません。', -3.484840643544618]\n",
            "['振り', '洋食とかけまして、丸とときます。その心は、どちらも、「はし」(箸、端)と振りません。', -3.4693692592731034]\n",
            "['振り', '洋食とかけまして、丸とときます。その心は、どちらも、「はし」(箸、端)から振りません。', -3.466908715615398]\n",
            "['。', '洋食とかけまして、丸とときます。その心は、どちらも、「はし」(箸、端)より。ません。', -3.4778976179445924]\n",
            "['あり', '洋食とかけまして、丸とときます。その心は、どちらも、「はし」(箸、端)でありません。', -3.469987886321412]\n",
            "['、', '洋食とかけまして、丸とときます。その心は、どちらも、「はし」(箸、端)や、ません。', -3.4724688689445125]\n",
            "['必要', '満腹とかけまして、海底とときます。その心は、どちらも、「くうき」(食う気、空気)が必要。', -3.504465667041239]\n",
            "['心', '満腹とかけまして、海底とときます。その心は、どちらも、「くうき」(食う気、空気)を心。', -5.542551874310178]\n",
            "['強い', '満腹とかけまして、海底とときます。その心は、どちらも、「くうき」(食う気、空気)に強い。', -3.526087865122688]\n",
            "['心', '満腹とかけまして、海底とときます。その心は、どちらも、「くうき」(食う気、空気)の心。', -5.1427277145726915]\n",
            "['[CLS]', '満腹とかけまして、海底とときます。その心は、どちらも、「くうき」(食う気、空気)へ[CLS]。', -3.513350002725352]\n",
            "['[CLS]', '満腹とかけまして、海底とときます。その心は、どちらも、「くうき」(食う気、空気)と[CLS]。', -3.5491901821004364]\n",
            "['[CLS]', '満腹とかけまして、海底とときます。その心は、どちらも、「くうき」(食う気、空気)から[CLS]。', -3.5093738031098876]\n",
            "['[CLS]', '満腹とかけまして、海底とときます。その心は、どちらも、「くうき」(食う気、空気)より[CLS]。', -3.5135814653470514]\n",
            "['[CLS]', '満腹とかけまして、海底とときます。その心は、どちらも、「くうき」(食う気、空気)で[CLS]。', -3.5229016808684643]\n",
            "['[CLS]', '満腹とかけまして、海底とときます。その心は、どちらも、「くうき」(食う気、空気)や[CLS]。', -3.511400520638398]\n",
            "['必要', '音楽とかけまして、マラソンとときます。その心は、どちらも、「かんそう」(間奏、完走)が必要です。', -3.4763057070172856]\n",
            "['[CLS]', '音楽とかけまして、マラソンとときます。その心は、どちらも、「かんそう」(間奏、完走)を[CLS]です。', -3.4843475615334145]\n",
            "['[CLS]', '音楽とかけまして、マラソンとときます。その心は、どちらも、「かんそう」(間奏、完走)に[CLS]です。', -3.4977022471237476]\n",
            "['[PAD]', '音楽とかけまして、マラソンとときます。その心は、どちらも、「かんそう」(間奏、完走)の[PAD]です。', -3.498090583221113]\n",
            "['。', '音楽とかけまして、マラソンとときます。その心は、どちらも、「かんそう」(間奏、完走)へ。です。', -3.4970164258723972]\n",
            "['[CLS]', '音楽とかけまして、マラソンとときます。その心は、どちらも、「かんそう」(間奏、完走)と[CLS]です。', -3.5004606744004114]\n",
            "['、', '音楽とかけまして、マラソンとときます。その心は、どちらも、「かんそう」(間奏、完走)から、です。', -3.4664626878591833]\n",
            "['、', '音楽とかけまして、マラソンとときます。その心は、どちらも、「かんそう」(間奏、完走)より、です。', -3.4782972896554822]\n",
            "['、', '音楽とかけまして、マラソンとときます。その心は、どちらも、「かんそう」(間奏、完走)で、です。', -3.4686957752146363]\n",
            "['、', '音楽とかけまして、マラソンとときます。その心は、どちらも、「かんそう」(間奏、完走)や、です。', -3.4798248513700623]\n"
          ]
        }
      ]
    },
    {
      "cell_type": "code",
      "source": [
        "filepass='/content/drive/MyDrive/実験/result/パターンB/全助詞データ/'\n",
        "filename=\"score_result_epoch8.txt\"\n",
        "with open(filepass+filename, mode='w') as f:\n",
        "  for j in zyosi_acc[0][\"予測\"]:\n",
        "    f.write(\"---\\n\")\n",
        "    f.write(\"答え　　：\"+j[0]+\"\\n\") \n",
        "    f.write(\"答え文章：\"+j[1]+\"\\n\") \n",
        "    f.write(\"一番　　：\"+j[3][1]+j[3][0][0]+\"\\n\") \n",
        "    f.write(\"一番文章：\"+j[3][0][1]+\"\\n\") \n",
        "    f.write(\"---\\n\")\n",
        "    for k in j[2]:\n",
        "      f.write(\"予測　　：\"+k[0]+\"\\n\") \n",
        "      f.write(\"予測文章：\"+k[1]+\"\\n\")\n",
        "      #f.write(\"スコア　：{}\\n\".foramat(k[2]))\n",
        "\n",
        "\n",
        "filename=\"score_result_epoch11.txt\"\n",
        "with open(filepass+filename, mode='w') as f:\n",
        "  for j in zyosi_acc[1][\"予測\"]:\n",
        "    f.write(\"---\\n\")\n",
        "    f.write(\"答え　　：\"+j[0]+\"\\n\") \n",
        "    f.write(\"答え文章：\"+j[1]+\"\\n\") \n",
        "    f.write(\"一番　　：\"+j[3][1]+j[3][0][0]+\"\\n\") \n",
        "    f.write(\"一番文章：\"+j[3][0][1]+\"\\n\")  \n",
        "    f.write(\"---\\n\")\n",
        "    for k in j[2]:\n",
        "      f.write(\"予測　　：\"+k[0]+\"\\n\") \n",
        "      f.write(\"予測文章：\"+k[1]+\"\\n\")\n",
        "      #f.write(\"スコア　：{}\\n\".foramat(k[2]))"
      ],
      "metadata": {
        "id": "OQbgPteby2pI"
      },
      "execution_count": null,
      "outputs": []
    },
    {
      "cell_type": "code",
      "source": [
        "filepass='/content/drive/MyDrive/lab/result/パターンB/'\n",
        "filename=\"train_loss.txt\"\n",
        "with open(filepass+filename, mode='w') as f:\n",
        "    for i in loss_list:\n",
        "        f.write(str(i)+\"\\n\")\n",
        "\n",
        "filepass='/content/drive/MyDrive/lab/result/パターンB/'\n",
        "filename=\"val_loss.txt\"\n",
        "with open(filepass+filename, mode='w') as f:\n",
        "    for i in acc_loss:\n",
        "        f.write(str(i)+\"\\n\")"
      ],
      "metadata": {
        "id": "xsjD775fRoAn"
      },
      "execution_count": null,
      "outputs": []
    },
    {
      "cell_type": "code",
      "source": [
        "for j in train_acc[0][\"予測\"]:\n",
        "  print(j)\n",
        "  # print(\"予測結果：\"+j[0]+\"\\n\") \n",
        "  # f.write(\"答え　　：\"+j[1]+\"\\n\") \n",
        "  # f.write(\"予測文章：\"+j[2]+\"\\n\") \n",
        "  # f.write(\"元の文章：\"+j[3]+\"\\n\")  "
      ],
      "metadata": {
        "id": "VFM7Pg8PTeIy"
      },
      "execution_count": null,
      "outputs": []
    },
    {
      "cell_type": "code",
      "source": [
        "import os\n",
        "filepass='/content/drive/MyDrive/lab/result/パターンB/テストデータ/epoch'\n",
        "filename=\"test_score\"\n",
        "filename2=\"test_predict\"\n",
        "for i in range(len(test_acc)):\n",
        "  save_pass = filepass+str(i+1)\n",
        "  os.makedirs(save_pass, exist_ok=True)\n",
        "  with open(save_pass+\"/\"+filename+str(i+1)+\".txt\", mode='w') as f:\n",
        "      f.write(test_acc[i][\"分数\"]+\",\"+str(test_acc[i][\"スコア\"])+\"\\n\")\n",
        "      for j in test_acc[i][\"正解リスト\"]:\n",
        "        f.write(j+\"\\n\")\n",
        "  \n",
        "  with open(save_pass+\"/\"+filename2+str(i+1)+\".txt\", mode='w') as f:\n",
        "      for j in test_acc[i][\"予測\"]:\n",
        "        f.write(\"予測結果：\"+j[0][0]+\"\\n\") \n",
        "        f.write(\"答え　　：\"+j[1][0]+\"\\n\") \n",
        "        f.write(\"予測文章：\"+j[2]+\"\\n\") \n",
        "        f.write(\"元の文章：\"+j[3]+\"\\n\")  "
      ],
      "metadata": {
        "id": "m_ZFcinaSHsq"
      },
      "execution_count": null,
      "outputs": []
    },
    {
      "cell_type": "code",
      "source": [
        "# val_acc\n",
        "# train_acc\n",
        "\n",
        "filepass='/content/drive/MyDrive/lab/result/パターンB/検証データ/epoch'\n",
        "filename=\"val_score\"\n",
        "filename2=\"val_predict\"\n",
        "for i in range(len(val_acc)):\n",
        "  save_pass = filepass+str(i+1)\n",
        "  os.makedirs(save_pass, exist_ok=True)\n",
        "  with open(save_pass+\"/\"+filename+str(i+1)+\".txt\", mode='w') as f:\n",
        "      f.write(val_acc[i][\"分数\"]+\",\"+str(val_acc[i][\"スコア\"])+\"\\n\")\n",
        "      for j in val_acc[i][\"正解リスト\"]:\n",
        "        f.write(j+\"\\n\")\n",
        "  \n",
        "  with open(save_pass+\"/\"+filename2+str(i+1)+\".txt\", mode='w') as f:\n",
        "      for j in val_acc[i][\"予測\"]:\n",
        "        f.write(\"予測結果：\"+j[0][0]+\"\\n\") \n",
        "        f.write(\"答え　　：\"+j[1][0]+\"\\n\") \n",
        "        f.write(\"予測文章：\"+j[2]+\"\\n\") \n",
        "        f.write(\"元の文章：\"+j[3]+\"\\n\")  \n"
      ],
      "metadata": {
        "id": "MLGSIRZfSLMT"
      },
      "execution_count": null,
      "outputs": []
    },
    {
      "cell_type": "code",
      "source": [
        "filepass='/content/drive/MyDrive/lab/result/パターンB/訓練データ/epoch'\n",
        "filename=\"train_score\"\n",
        "filename2=\"train_predict\"\n",
        "for i in range(len(train_acc)):\n",
        "  save_pass = filepass+str(i+1)\n",
        "  os.makedirs(save_pass, exist_ok=True)\n",
        "  with open(save_pass+\"/\"+filename+str(i+1)+\".txt\", mode='w') as f:\n",
        "      f.write(train_acc[i][\"分数\"]+\",\"+str(train_acc[i][\"スコア\"])+\"\\n\")\n",
        "      for j in train_acc[i][\"正解リスト\"]:\n",
        "        f.write(j+\"\\n\")\n",
        "  \n",
        "  with open(save_pass+\"/\"+filename2+str(i+1)+\".txt\", mode='w') as f:\n",
        "      for j in train_acc[i][\"予測\"]:\n",
        "        try:\n",
        "          f.write(\"予測結果：\"+j[0][0]+\"\\n\") \n",
        "          f.write(\"答え　　：\"+j[1][0]+\"\\n\") \n",
        "        except:\n",
        "          continue\n",
        "        f.write(\"予測文章：\"+j[2]+\"\\n\") \n",
        "        f.write(\"元の文章：\"+j[3]+\"\\n\") "
      ],
      "metadata": {
        "id": "n4eoJkHuSM8D"
      },
      "execution_count": null,
      "outputs": []
    },
    {
      "cell_type": "code",
      "source": [
        "test_acc_score = []\n",
        "val_acc_score = []\n",
        "train_acc_score = []\n",
        "zyosi_acc_score = []\n",
        "for i in train_acc:\n",
        "  train_acc_score.append(i[\"スコア\"])\n",
        "\n",
        "for i in val_acc:\n",
        "  val_acc_score.append(i[\"スコア\"])\n",
        "\n",
        "for i in test_acc:\n",
        "  test_acc_score.append(i[\"スコア\"])\n",
        "for i in zyosi_acc:\n",
        "  zyosi_acc_score.append(i[\"スコア\"])"
      ],
      "metadata": {
        "id": "a9j07WXTDYgN"
      },
      "execution_count": null,
      "outputs": []
    },
    {
      "cell_type": "code",
      "source": [
        "#lossのグラフ化グラフ化\n",
        "import matplotlib as mpl\n",
        "import matplotlib.pyplot as plt\n",
        "\n",
        "a=len(loss_list)/len(acc_loss)\n",
        "x = [i for i in range(len(loss_list))]\n",
        "y = loss_list\n",
        "x2 = [(i+1)*a for i in range(len(acc_loss))]\n",
        "y2 = acc_loss\n",
        "\n",
        "plt.plot(x2,y2,color=\"r\") # 点列(x,y)を黒線で繋いだプロット\n",
        "\n",
        "plt.plot(x,y,color=\"b\") # 点列(x,y)を黒線で繋いだプロット\n",
        "#plt.plot(x,y2,color=\"k\") # 点列(x,y)を黒線で繋いだプロット\n",
        "plt.show() # プロットを表示"
      ],
      "metadata": {
        "colab": {
          "base_uri": "https://localhost:8080/",
          "height": 265
        },
        "id": "rrBkuRMubkkz",
        "outputId": "61a6d002-7878-4f10-d2ca-76cb8369cf64"
      },
      "execution_count": null,
      "outputs": [
        {
          "output_type": "display_data",
          "data": {
            "text/plain": [
              "<Figure size 432x288 with 1 Axes>"
            ],
            "image/png": "[encoded data removed]"
          },
          "metadata": {
            "needs_background": "light"
          }
        }
      ]
    },
    {
      "cell_type": "code",
      "source": [
        "#lossのグラフ化グラフ化\n",
        "import matplotlib as mpl\n",
        "import matplotlib.pyplot as plt\n",
        "\n",
        "a=len(loss_list)/len(acc_loss)\n",
        "x = [i for i in range(len(loss_list))]\n",
        "y = loss_list\n",
        "x2 = [(i)*a for i in range(len(acc_loss))]\n",
        "y2 = acc_loss\n",
        "y3 = train_acc_score\n",
        "y4 = test_acc_score\n",
        "y5 = val_acc_score\n",
        "y6 = zyosi_acc_score\n",
        "# plt.plot(x,y,color=\"b\")\n",
        "# plt.plot(x2,y2,color=\"r\") \n",
        "\n",
        "plt.plot(x,y)\n",
        "plt.plot(x2,y2)\n",
        "plt.show()\n",
        "\n",
        "\n",
        "\n",
        "plt.plot(x2,y3,color=\"g\",label=\"train\")\n",
        "plt.plot(x2,y4,color=\"c\",label=\"test\")\n",
        "plt.plot(x2,y5,color=\"m\",label=\"val\")\n",
        "plt.plot(x2,y6,color=\"k\",label=\"zyosi\")\n",
        "plt.legend()\n",
        "plt.show()\n",
        "\n",
        "fig, ax1 = plt.subplots()\n",
        "ax2 = ax1.twinx()\n",
        "\n",
        "ax1.plot(x,y)\n",
        "ax1.plot(x2,y2)\n",
        "ax2.plot(x2,y3,color=\"g\")\n",
        "ax2.plot(x2,y4,color=\"c\")\n",
        "ax2.plot(x2,y5,color=\"m\")\n",
        "plt.ylim(0,1)\n",
        "ax1.set_xlabel('step')\n",
        "ax1.set_ylabel('loss')\n",
        "ax2.set_ylabel('acc')\n",
        "#plt.plot(x,y2,color=\"k\") # 点列(x,y)を黒線で繋いだプロット\n",
        "plt.show() # プロットを表示"
      ],
      "metadata": {
        "colab": {
          "base_uri": "https://localhost:8080/",
          "height": 779
        },
        "id": "gXWULT_OOk23",
        "outputId": "783f6288-150c-44f3-c000-a5b364a1b1ed"
      },
      "execution_count": null,
      "outputs": [
        {
          "output_type": "display_data",
          "data": {
            "text/plain": [
              "<Figure size 432x288 with 1 Axes>"
            ],
            "image/png": "[encoded data removed]"
          },
          "metadata": {
            "needs_background": "light"
          }
        },
        {
          "output_type": "display_data",
          "data": {
            "text/plain": [
              "<Figure size 432x288 with 1 Axes>"
            ],
            "image/png": "[encoded data removed]"
          },
          "metadata": {
            "needs_background": "light"
          }
        },
        {
          "output_type": "display_data",
          "data": {
            "text/plain": [
              "<Figure size 432x288 with 2 Axes>"
            ],
            "image/png": "[encoded data removed]"
          },
          "metadata": {
            "needs_background": "light"
          }
        }
      ]
    },
    {
      "cell_type": "markdown",
      "source": [
        "## テストデータに対する予測"
      ],
      "metadata": {
        "id": "N68ae8i2iq0s"
      }
    },
    {
      "cell_type": "code",
      "source": [
        "model.eval()\n",
        "count = 0\n",
        "correctAnswer = []\n",
        "\n",
        "with torch.no_grad():\n",
        "  outputs = model(test_input)\n",
        "\n",
        "masked_position = (test_input.squeeze() == tokenizer.mask_token_id).nonzero() #これでマスク部分の抽出ができるらしい\n",
        "last_hidden_state = outputs[0].squeeze()#出力\n",
        "\n",
        "masked_pos = []\n",
        "[masked_pos.append([])for _ in range(masked_position[-1][0]+1)]\n",
        "\n",
        "for i in masked_position:\n",
        "    masked_pos[i[0].item()].append(i[1].item())\n",
        "\n",
        "\n",
        "topk = 1\n",
        "for index,mask_index in enumerate(masked_pos):\n",
        "  result=[]\n",
        "  answer=[]\n",
        "  \n",
        "  for i in mask_index:\n",
        "    mask_hidden_state = last_hidden_state[index][i] # 詳細結果の参照\n",
        "    idx = torch.topk(mask_hidden_state, k=topk, dim=0)[1] # 予測結果の上位を出力\n",
        "    words = [tokenizer.decode(i.item()).strip() for i in idx]\n",
        "    result.append(words[0])\n",
        "    answer_words = tokenizer.decode(Test_labels[index][i].item()).strip()\n",
        "    answer.append(answer_words)\n",
        "\n",
        "  result_docs = test_docs_singele[index]\n",
        "  for i in result:\n",
        "    i=i.replace(\" \",\"\")\n",
        "    result_docs = result_docs.replace('[MASK]',i,1)\n",
        "  print(\"------------\")\n",
        "  print(\"maskに対する予測\",result)\n",
        "  print(\"答え答え　　　　 \",answer)\n",
        "  print(\"予測した文章　:\"+result_docs.replace(\"\\n\",\"\"))\n",
        "  print(\"元の文章　　　:\"+test_labels[index].replace(\"\\n\",\"\"))\n",
        "  if(MatchList(result,answer)):\n",
        "    count += 1\n",
        "    correctAnswer.append(result_docs.replace(\"\\n\",\"\"))\n",
        "    \n",
        "    # result_docs = [result_docs]\n",
        "    # label_docs = [train_labels[batch*b:batch*c][index]]\n",
        "    # F1 = calc_bert_score(result_docs, label_docs)"
      ],
      "metadata": {
        "colab": {
          "base_uri": "https://localhost:8080/"
        },
        "id": "WYkUhOzPBebM",
        "outputId": "e1bb7c6a-c97f-4445-b227-5212ec38d1ad"
      },
      "execution_count": null,
      "outputs": [
        {
          "output_type": "stream",
          "name": "stdout",
          "text": [
            "------------\n",
            "maskに対する予測 ['必 要']\n",
            "答え答え　　　　  ['必 要']\n",
            "予測した文章　:お化け屋敷とかけまして、お坊さんとときます。その心は、どちらも、「どきょう」(度胸、読経)が必要です。\n",
            "元の文章　　　:お化け屋敷とかけまして、お坊さんとときます。その心は、どちらも、「どきょう」（度胸、読経）が必要です。\n",
            "------------\n",
            "maskに対する予測 ['あ り']\n",
            "答え答え　　　　  ['あ り']\n",
            "予測した文章　:忍者とかけまして、栗とときます。その心は、どちらも、「いが」(伊賀、イガ)があります。\n",
            "元の文章　　　:忍者とかけまして、栗とときます。その心は、どちらも、「いが」（伊賀、イガ）があります。\n",
            "------------\n",
            "maskに対する予測 ['必 要']\n",
            "答え答え　　　　  ['必 要']\n",
            "予測した文章　:天秤とかけまして、赤ちゃんとときます。その心は、どちらも、「おもり」(重り、お守り)が必要です。\n",
            "元の文章　　　:天秤とかけまして、赤ちゃんとときます。その心は、どちらも、「おもり」（重り、お守り）が必要です。\n",
            "------------\n",
            "maskに対する予測 ['良 い']\n",
            "答え答え　　　　  ['あ る']\n",
            "予測した文章　:自転車とかけまして、新聞とときます。その心は、どちらも、「ほうち」(放置、報知)が良いでしょう。\n",
            "元の文章　　　:自転車とかけまして、新聞とときます。その心は、どちらも、「ほうち」（放置、報知）があるでしょう。\n",
            "------------\n",
            "maskに対する予測 ['、']\n",
            "答え答え　　　　  ['あ り']\n",
            "予測した文章　:花火とかけまして、仕事終わりとときます。その心は、どちらも、「うちあげ」(打ち上げ)が、ます。\n",
            "元の文章　　　:花火とかけまして、仕事終わりとときます。その心は、どちらも、「うちあげ」（打ち上げ）があります。\n",
            "------------\n",
            "maskに対する予測 ['、']\n",
            "答え答え　　　　  ['ほ し い']\n",
            "予測した文章　:柔道とかけまして、禁煙とときます。その心は、どちらも、「いっぽん」(一本)が、です。\n",
            "元の文章　　　:柔道とかけまして、禁煙とときます。その心は、どちらも、「いっぽん」（一本）がほしいです。\n",
            "------------\n",
            "maskに対する予測 ['あ り']\n",
            "答え答え　　　　  ['き']\n",
            "予測した文章　:クリーニング屋とかけまして、笑顔とときます。その心は、どちらも、「ふく」(服、福)があります。\n",
            "元の文章　　　:クリーニング屋とかけまして、笑顔とときます。その心は、どちらも、「ふく」（服、福）がきます。\n",
            "------------\n",
            "maskに対する予測 ['あ り']\n",
            "答え答え　　　　  ['あ り']\n",
            "予測した文章　:株式とかけまして、お皿とときます。その心は、どちらも、「とうき」(投機、陶器)があります。\n",
            "元の文章　　　:株式とかけまして、お皿とときます。その心は、どちらも、「とうき」（投機、陶器）があります。\n",
            "------------\n",
            "maskに対する予測 ['必 要']\n",
            "答え答え　　　　  ['あ り']\n",
            "予測した文章　:チャンピョンとかけまして、大掃除とときます。その心は、どちらも、「ほこり」(誇り、[UNK])が必要ます。\n",
            "元の文章　　　:チャンピョンとかけまして、大掃除とときます。その心は、どちらも、「ほこり」（誇り、埃）があります。\n",
            "------------\n",
            "maskに対する予測 ['良 い']\n",
            "答え答え　　　　  ['必 要']\n",
            "予測した文章　:賭け事とかけまして、真夜中とときます。その心は、どちらも、「つき」(ツキ、月)が良いでしょう。\n",
            "元の文章　　　:賭け事とかけまして、真夜中とときます。その心は、どちらも、「つき」（ツキ、月）が必要でしょう。\n",
            "------------\n",
            "maskに対する予測 ['必 要']\n",
            "答え答え　　　　  ['大 事']\n",
            "予測した文章　:電気自動車とかけまして、野球とときます。その心は、どちらも、「ばってりー」(バッテリー)が必要です。\n",
            "元の文章　　　:電気自動車とかけまして、野球とときます。その心は、どちらも、「ばってりー」（バッテリー）が大事です。\n",
            "------------\n",
            "maskに対する予測 ['必 要']\n",
            "答え答え　　　　  ['あ り']\n",
            "予測した文章　:そうめんとかけまして、月とときます。その心は、どちらも、「つゆ」(汁、梅雨)が必要ます。\n",
            "元の文章　　　:そうめんとかけまして、月とときます。その心は、どちらも、「つゆ」（汁、梅雨）があります。\n",
            "------------\n",
            "maskに対する予測 ['行 き']\n",
            "答え答え　　　　  ['あ り']\n",
            "予測した文章　:秋とかけまして、怒りとときます。その心は、どちらも、「こうよう」(紅葉、高揚)が行きます。\n",
            "元の文章　　　:秋とかけまして、怒りとときます。その心は、どちらも、「こうよう」（紅葉、高揚）があります。\n",
            "------------\n",
            "maskに対する予測 ['必 要']\n",
            "答え答え　　　　  ['あ り']\n",
            "予測した文章　:オーディションとかけまして、お彼岸とときます。その心は、どちらも、「せんこう」(選考、線香)が必要ます。\n",
            "元の文章　　　:オーディションとかけまして、お彼岸とときます。その心は、どちらも、「せんこう」（選考、線香）があります。\n",
            "------------\n",
            "maskに対する予測 ['必 要']\n",
            "答え答え　　　　  ['大 事']\n",
            "予測した文章　:祭りとかけまして、みそ汁とときます。その心は、どちらも、「だし」(山車、ダシ)が必要です。\n",
            "元の文章　　　:祭りとかけまして、みそ汁とときます。その心は、どちらも、「だし」（山車、ダシ）が大事です。\n",
            "------------\n",
            "maskに対する予測 ['あ り']\n",
            "答え答え　　　　  ['あ り']\n",
            "予測した文章　:食堂とかけまして、不祥事事件とときます。その心は、どちらも、「ていしょく」(定食、停職)があります。\n",
            "元の文章　　　:食堂とかけまして、不祥事事件とときます。その心は、どちらも、「ていしょく」（定食、停職）があります。\n",
            "------------\n",
            "maskに対する予測 ['も']\n",
            "答え答え　　　　  ['は']\n",
            "予測した文章　:東京タワーとかけまして、発泡酒とときます。その心は、どちらも、「びる」(ビル、ビール)でもありません。\n",
            "元の文章　　　:東京タワーとかけまして、発泡酒とときます。その心は、どちらも、「びる」（ビル、ビール）ではありません。\n",
            "------------\n",
            "maskに対する予測 ['あ り']\n",
            "答え答え　　　　  ['あ り']\n",
            "予測した文章　:洋食とかけまして、丸とときます。その心は、どちらも、「はし」(箸、端)がありません。\n",
            "元の文章　　　:洋食とかけまして、丸とときます。その心は、どちらも、「はし」（箸、端）がありません。\n",
            "------------\n",
            "maskに対する予測 ['必 要']\n",
            "答え答え　　　　  ['な い']\n",
            "予測した文章　:満腹とかけまして、海底とときます。その心は、どちらも、「くうき」(食う気、空気)が必要。\n",
            "元の文章　　　:満腹とかけまして、海底とときます。その心は、どちらも、「くうき」（食う気、空気）がない。\n",
            "------------\n",
            "maskに対する予測 ['必 要']\n",
            "答え答え　　　　  ['大 事']\n",
            "予測した文章　:音楽とかけまして、マラソンとときます。その心は、どちらも、「かんそう」(間奏、完走)が必要です。\n",
            "元の文章　　　:音楽とかけまして、マラソンとときます。その心は、どちらも、「かんそう」（間奏、完走）が大事です。\n"
          ]
        }
      ]
    },
    {
      "cell_type": "code",
      "source": [
        "print(count,len(test_input))\n",
        "print(count/len(test_input))"
      ],
      "metadata": {
        "colab": {
          "base_uri": "https://localhost:8080/"
        },
        "id": "2eVee7YnCKqb",
        "outputId": "edc35529-c49f-4668-c729-06d3d240ed31"
      },
      "execution_count": null,
      "outputs": [
        {
          "output_type": "stream",
          "name": "stdout",
          "text": [
            "6 20\n",
            "0.3\n"
          ]
        }
      ]
    },
    {
      "cell_type": "code",
      "source": [
        "for i in correctAnswer:\n",
        "  print(i)"
      ],
      "metadata": {
        "colab": {
          "base_uri": "https://localhost:8080/"
        },
        "id": "MQFH19rtCMSw",
        "outputId": "4e2d2d3d-3396-4840-94c6-1eba385eb4a2"
      },
      "execution_count": null,
      "outputs": [
        {
          "output_type": "stream",
          "name": "stdout",
          "text": [
            "お化け屋敷とかけまして、お坊さんとときます。その心は、どちらも、「どきょう」(度胸、読経)が必要です。\n",
            "忍者とかけまして、栗とときます。その心は、どちらも、「いが」(伊賀、イガ)があります。\n",
            "天秤とかけまして、赤ちゃんとときます。その心は、どちらも、「おもり」(重り、お守り)が必要です。\n",
            "株式とかけまして、お皿とときます。その心は、どちらも、「とうき」(投機、陶器)があります。\n",
            "食堂とかけまして、不祥事事件とときます。その心は、どちらも、「ていしょく」(定食、停職)があります。\n",
            "洋食とかけまして、丸とときます。その心は、どちらも、「はし」(箸、端)がありません。\n"
          ]
        }
      ]
    },
    {
      "cell_type": "code",
      "source": [
        "model.eval()\n",
        "count = 0\n",
        "correctAnswer=[]\n",
        "for ind,j in enumerate(all_add_ZYOSI):\n",
        "  fill_mask = pipeline(\"fill-mask\",model=model,tokenizer=tokenizer)\n",
        "  result = fill_mask(j)\n",
        "\n",
        "  \n",
        "  save_score = 0\n",
        "  answer = \"\"\n",
        "  token = \"\"\n",
        "  top_zyosi_index = 0\n",
        "  #助詞に対する推測が一番のものを見つける\n",
        "  for ind2,results in enumerate(result):\n",
        "    #print(results[0]['score'],results[0]['sequence'])\n",
        "    if save_score==0:\n",
        "      save_score = results[0]['score']\n",
        "      answer = results[0]['sequence']\n",
        "      token = results[0]['token_str']\n",
        "      top_zyosi_index = ind2 \n",
        "    else:\n",
        "      if(save_score < results[0]['score']):\n",
        "        save_score = results[0]['score']\n",
        "        answer = results[0]['sequence']\n",
        "        token = results[0]['token_str']\n",
        "        top_zyosi_index = ind2 \n",
        "  left_mask_index0 = torch.where(zyosi_input_list[ind][top_zyosi_index]==24)\n",
        "  top_zyosi = tokenizer.decode(zyosi_input_list[ind][top_zyosi_index][left_mask_index0[0]+1].item()).strip()\n",
        "\n",
        "  left_mask_index = torch.where(Test_labels[ind]==24)\n",
        "  answer_words1 = tokenizer.decode(Test_labels[ind][left_mask_index[0]+1].item()).strip()\n",
        "  answer_words2 = tokenizer.decode(Test_labels[ind][left_mask_index[0]+2].item()).strip()\n",
        "  if MatchList([top_zyosi,token],[answer_words1.replace(\" \",\"\"),answer_words2.replace(\" \",\"\")]):\n",
        "    count += 1\n",
        "    correctAnswer.append(answer.replace(\" \",\"\"))\n",
        "  print(\"------------\")\n",
        "  print(\"maskに対する予測\",top_zyosi,token)\n",
        "  print(\"答え　　　　 \",answer_words1.replace(\" \",\"\"),answer_words2.replace(\" \",\"\"))\n",
        "  print(\"予測した文章　:\"+answer.replace(\" \",\"\"))\n",
        "  print(\"元の文章　　　:\"+test_labels[ind].replace(\"\\n\",\"\"))"
      ],
      "metadata": {
        "colab": {
          "base_uri": "https://localhost:8080/",
          "height": 1000
        },
        "id": "DV9Vuj0kPySm",
        "outputId": "8885b2d1-a53c-4800-f035-1e99c3cdd59c"
      },
      "execution_count": null,
      "outputs": [
        {
          "output_type": "stream",
          "name": "stdout",
          "text": [
            "------------\n",
            "maskに対する予測 を 積ん\n",
            "答え　　　　  が 必要\n",
            "予測した文章　:お化け屋敷とかけまして、お坊さんとときます。その心は、どちらも、「どきょう」(度胸、読経)を積んです。\n",
            "元の文章　　　:お化け屋敷とかけまして、お坊さんとときます。その心は、どちらも、「どきょう」（度胸、読経）が必要です。\n",
            "------------\n",
            "maskに対する予測 が つき\n",
            "答え　　　　  が あり\n",
            "予測した文章　:忍者とかけまして、栗とときます。その心は、どちらも、「いが」(伊賀、イガ)がつきます。\n",
            "元の文章　　　:忍者とかけまして、栗とときます。その心は、どちらも、「いが」（伊賀、イガ）があります。\n",
            "------------\n",
            "maskに対する予測 が 必要\n",
            "答え　　　　  が 必要\n",
            "予測した文章　:天秤とかけまして、赤ちゃんとときます。その心は、どちらも、「おもり」(重り、お守り)が必要です。\n",
            "元の文章　　　:天秤とかけまして、赤ちゃんとときます。その心は、どちらも、「おもり」（重り、お守り）が必要です。\n",
            "------------\n",
            "maskに対する予測 よ り 良い\n",
            "答え　　　　  が ある\n",
            "予測した文章　:自転車とかけまして、新聞とときます。その心は、どちらも、「ほうち」(放置、報知)より良いでしょう。\n",
            "元の文章　　　:自転車とかけまして、新聞とときます。その心は、どちらも、「ほうち」（放置、報知）があるでしょう。\n",
            "------------\n",
            "maskに対する予測 や 、\n",
            "答え　　　　  が あり\n",
            "予測した文章　:花火とかけまして、仕事終わりとときます。その心は、どちらも、「うちあげ」(打ち上げ)や、ます。\n",
            "元の文章　　　:花火とかけまして、仕事終わりとときます。その心は、どちらも、「うちあげ」（打ち上げ）があります。\n",
            "------------\n",
            "maskに対する予測 が 必要\n",
            "答え　　　　  が ほしい\n",
            "予測した文章　:柔道とかけまして、禁煙とときます。その心は、どちらも、「いっぽん」(一本)が必要です。\n",
            "元の文章　　　:柔道とかけまして、禁煙とときます。その心は、どちらも、「いっぽん」（一本）がほしいです。\n",
            "------------\n",
            "maskに対する予測 が つき\n",
            "答え　　　　  が き\n",
            "予測した文章　:クリーニング屋とかけまして、笑顔とときます。その心は、どちらも、「ふく」(服、福)がつきます。\n",
            "元の文章　　　:クリーニング屋とかけまして、笑顔とときます。その心は、どちらも、「ふく」（服、福）がきます。\n",
            "------------\n",
            "maskに対する予測 が つき\n",
            "答え　　　　  が あり\n",
            "予測した文章　:株式とかけまして、お皿とときます。その心は、どちらも、「とうき」(投機、陶器)がつきます。\n",
            "元の文章　　　:株式とかけまして、お皿とときます。その心は、どちらも、「とうき」（投機、陶器）があります。\n",
            "------------\n",
            "maskに対する予測 や 、\n",
            "答え　　　　  が あり\n",
            "予測した文章　:チャンピョンとかけまして、大掃除とときます。その心は、どちらも、「ほこり」(誇り、)や、ます。\n",
            "元の文章　　　:チャンピョンとかけまして、大掃除とときます。その心は、どちらも、「ほこり」（誇り、埃）があります。\n",
            "------------\n",
            "maskに対する予測 へ 行く\n",
            "答え　　　　  が 必要\n",
            "予測した文章　:賭け事とかけまして、真夜中とときます。その心は、どちらも、「つき」(ツキ、月)へ行くでしょう。\n",
            "元の文章　　　:賭け事とかけまして、真夜中とときます。その心は、どちらも、「つき」（ツキ、月）が必要でしょう。\n",
            "------------\n",
            "maskに対する予測 が 必要\n",
            "答え　　　　  が 大事\n",
            "予測した文章　:電気自動車とかけまして、野球とときます。その心は、どちらも、「ばってりー」(バッテリー)が必要です。\n",
            "元の文章　　　:電気自動車とかけまして、野球とときます。その心は、どちらも、「ばってりー」（バッテリー）が大事です。\n",
            "------------\n",
            "maskに対する予測 が つき\n",
            "答え　　　　  が あり\n",
            "予測した文章　:そうめんとかけまして、月とときます。その心は、どちらも、「つゆ」(汁、梅雨)がつきます。\n",
            "元の文章　　　:そうめんとかけまして、月とときます。その心は、どちらも、「つゆ」（汁、梅雨）があります。\n",
            "------------\n",
            "maskに対する予測 が つき\n",
            "答え　　　　  が あり\n",
            "予測した文章　:秋とかけまして、怒りとときます。その心は、どちらも、「こうよう」(紅葉、高揚)がつきます。\n",
            "元の文章　　　:秋とかけまして、怒りとときます。その心は、どちらも、「こうよう」（紅葉、高揚）があります。\n",
            "------------\n",
            "maskに対する予測 が つき\n",
            "答え　　　　  が あり\n",
            "予測した文章　:オーディションとかけまして、お彼岸とときます。その心は、どちらも、「せんこう」(選考、線香)がつきます。\n",
            "元の文章　　　:オーディションとかけまして、お彼岸とときます。その心は、どちらも、「せんこう」（選考、線香）があります。\n"
          ]
        },
        {
          "output_type": "error",
          "ename": "KeyboardInterrupt",
          "evalue": "ignored",
          "traceback": [
            "\u001b[0;31m---------------------------------------------------------------------------\u001b[0m",
            "\u001b[0;31mKeyboardInterrupt\u001b[0m                         Traceback (most recent call last)",
            "\u001b[0;32m<ipython-input-38-80e6e74d931b>\u001b[0m in \u001b[0;36m<module>\u001b[0;34m\u001b[0m\n\u001b[1;32m      4\u001b[0m \u001b[0;32mfor\u001b[0m \u001b[0mind\u001b[0m\u001b[0;34m,\u001b[0m\u001b[0mj\u001b[0m \u001b[0;32min\u001b[0m \u001b[0menumerate\u001b[0m\u001b[0;34m(\u001b[0m\u001b[0mall_add_ZYOSI\u001b[0m\u001b[0;34m)\u001b[0m\u001b[0;34m:\u001b[0m\u001b[0;34m\u001b[0m\u001b[0;34m\u001b[0m\u001b[0m\n\u001b[1;32m      5\u001b[0m   \u001b[0mfill_mask\u001b[0m \u001b[0;34m=\u001b[0m \u001b[0mpipeline\u001b[0m\u001b[0;34m(\u001b[0m\u001b[0;34m\"fill-mask\"\u001b[0m\u001b[0;34m,\u001b[0m\u001b[0mmodel\u001b[0m\u001b[0;34m=\u001b[0m\u001b[0mmodel\u001b[0m\u001b[0;34m,\u001b[0m\u001b[0mtokenizer\u001b[0m\u001b[0;34m=\u001b[0m\u001b[0mtokenizer\u001b[0m\u001b[0;34m)\u001b[0m\u001b[0;34m\u001b[0m\u001b[0;34m\u001b[0m\u001b[0m\n\u001b[0;32m----> 6\u001b[0;31m   \u001b[0mresult\u001b[0m \u001b[0;34m=\u001b[0m \u001b[0mfill_mask\u001b[0m\u001b[0;34m(\u001b[0m\u001b[0mj\u001b[0m\u001b[0;34m)\u001b[0m\u001b[0;34m\u001b[0m\u001b[0;34m\u001b[0m\u001b[0m\n\u001b[0m\u001b[1;32m      7\u001b[0m \u001b[0;34m\u001b[0m\u001b[0m\n\u001b[1;32m      8\u001b[0m \u001b[0;34m\u001b[0m\u001b[0m\n",
            "\u001b[0;32m/usr/local/lib/python3.8/dist-packages/transformers/pipelines/fill_mask.py\u001b[0m in \u001b[0;36m__call__\u001b[0;34m(self, inputs, *args, **kwargs)\u001b[0m\n\u001b[1;32m    237\u001b[0m             \u001b[0;34m-\u001b[0m \u001b[0;34m**\u001b[0m\u001b[0mtoken\u001b[0m\u001b[0;34m**\u001b[0m \u001b[0;34m(\u001b[0m\u001b[0;31m`\u001b[0m\u001b[0mstr\u001b[0m\u001b[0;31m`\u001b[0m\u001b[0;34m)\u001b[0m \u001b[0;34m-\u001b[0m\u001b[0;34m-\u001b[0m \u001b[0mThe\u001b[0m \u001b[0mpredicted\u001b[0m \u001b[0mtoken\u001b[0m \u001b[0;34m(\u001b[0m\u001b[0mto\u001b[0m \u001b[0mreplace\u001b[0m \u001b[0mthe\u001b[0m \u001b[0mmasked\u001b[0m \u001b[0mone\u001b[0m\u001b[0;34m)\u001b[0m\u001b[0;34m.\u001b[0m\u001b[0;34m\u001b[0m\u001b[0;34m\u001b[0m\u001b[0m\n\u001b[1;32m    238\u001b[0m         \"\"\"\n\u001b[0;32m--> 239\u001b[0;31m         \u001b[0moutputs\u001b[0m \u001b[0;34m=\u001b[0m \u001b[0msuper\u001b[0m\u001b[0;34m(\u001b[0m\u001b[0;34m)\u001b[0m\u001b[0;34m.\u001b[0m\u001b[0m__call__\u001b[0m\u001b[0;34m(\u001b[0m\u001b[0minputs\u001b[0m\u001b[0;34m,\u001b[0m \u001b[0;34m**\u001b[0m\u001b[0mkwargs\u001b[0m\u001b[0;34m)\u001b[0m\u001b[0;34m\u001b[0m\u001b[0;34m\u001b[0m\u001b[0m\n\u001b[0m\u001b[1;32m    240\u001b[0m         \u001b[0;32mif\u001b[0m \u001b[0misinstance\u001b[0m\u001b[0;34m(\u001b[0m\u001b[0minputs\u001b[0m\u001b[0;34m,\u001b[0m \u001b[0mlist\u001b[0m\u001b[0;34m)\u001b[0m \u001b[0;32mand\u001b[0m \u001b[0mlen\u001b[0m\u001b[0;34m(\u001b[0m\u001b[0minputs\u001b[0m\u001b[0;34m)\u001b[0m \u001b[0;34m==\u001b[0m \u001b[0;36m1\u001b[0m\u001b[0;34m:\u001b[0m\u001b[0;34m\u001b[0m\u001b[0;34m\u001b[0m\u001b[0m\n\u001b[1;32m    241\u001b[0m             \u001b[0;32mreturn\u001b[0m \u001b[0moutputs\u001b[0m\u001b[0;34m[\u001b[0m\u001b[0;36m0\u001b[0m\u001b[0;34m]\u001b[0m\u001b[0;34m\u001b[0m\u001b[0;34m\u001b[0m\u001b[0m\n",
            "\u001b[0;32m/usr/local/lib/python3.8/dist-packages/transformers/pipelines/base.py\u001b[0m in \u001b[0;36m__call__\u001b[0;34m(self, inputs, num_workers, batch_size, *args, **kwargs)\u001b[0m\n\u001b[1;32m   1061\u001b[0m                     \u001b[0minputs\u001b[0m\u001b[0;34m,\u001b[0m \u001b[0mnum_workers\u001b[0m\u001b[0;34m,\u001b[0m \u001b[0mbatch_size\u001b[0m\u001b[0;34m,\u001b[0m \u001b[0mpreprocess_params\u001b[0m\u001b[0;34m,\u001b[0m \u001b[0mforward_params\u001b[0m\u001b[0;34m,\u001b[0m \u001b[0mpostprocess_params\u001b[0m\u001b[0;34m\u001b[0m\u001b[0;34m\u001b[0m\u001b[0m\n\u001b[1;32m   1062\u001b[0m                 )\n\u001b[0;32m-> 1063\u001b[0;31m                 \u001b[0moutputs\u001b[0m \u001b[0;34m=\u001b[0m \u001b[0;34m[\u001b[0m\u001b[0moutput\u001b[0m \u001b[0;32mfor\u001b[0m \u001b[0moutput\u001b[0m \u001b[0;32min\u001b[0m \u001b[0mfinal_iterator\u001b[0m\u001b[0;34m]\u001b[0m\u001b[0;34m\u001b[0m\u001b[0;34m\u001b[0m\u001b[0m\n\u001b[0m\u001b[1;32m   1064\u001b[0m                 \u001b[0;32mreturn\u001b[0m \u001b[0moutputs\u001b[0m\u001b[0;34m\u001b[0m\u001b[0;34m\u001b[0m\u001b[0m\n\u001b[1;32m   1065\u001b[0m             \u001b[0;32melse\u001b[0m\u001b[0;34m:\u001b[0m\u001b[0;34m\u001b[0m\u001b[0;34m\u001b[0m\u001b[0m\n",
            "\u001b[0;32m/usr/local/lib/python3.8/dist-packages/transformers/pipelines/base.py\u001b[0m in \u001b[0;36m<listcomp>\u001b[0;34m(.0)\u001b[0m\n\u001b[1;32m   1061\u001b[0m                     \u001b[0minputs\u001b[0m\u001b[0;34m,\u001b[0m \u001b[0mnum_workers\u001b[0m\u001b[0;34m,\u001b[0m \u001b[0mbatch_size\u001b[0m\u001b[0;34m,\u001b[0m \u001b[0mpreprocess_params\u001b[0m\u001b[0;34m,\u001b[0m \u001b[0mforward_params\u001b[0m\u001b[0;34m,\u001b[0m \u001b[0mpostprocess_params\u001b[0m\u001b[0;34m\u001b[0m\u001b[0;34m\u001b[0m\u001b[0m\n\u001b[1;32m   1062\u001b[0m                 )\n\u001b[0;32m-> 1063\u001b[0;31m                 \u001b[0moutputs\u001b[0m \u001b[0;34m=\u001b[0m \u001b[0;34m[\u001b[0m\u001b[0moutput\u001b[0m \u001b[0;32mfor\u001b[0m \u001b[0moutput\u001b[0m \u001b[0;32min\u001b[0m \u001b[0mfinal_iterator\u001b[0m\u001b[0;34m]\u001b[0m\u001b[0;34m\u001b[0m\u001b[0;34m\u001b[0m\u001b[0m\n\u001b[0m\u001b[1;32m   1064\u001b[0m                 \u001b[0;32mreturn\u001b[0m \u001b[0moutputs\u001b[0m\u001b[0;34m\u001b[0m\u001b[0;34m\u001b[0m\u001b[0m\n\u001b[1;32m   1065\u001b[0m             \u001b[0;32melse\u001b[0m\u001b[0;34m:\u001b[0m\u001b[0;34m\u001b[0m\u001b[0;34m\u001b[0m\u001b[0m\n",
            "\u001b[0;32m/usr/local/lib/python3.8/dist-packages/transformers/pipelines/pt_utils.py\u001b[0m in \u001b[0;36m__next__\u001b[0;34m(self)\u001b[0m\n\u001b[1;32m    123\u001b[0m         \u001b[0;31m# We're out of items within a batch\u001b[0m\u001b[0;34m\u001b[0m\u001b[0;34m\u001b[0m\u001b[0;34m\u001b[0m\u001b[0m\n\u001b[1;32m    124\u001b[0m         \u001b[0mitem\u001b[0m \u001b[0;34m=\u001b[0m \u001b[0mnext\u001b[0m\u001b[0;34m(\u001b[0m\u001b[0mself\u001b[0m\u001b[0;34m.\u001b[0m\u001b[0miterator\u001b[0m\u001b[0;34m)\u001b[0m\u001b[0;34m\u001b[0m\u001b[0;34m\u001b[0m\u001b[0m\n\u001b[0;32m--> 125\u001b[0;31m         \u001b[0mprocessed\u001b[0m \u001b[0;34m=\u001b[0m \u001b[0mself\u001b[0m\u001b[0;34m.\u001b[0m\u001b[0minfer\u001b[0m\u001b[0;34m(\u001b[0m\u001b[0mitem\u001b[0m\u001b[0;34m,\u001b[0m \u001b[0;34m**\u001b[0m\u001b[0mself\u001b[0m\u001b[0;34m.\u001b[0m\u001b[0mparams\u001b[0m\u001b[0;34m)\u001b[0m\u001b[0;34m\u001b[0m\u001b[0;34m\u001b[0m\u001b[0m\n\u001b[0m\u001b[1;32m    126\u001b[0m         \u001b[0;31m# We now have a batch of \"inferred things\".\u001b[0m\u001b[0;34m\u001b[0m\u001b[0;34m\u001b[0m\u001b[0;34m\u001b[0m\u001b[0m\n\u001b[1;32m    127\u001b[0m         \u001b[0;32mif\u001b[0m \u001b[0mself\u001b[0m\u001b[0;34m.\u001b[0m\u001b[0mloader_batch_size\u001b[0m \u001b[0;32mis\u001b[0m \u001b[0;32mnot\u001b[0m \u001b[0;32mNone\u001b[0m\u001b[0;34m:\u001b[0m\u001b[0;34m\u001b[0m\u001b[0;34m\u001b[0m\u001b[0m\n",
            "\u001b[0;32m/usr/local/lib/python3.8/dist-packages/transformers/pipelines/fill_mask.py\u001b[0m in \u001b[0;36mpostprocess\u001b[0;34m(self, model_outputs, top_k, target_ids)\u001b[0m\n\u001b[1;32m    150\u001b[0m                 \u001b[0;31m# For multi masks though, the other [MASK] would be removed otherwise\u001b[0m\u001b[0;34m\u001b[0m\u001b[0;34m\u001b[0m\u001b[0;34m\u001b[0m\u001b[0m\n\u001b[1;32m    151\u001b[0m                 \u001b[0;31m# making the output look odd, so we add them back\u001b[0m\u001b[0;34m\u001b[0m\u001b[0;34m\u001b[0m\u001b[0;34m\u001b[0m\u001b[0m\n\u001b[0;32m--> 152\u001b[0;31m                 \u001b[0msequence\u001b[0m \u001b[0;34m=\u001b[0m \u001b[0mself\u001b[0m\u001b[0;34m.\u001b[0m\u001b[0mtokenizer\u001b[0m\u001b[0;34m.\u001b[0m\u001b[0mdecode\u001b[0m\u001b[0;34m(\u001b[0m\u001b[0mtokens\u001b[0m\u001b[0;34m,\u001b[0m \u001b[0mskip_special_tokens\u001b[0m\u001b[0;34m=\u001b[0m\u001b[0msingle_mask\u001b[0m\u001b[0;34m)\u001b[0m\u001b[0;34m\u001b[0m\u001b[0;34m\u001b[0m\u001b[0m\n\u001b[0m\u001b[1;32m    153\u001b[0m                 \u001b[0mproposition\u001b[0m \u001b[0;34m=\u001b[0m \u001b[0;34m{\u001b[0m\u001b[0;34m\"score\"\u001b[0m\u001b[0;34m:\u001b[0m \u001b[0mv\u001b[0m\u001b[0;34m,\u001b[0m \u001b[0;34m\"token\"\u001b[0m\u001b[0;34m:\u001b[0m \u001b[0mp\u001b[0m\u001b[0;34m,\u001b[0m \u001b[0;34m\"token_str\"\u001b[0m\u001b[0;34m:\u001b[0m \u001b[0mself\u001b[0m\u001b[0;34m.\u001b[0m\u001b[0mtokenizer\u001b[0m\u001b[0;34m.\u001b[0m\u001b[0mdecode\u001b[0m\u001b[0;34m(\u001b[0m\u001b[0;34m[\u001b[0m\u001b[0mp\u001b[0m\u001b[0;34m]\u001b[0m\u001b[0;34m)\u001b[0m\u001b[0;34m,\u001b[0m \u001b[0;34m\"sequence\"\u001b[0m\u001b[0;34m:\u001b[0m \u001b[0msequence\u001b[0m\u001b[0;34m}\u001b[0m\u001b[0;34m\u001b[0m\u001b[0;34m\u001b[0m\u001b[0m\n\u001b[1;32m    154\u001b[0m                 \u001b[0mrow\u001b[0m\u001b[0;34m.\u001b[0m\u001b[0mappend\u001b[0m\u001b[0;34m(\u001b[0m\u001b[0mproposition\u001b[0m\u001b[0;34m)\u001b[0m\u001b[0;34m\u001b[0m\u001b[0;34m\u001b[0m\u001b[0m\n",
            "\u001b[0;32m/usr/local/lib/python3.8/dist-packages/transformers/tokenization_utils_base.py\u001b[0m in \u001b[0;36mdecode\u001b[0;34m(self, token_ids, skip_special_tokens, clean_up_tokenization_spaces, **kwargs)\u001b[0m\n\u001b[1;32m   3466\u001b[0m         \u001b[0mtoken_ids\u001b[0m \u001b[0;34m=\u001b[0m \u001b[0mto_py_obj\u001b[0m\u001b[0;34m(\u001b[0m\u001b[0mtoken_ids\u001b[0m\u001b[0;34m)\u001b[0m\u001b[0;34m\u001b[0m\u001b[0;34m\u001b[0m\u001b[0m\n\u001b[1;32m   3467\u001b[0m \u001b[0;34m\u001b[0m\u001b[0m\n\u001b[0;32m-> 3468\u001b[0;31m         return self._decode(\n\u001b[0m\u001b[1;32m   3469\u001b[0m             \u001b[0mtoken_ids\u001b[0m\u001b[0;34m=\u001b[0m\u001b[0mtoken_ids\u001b[0m\u001b[0;34m,\u001b[0m\u001b[0;34m\u001b[0m\u001b[0;34m\u001b[0m\u001b[0m\n\u001b[1;32m   3470\u001b[0m             \u001b[0mskip_special_tokens\u001b[0m\u001b[0;34m=\u001b[0m\u001b[0mskip_special_tokens\u001b[0m\u001b[0;34m,\u001b[0m\u001b[0;34m\u001b[0m\u001b[0;34m\u001b[0m\u001b[0m\n",
            "\u001b[0;32m/usr/local/lib/python3.8/dist-packages/transformers/tokenization_utils.py\u001b[0m in \u001b[0;36m_decode\u001b[0;34m(self, token_ids, skip_special_tokens, clean_up_tokenization_spaces, spaces_between_special_tokens, **kwargs)\u001b[0m\n\u001b[1;32m    937\u001b[0m         \u001b[0mcurrent_sub_text\u001b[0m \u001b[0;34m=\u001b[0m \u001b[0;34m[\u001b[0m\u001b[0;34m]\u001b[0m\u001b[0;34m\u001b[0m\u001b[0;34m\u001b[0m\u001b[0m\n\u001b[1;32m    938\u001b[0m         \u001b[0;32mfor\u001b[0m \u001b[0mtoken\u001b[0m \u001b[0;32min\u001b[0m \u001b[0mfiltered_tokens\u001b[0m\u001b[0;34m:\u001b[0m\u001b[0;34m\u001b[0m\u001b[0;34m\u001b[0m\u001b[0m\n\u001b[0;32m--> 939\u001b[0;31m             \u001b[0;32mif\u001b[0m \u001b[0mskip_special_tokens\u001b[0m \u001b[0;32mand\u001b[0m \u001b[0mtoken\u001b[0m \u001b[0;32min\u001b[0m \u001b[0mself\u001b[0m\u001b[0;34m.\u001b[0m\u001b[0mall_special_ids\u001b[0m\u001b[0;34m:\u001b[0m\u001b[0;34m\u001b[0m\u001b[0;34m\u001b[0m\u001b[0m\n\u001b[0m\u001b[1;32m    940\u001b[0m                 \u001b[0;32mcontinue\u001b[0m\u001b[0;34m\u001b[0m\u001b[0;34m\u001b[0m\u001b[0m\n\u001b[1;32m    941\u001b[0m             \u001b[0;32mif\u001b[0m \u001b[0mtoken\u001b[0m \u001b[0;32min\u001b[0m \u001b[0mself\u001b[0m\u001b[0;34m.\u001b[0m\u001b[0madded_tokens_encoder\u001b[0m\u001b[0;34m:\u001b[0m\u001b[0;34m\u001b[0m\u001b[0;34m\u001b[0m\u001b[0m\n",
            "\u001b[0;32m/usr/local/lib/python3.8/dist-packages/transformers/tokenization_utils_base.py\u001b[0m in \u001b[0;36mall_special_ids\u001b[0;34m(self)\u001b[0m\n\u001b[1;32m   1295\u001b[0m         \u001b[0;31m`\u001b[0m\u001b[0mList\u001b[0m\u001b[0;34m[\u001b[0m\u001b[0mint\u001b[0m\u001b[0;34m]\u001b[0m\u001b[0;31m`\u001b[0m\u001b[0;34m:\u001b[0m \u001b[0mList\u001b[0m \u001b[0mthe\u001b[0m \u001b[0mids\u001b[0m \u001b[0mof\u001b[0m \u001b[0mthe\u001b[0m \u001b[0mspecial\u001b[0m \u001b[0mtokens\u001b[0m\u001b[0;34m(\u001b[0m\u001b[0;31m`\u001b[0m\u001b[0;34m'<unk>'\u001b[0m\u001b[0;31m`\u001b[0m\u001b[0;34m,\u001b[0m\u001b[0;31m \u001b[0m\u001b[0;31m`\u001b[0m\u001b[0;34m'<cls>'\u001b[0m\u001b[0;31m`\u001b[0m\u001b[0;34m,\u001b[0m \u001b[0metc\u001b[0m\u001b[0;34m.\u001b[0m\u001b[0;34m)\u001b[0m \u001b[0mmapped\u001b[0m \u001b[0mto\u001b[0m \u001b[0;32mclass\u001b[0m \u001b[0mattributes\u001b[0m\u001b[0;34m.\u001b[0m\u001b[0;34m\u001b[0m\u001b[0;34m\u001b[0m\u001b[0m\n\u001b[1;32m   1296\u001b[0m         \"\"\"\n\u001b[0;32m-> 1297\u001b[0;31m         \u001b[0mall_toks\u001b[0m \u001b[0;34m=\u001b[0m \u001b[0mself\u001b[0m\u001b[0;34m.\u001b[0m\u001b[0mall_special_tokens\u001b[0m\u001b[0;34m\u001b[0m\u001b[0;34m\u001b[0m\u001b[0m\n\u001b[0m\u001b[1;32m   1298\u001b[0m         \u001b[0mall_ids\u001b[0m \u001b[0;34m=\u001b[0m \u001b[0mself\u001b[0m\u001b[0;34m.\u001b[0m\u001b[0mconvert_tokens_to_ids\u001b[0m\u001b[0;34m(\u001b[0m\u001b[0mall_toks\u001b[0m\u001b[0;34m)\u001b[0m\u001b[0;34m\u001b[0m\u001b[0;34m\u001b[0m\u001b[0m\n\u001b[1;32m   1299\u001b[0m         \u001b[0;32mreturn\u001b[0m \u001b[0mall_ids\u001b[0m\u001b[0;34m\u001b[0m\u001b[0;34m\u001b[0m\u001b[0m\n",
            "\u001b[0;32m/usr/local/lib/python3.8/dist-packages/transformers/tokenization_utils_base.py\u001b[0m in \u001b[0;36mall_special_tokens\u001b[0;34m(self)\u001b[0m\n\u001b[1;32m   1271\u001b[0m         \u001b[0mConvert\u001b[0m \u001b[0mtokens\u001b[0m \u001b[0mof\u001b[0m\u001b[0;31m \u001b[0m\u001b[0;31m`\u001b[0m\u001b[0mtokenizers\u001b[0m\u001b[0;34m.\u001b[0m\u001b[0mAddedToken\u001b[0m\u001b[0;31m`\u001b[0m \u001b[0mtype\u001b[0m \u001b[0mto\u001b[0m \u001b[0mstring\u001b[0m\u001b[0;34m.\u001b[0m\u001b[0;34m\u001b[0m\u001b[0;34m\u001b[0m\u001b[0m\n\u001b[1;32m   1272\u001b[0m         \"\"\"\n\u001b[0;32m-> 1273\u001b[0;31m         \u001b[0mall_toks\u001b[0m \u001b[0;34m=\u001b[0m \u001b[0;34m[\u001b[0m\u001b[0mstr\u001b[0m\u001b[0;34m(\u001b[0m\u001b[0ms\u001b[0m\u001b[0;34m)\u001b[0m \u001b[0;32mfor\u001b[0m \u001b[0ms\u001b[0m \u001b[0;32min\u001b[0m \u001b[0mself\u001b[0m\u001b[0;34m.\u001b[0m\u001b[0mall_special_tokens_extended\u001b[0m\u001b[0;34m]\u001b[0m\u001b[0;34m\u001b[0m\u001b[0;34m\u001b[0m\u001b[0m\n\u001b[0m\u001b[1;32m   1274\u001b[0m         \u001b[0;32mreturn\u001b[0m \u001b[0mall_toks\u001b[0m\u001b[0;34m\u001b[0m\u001b[0;34m\u001b[0m\u001b[0m\n\u001b[1;32m   1275\u001b[0m \u001b[0;34m\u001b[0m\u001b[0m\n",
            "\u001b[0;32m/usr/local/lib/python3.8/dist-packages/transformers/tokenization_utils_base.py\u001b[0m in \u001b[0;36mall_special_tokens_extended\u001b[0;34m(self)\u001b[0m\n\u001b[1;32m   1284\u001b[0m         \"\"\"\n\u001b[1;32m   1285\u001b[0m         \u001b[0mall_toks\u001b[0m \u001b[0;34m=\u001b[0m \u001b[0;34m[\u001b[0m\u001b[0;34m]\u001b[0m\u001b[0;34m\u001b[0m\u001b[0;34m\u001b[0m\u001b[0m\n\u001b[0;32m-> 1286\u001b[0;31m         \u001b[0mset_attr\u001b[0m \u001b[0;34m=\u001b[0m \u001b[0mself\u001b[0m\u001b[0;34m.\u001b[0m\u001b[0mspecial_tokens_map_extended\u001b[0m\u001b[0;34m\u001b[0m\u001b[0;34m\u001b[0m\u001b[0m\n\u001b[0m\u001b[1;32m   1287\u001b[0m         \u001b[0;32mfor\u001b[0m \u001b[0mattr_value\u001b[0m \u001b[0;32min\u001b[0m \u001b[0mset_attr\u001b[0m\u001b[0;34m.\u001b[0m\u001b[0mvalues\u001b[0m\u001b[0;34m(\u001b[0m\u001b[0;34m)\u001b[0m\u001b[0;34m:\u001b[0m\u001b[0;34m\u001b[0m\u001b[0;34m\u001b[0m\u001b[0m\n\u001b[1;32m   1288\u001b[0m             \u001b[0mall_toks\u001b[0m \u001b[0;34m=\u001b[0m \u001b[0mall_toks\u001b[0m \u001b[0;34m+\u001b[0m \u001b[0;34m(\u001b[0m\u001b[0mlist\u001b[0m\u001b[0;34m(\u001b[0m\u001b[0mattr_value\u001b[0m\u001b[0;34m)\u001b[0m \u001b[0;32mif\u001b[0m \u001b[0misinstance\u001b[0m\u001b[0;34m(\u001b[0m\u001b[0mattr_value\u001b[0m\u001b[0;34m,\u001b[0m \u001b[0;34m(\u001b[0m\u001b[0mlist\u001b[0m\u001b[0;34m,\u001b[0m \u001b[0mtuple\u001b[0m\u001b[0;34m)\u001b[0m\u001b[0;34m)\u001b[0m \u001b[0;32melse\u001b[0m \u001b[0;34m[\u001b[0m\u001b[0mattr_value\u001b[0m\u001b[0;34m]\u001b[0m\u001b[0;34m)\u001b[0m\u001b[0;34m\u001b[0m\u001b[0;34m\u001b[0m\u001b[0m\n",
            "\u001b[0;32m/usr/local/lib/python3.8/dist-packages/transformers/tokenization_utils_base.py\u001b[0m in \u001b[0;36mspecial_tokens_map_extended\u001b[0;34m(self)\u001b[0m\n\u001b[1;32m   1248\u001b[0m         \u001b[0;32mreturn\u001b[0m \u001b[0mset_attr\u001b[0m\u001b[0;34m\u001b[0m\u001b[0;34m\u001b[0m\u001b[0m\n\u001b[1;32m   1249\u001b[0m \u001b[0;34m\u001b[0m\u001b[0m\n\u001b[0;32m-> 1250\u001b[0;31m     \u001b[0;34m@\u001b[0m\u001b[0mproperty\u001b[0m\u001b[0;34m\u001b[0m\u001b[0;34m\u001b[0m\u001b[0m\n\u001b[0m\u001b[1;32m   1251\u001b[0m     \u001b[0;32mdef\u001b[0m \u001b[0mspecial_tokens_map_extended\u001b[0m\u001b[0;34m(\u001b[0m\u001b[0mself\u001b[0m\u001b[0;34m)\u001b[0m \u001b[0;34m->\u001b[0m \u001b[0mDict\u001b[0m\u001b[0;34m[\u001b[0m\u001b[0mstr\u001b[0m\u001b[0;34m,\u001b[0m \u001b[0mUnion\u001b[0m\u001b[0;34m[\u001b[0m\u001b[0mstr\u001b[0m\u001b[0;34m,\u001b[0m \u001b[0mAddedToken\u001b[0m\u001b[0;34m,\u001b[0m \u001b[0mList\u001b[0m\u001b[0;34m[\u001b[0m\u001b[0mUnion\u001b[0m\u001b[0;34m[\u001b[0m\u001b[0mstr\u001b[0m\u001b[0;34m,\u001b[0m \u001b[0mAddedToken\u001b[0m\u001b[0;34m]\u001b[0m\u001b[0;34m]\u001b[0m\u001b[0;34m]\u001b[0m\u001b[0;34m]\u001b[0m\u001b[0;34m:\u001b[0m\u001b[0;34m\u001b[0m\u001b[0;34m\u001b[0m\u001b[0m\n\u001b[1;32m   1252\u001b[0m         \"\"\"\n",
            "\u001b[0;31mKeyboardInterrupt\u001b[0m: "
          ]
        }
      ]
    },
    {
      "cell_type": "code",
      "source": [
        "print(count,len(test_input))\n",
        "print(count/len(test_input))"
      ],
      "metadata": {
        "id": "JcO9MZCqP099"
      },
      "execution_count": null,
      "outputs": []
    },
    {
      "cell_type": "code",
      "source": [
        "for i in correctAnswer:\n",
        "  print(i)"
      ],
      "metadata": {
        "id": "jVKVbjIEP282"
      },
      "execution_count": null,
      "outputs": []
    }
  ]
}